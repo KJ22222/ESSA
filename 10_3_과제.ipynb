{
  "nbformat": 4,
  "nbformat_minor": 0,
  "metadata": {
    "colab": {
      "provenance": [],
      "collapsed_sections": [],
      "authorship_tag": "ABX9TyMl/kKcQtuODy47STNeeCtT",
      "include_colab_link": true
    },
    "kernelspec": {
      "name": "python3",
      "display_name": "Python 3"
    },
    "language_info": {
      "name": "python"
    }
  },
  "cells": [
    {
      "cell_type": "markdown",
      "metadata": {
        "id": "view-in-github",
        "colab_type": "text"
      },
      "source": [
        "<a href=\"https://colab.research.google.com/github/KJ22222/ESSA/blob/main/10_3_%EA%B3%BC%EC%A0%9C.ipynb\" target=\"_parent\"><img src=\"https://colab.research.google.com/assets/colab-badge.svg\" alt=\"Open In Colab\"/></a>"
      ]
    },
    {
      "cell_type": "markdown",
      "source": [
        "#라이브러리"
      ],
      "metadata": {
        "id": "xx7n_Wn8-PHK"
      }
    },
    {
      "cell_type": "code",
      "source": [
        "# Python ≥3.5 is required\n",
        "import sys\n",
        "assert sys.version_info >= (3, 5)\n",
        "\n",
        "# Scikit-Learn ≥0.20 is required\n",
        "import sklearn\n",
        "assert sklearn.__version__ >= \"0.20\"\n",
        "\n",
        "# Common imports\n",
        "import numpy as np\n",
        "import os\n",
        "\n",
        "# to make this notebook's output stable across runs\n",
        "np.random.seed(42)\n",
        "\n",
        "# To plot pretty figures\n",
        "%matplotlib inline\n",
        "import matplotlib as mpl\n",
        "import matplotlib.pyplot as plt\n",
        "mpl.rc('axes', labelsize=14)\n",
        "mpl.rc('xtick', labelsize=12)\n",
        "mpl.rc('ytick', labelsize=12)\n",
        "\n",
        "# Where to save the figures\n",
        "PROJECT_ROOT_DIR = \".\"\n",
        "CHAPTER_ID = \"unsupervised_learning\"\n",
        "IMAGES_PATH = os.path.join(PROJECT_ROOT_DIR, \"images\", CHAPTER_ID)\n",
        "os.makedirs(IMAGES_PATH, exist_ok=True)\n",
        "\n",
        "def save_fig(fig_id, tight_layout=True, fig_extension=\"png\", resolution=300):\n",
        "    path = os.path.join(IMAGES_PATH, fig_id + \".\" + fig_extension)\n",
        "    print(\"Saving figure\", fig_id)\n",
        "    if tight_layout:\n",
        "        plt.tight_layout()\n",
        "    plt.savefig(path, format=fig_extension, dpi=resolution)"
      ],
      "metadata": {
        "id": "j2TAqmc2-Mmb"
      },
      "execution_count": 3,
      "outputs": []
    },
    {
      "cell_type": "markdown",
      "source": [
        "#9장 비지도 학습\n",
        "- 군집화\n",
        "- k-평균\n",
        "- DBSCAN\n",
        "- 가우시안 혼합"
      ],
      "metadata": {
        "id": "w-ZMgP9a7pSz"
      }
    },
    {
      "cell_type": "markdown",
      "source": [
        "#9.1 군집\n",
        "- 비슷한 샘플을 구별해 하나의 클러스터 또는 비슷한 샘플의 그룹으로 할당하는 작업\n",
        "- 보편적인 알고리즘은 없음\n",
        "- 레이블이 없는데 만드는 것임"
      ],
      "metadata": {
        "id": "ng0SLg_981zh"
      }
    },
    {
      "cell_type": "markdown",
      "source": [
        "###9.1.1 k-평균\n",
        "- 반복 몇 번으로 이런 종류의 데이터셋을 빠르고 효율적으로 클러스터로 묶을 수 있는 간단한 알고리즘\n",
        "- 각 클러스터의 중심(센트로이드)을 찾고 가장 가까운 클러스터에 샘플을 할당"
      ],
      "metadata": {
        "id": "hHZ0O7ag9gj_"
      }
    },
    {
      "cell_type": "code",
      "source": [
        "\n",
        "blob_centers = np.array(\n",
        "    [[ 0.2,  2.3],\n",
        "     [-1.5 ,  2.3],\n",
        "     [-2.8,  1.8],\n",
        "     [-2.8,  2.8],\n",
        "     [-2.8,  1.3]])\n",
        "\n",
        "blob_std = np.array([0.4, 0.3, 0.1, 0.1, 0.1])"
      ],
      "metadata": {
        "id": "NuLKjidg-JLK"
      },
      "execution_count": 4,
      "outputs": []
    },
    {
      "cell_type": "code",
      "source": [
        "from sklearn.datasets import make_blobs\n",
        "X, _ = make_blobs(n_samples=2000, centers=blob_centers,\n",
        "                  cluster_std=blob_std, random_state=7)"
      ],
      "metadata": {
        "id": "i9iYFbri-CT2"
      },
      "execution_count": 5,
      "outputs": []
    },
    {
      "cell_type": "code",
      "execution_count": 6,
      "metadata": {
        "id": "X6VV396V7lhN"
      },
      "outputs": [],
      "source": [
        "from sklearn.cluster import KMeans"
      ]
    },
    {
      "cell_type": "code",
      "source": [
        "k = 5\n",
        "kmeans = KMeans(n_clusters=k, random_state=42)\n",
        "kmeans.fit(X)"
      ],
      "metadata": {
        "colab": {
          "base_uri": "https://localhost:8080/"
        },
        "id": "gLUqJWdL94RA",
        "outputId": "ee8af461-2836-4279-fa5f-a7c2a13e275a"
      },
      "execution_count": 7,
      "outputs": [
        {
          "output_type": "execute_result",
          "data": {
            "text/plain": [
              "KMeans(n_clusters=5, random_state=42)"
            ]
          },
          "metadata": {},
          "execution_count": 7
        }
      ]
    },
    {
      "cell_type": "markdown",
      "source": [
        "알고리즘이 찾을 클러스터의 개수 K개를 지정해야함"
      ],
      "metadata": {
        "id": "FNeAMSrt98RJ"
      }
    },
    {
      "cell_type": "code",
      "source": [
        "kmeans.labels_"
      ],
      "metadata": {
        "colab": {
          "base_uri": "https://localhost:8080/"
        },
        "id": "Jciu66D7-iap",
        "outputId": "695eca64-dc8c-47a9-ae61-31a57963b8cd"
      },
      "execution_count": 8,
      "outputs": [
        {
          "output_type": "execute_result",
          "data": {
            "text/plain": [
              "array([4, 0, 1, ..., 2, 1, 0], dtype=int32)"
            ]
          },
          "metadata": {},
          "execution_count": 8
        }
      ]
    },
    {
      "cell_type": "code",
      "source": [
        "kmeans.cluster_centers_"
      ],
      "metadata": {
        "colab": {
          "base_uri": "https://localhost:8080/"
        },
        "id": "sUGYr46_-l__",
        "outputId": "8e2cd2f6-2e3b-43f3-b038-6692d3543bcf"
      },
      "execution_count": 9,
      "outputs": [
        {
          "output_type": "execute_result",
          "data": {
            "text/plain": [
              "array([[-2.80389616,  1.80117999],\n",
              "       [ 0.20876306,  2.25551336],\n",
              "       [-2.79290307,  2.79641063],\n",
              "       [-1.46679593,  2.28585348],\n",
              "       [-2.80037642,  1.30082566]])"
            ]
          },
          "metadata": {},
          "execution_count": 9
        }
      ]
    },
    {
      "cell_type": "code",
      "source": [
        "X_new = np.array([[0, 2], [3, 2], [-3, 3], [-3, 2.5]])\n",
        "\n",
        "kmeans.predict(X_new)"
      ],
      "metadata": {
        "colab": {
          "base_uri": "https://localhost:8080/"
        },
        "id": "9C_YZK5O-rfU",
        "outputId": "253741ce-9536-49b2-cc53-9554ed3d824b"
      },
      "execution_count": 10,
      "outputs": [
        {
          "output_type": "execute_result",
          "data": {
            "text/plain": [
              "array([1, 1, 2, 2], dtype=int32)"
            ]
          },
          "metadata": {},
          "execution_count": 10
        }
      ]
    },
    {
      "cell_type": "markdown",
      "source": [
        "####소프트 군집\n",
        "- 샘플과 각 군집 사이의 관계를 점수로 부여"
      ],
      "metadata": {
        "id": "NGCI5Fq4_Fqj"
      }
    },
    {
      "cell_type": "code",
      "source": [
        "kmeans.transform(X_new)"
      ],
      "metadata": {
        "colab": {
          "base_uri": "https://localhost:8080/"
        },
        "id": "JMcC7FUr_Esu",
        "outputId": "b8b9a639-3061-46ee-84a2-2041cde1f971"
      },
      "execution_count": 11,
      "outputs": [
        {
          "output_type": "execute_result",
          "data": {
            "text/plain": [
              "array([[2.81093633, 0.32995317, 2.9042344 , 1.49439034, 2.88633901],\n",
              "       [5.80730058, 2.80290755, 5.84739223, 4.4759332 , 5.84236351],\n",
              "       [1.21475352, 3.29399768, 0.29040966, 1.69136631, 1.71086031],\n",
              "       [0.72581411, 3.21806371, 0.36159148, 1.54808703, 1.21567622]])"
            ]
          },
          "metadata": {},
          "execution_count": 11
        }
      ]
    },
    {
      "cell_type": "markdown",
      "source": [
        "####k-평균 알고리즘"
      ],
      "metadata": {
        "id": "t-kNvH7r_M6G"
      }
    },
    {
      "cell_type": "markdown",
      "source": [
        "- 모든 샘플에 대해 가장 가까운 센트로이드 지정\n",
        "- 각각의 센트로이드와 연결된 샘플들의 평균으로 해당 센트로이도 위치 수"
      ],
      "metadata": {
        "id": "oWGqXE4FBN48"
      }
    },
    {
      "cell_type": "markdown",
      "source": [
        "센트로이드 초기화 방법"
      ],
      "metadata": {
        "id": "eRmRAhcQBcr0"
      }
    },
    {
      "cell_type": "code",
      "source": [
        "good_init = np.array([[-3, 3], [-3, 2], [-3, 1], [-1, 2], [0, 2]])\n",
        "\n",
        "kmeans = KMeans(n_clusters=5, init=good_init, n_init=1, random_state=42)\n",
        "kmeans.fit(X)\n",
        "kmeans.inertia_"
      ],
      "metadata": {
        "colab": {
          "base_uri": "https://localhost:8080/"
        },
        "id": "vudzsSE9_Ogc",
        "outputId": "94d2be19-c3d8-4550-b4df-d35ba7f2d762"
      },
      "execution_count": 12,
      "outputs": [
        {
          "output_type": "execute_result",
          "data": {
            "text/plain": [
              "211.5985372581684"
            ]
          },
          "metadata": {},
          "execution_count": 12
        }
      ]
    },
    {
      "cell_type": "markdown",
      "source": [
        "- n_init 매개변수로 랜던 초기화 횟수를 조절함\n",
        "- 초기화 횟수 중에 최전힁 솔류선을 반환함\n",
        "- 이는 이너셔 라는 성능지표가 가장 낮은걸 사용"
      ],
      "metadata": {
        "id": "FiaC9NHMCrHl"
      }
    },
    {
      "cell_type": "code",
      "source": [
        "kmeans.inertia_"
      ],
      "metadata": {
        "colab": {
          "base_uri": "https://localhost:8080/"
        },
        "id": "FgCO6umVDE_B",
        "outputId": "b9b0637d-bd38-411e-df61-3697ac508461"
      },
      "execution_count": 13,
      "outputs": [
        {
          "output_type": "execute_result",
          "data": {
            "text/plain": [
              "211.5985372581684"
            ]
          },
          "metadata": {},
          "execution_count": 13
        }
      ]
    },
    {
      "cell_type": "code",
      "source": [
        "\n",
        "kmeans.score(X)"
      ],
      "metadata": {
        "colab": {
          "base_uri": "https://localhost:8080/"
        },
        "id": "UP0yXQJpDOot",
        "outputId": "7e47ed89-7ed6-4bcd-c99e-b0c1bb7a18dc"
      },
      "execution_count": 14,
      "outputs": [
        {
          "output_type": "execute_result",
          "data": {
            "text/plain": [
              "-211.59853725816836"
            ]
          },
          "metadata": {},
          "execution_count": 14
        }
      ]
    },
    {
      "cell_type": "markdown",
      "source": [
        "score() 메서드는 관성의 음숫값을 반환한다. 이유는 \"더 높은 점수가 더 좋다\"의 원칙을 따라야 하기 때문이다."
      ],
      "metadata": {
        "id": "7yT1DjeIDQV4"
      }
    },
    {
      "cell_type": "markdown",
      "source": [
        "###k평균 속도 개선과 미니배치 k-평균\n",
        "- 전체 데이터셋을 사용해 반복하지 않고 이 알고리즘은 각 반복마다 미니배치를 사용해 센트로이드를 조금씩 이동 시킴"
      ],
      "metadata": {
        "id": "1FxwEVZIDUHb"
      }
    },
    {
      "cell_type": "code",
      "source": [
        "from sklearn.cluster import MiniBatchKMeans"
      ],
      "metadata": {
        "id": "VDjFWEQeEAmU"
      },
      "execution_count": 15,
      "outputs": []
    },
    {
      "cell_type": "markdown",
      "source": [
        "####최적의 클러스터 개수 찾기\n",
        "- 실루엣 점수로 구함\n",
        "- 이는 실루엣 계수의 평균"
      ],
      "metadata": {
        "id": "pcsD5YqJEN4z"
      }
    },
    {
      "cell_type": "code",
      "source": [
        "from sklearn.metrics import silhouette_score"
      ],
      "metadata": {
        "id": "oH36pa-hEp09"
      },
      "execution_count": 16,
      "outputs": []
    },
    {
      "cell_type": "code",
      "source": [
        "silhouette_score(X, kmeans.labels_)"
      ],
      "metadata": {
        "colab": {
          "base_uri": "https://localhost:8080/"
        },
        "id": "A5uXpIgcEy-r",
        "outputId": "b450c017-3c64-477c-ba3d-00e7dba37cab"
      },
      "execution_count": 17,
      "outputs": [
        {
          "output_type": "execute_result",
          "data": {
            "text/plain": [
              "0.655517642572828"
            ]
          },
          "metadata": {},
          "execution_count": 17
        }
      ]
    },
    {
      "cell_type": "markdown",
      "source": [
        "###9.1.3 군집을 이용한 이미지 분할\n",
        "- 이미지를 세그먼트 여러 개로 분할하는 작업\n",
        "- 시맨틱 분할에서는 동일한 종류의 물체에 속한 모든 픽셀은 같은 세그먼트에 할당"
      ],
      "metadata": {
        "id": "b0YMJPPHFj5R"
      }
    },
    {
      "cell_type": "markdown",
      "source": [
        "색상분할"
      ],
      "metadata": {
        "id": "GykgPexSF2xV"
      }
    },
    {
      "cell_type": "markdown",
      "source": [
        "###9.1.4 군집을 사용한 전처리\n",
        "- 차원 축소에 효과적인 방법"
      ],
      "metadata": {
        "id": "pOEuV6gLGJRr"
      }
    },
    {
      "cell_type": "code",
      "source": [
        "from sklearn.datasets import load_digits\n",
        "\n",
        "X_digits, y_digits = load_digits(return_X_y=True)"
      ],
      "metadata": {
        "id": "QlL8ouiHGRrO"
      },
      "execution_count": 18,
      "outputs": []
    },
    {
      "cell_type": "code",
      "source": [
        "from sklearn.model_selection import train_test_split\n",
        "X_train, X_test, y_train, y_test = train_test_split(X_digits, y_digits, random_state=42)"
      ],
      "metadata": {
        "id": "7z24IrzKGVTT"
      },
      "execution_count": 19,
      "outputs": []
    },
    {
      "cell_type": "code",
      "source": [
        "from sklearn.linear_model import LogisticRegression\n",
        "\n",
        "log_reg = LogisticRegression(multi_class=\"ovr\", solver=\"lbfgs\", max_iter=5000, random_state=42)\n",
        "log_reg.fit(X_train, y_train)"
      ],
      "metadata": {
        "colab": {
          "base_uri": "https://localhost:8080/"
        },
        "id": "LSsxKcRZGYDp",
        "outputId": "25181953-cfc6-443d-8a30-acc970537836"
      },
      "execution_count": 20,
      "outputs": [
        {
          "output_type": "execute_result",
          "data": {
            "text/plain": [
              "LogisticRegression(max_iter=5000, multi_class='ovr', random_state=42)"
            ]
          },
          "metadata": {},
          "execution_count": 20
        }
      ]
    },
    {
      "cell_type": "code",
      "source": [
        "\n",
        "log_reg.score(X_test, y_test)"
      ],
      "metadata": {
        "colab": {
          "base_uri": "https://localhost:8080/"
        },
        "id": "V67LwoVjGbTL",
        "outputId": "c0ed0119-476d-4262-8dd1-f2bec857e615"
      },
      "execution_count": 21,
      "outputs": [
        {
          "output_type": "execute_result",
          "data": {
            "text/plain": [
              "0.9688888888888889"
            ]
          },
          "metadata": {},
          "execution_count": 21
        }
      ]
    },
    {
      "cell_type": "markdown",
      "source": [
        "k-군집으로 전처리 해서 돌려보기"
      ],
      "metadata": {
        "id": "NYsaIyxBGfP1"
      }
    },
    {
      "cell_type": "code",
      "source": [
        "from sklearn.pipeline import Pipeline"
      ],
      "metadata": {
        "id": "pBTAM9U_Ger-"
      },
      "execution_count": 22,
      "outputs": []
    },
    {
      "cell_type": "code",
      "source": [
        "\n",
        "pipeline = Pipeline([\n",
        "    (\"kmeans\", KMeans(n_clusters=50, random_state=42)),\n",
        "    (\"log_reg\", LogisticRegression(multi_class=\"ovr\", solver=\"lbfgs\", max_iter=5000, random_state=42)),\n",
        "])\n",
        "pipeline.fit(X_train, y_train)"
      ],
      "metadata": {
        "colab": {
          "base_uri": "https://localhost:8080/"
        },
        "id": "VBP2yqRIGjrN",
        "outputId": "77c05f9e-bd4f-47e6-d218-8e0464eb9784"
      },
      "execution_count": 23,
      "outputs": [
        {
          "output_type": "execute_result",
          "data": {
            "text/plain": [
              "Pipeline(steps=[('kmeans', KMeans(n_clusters=50, random_state=42)),\n",
              "                ('log_reg',\n",
              "                 LogisticRegression(max_iter=5000, multi_class='ovr',\n",
              "                                    random_state=42))])"
            ]
          },
          "metadata": {},
          "execution_count": 23
        }
      ]
    },
    {
      "cell_type": "code",
      "source": [
        "\n",
        "pipeline.score(X_test, y_test)"
      ],
      "metadata": {
        "colab": {
          "base_uri": "https://localhost:8080/"
        },
        "id": "uGN3KQfvGmjr",
        "outputId": "01867beb-5837-45dc-bea0-9a34ab74de01"
      },
      "execution_count": 24,
      "outputs": [
        {
          "output_type": "execute_result",
          "data": {
            "text/plain": [
              "0.9777777777777777"
            ]
          },
          "metadata": {},
          "execution_count": 24
        }
      ]
    },
    {
      "cell_type": "markdown",
      "source": [
        "최적의 클러스터 개수 k 찾기"
      ],
      "metadata": {
        "id": "qUFl7llWGtj5"
      }
    },
    {
      "cell_type": "code",
      "source": [
        "from sklearn.model_selection import GridSearchCV\n",
        "\n",
        "param_grid = dict(kmeans__n_clusters=range(2, 100))\n",
        "grid_clf = GridSearchCV(pipeline, param_grid, cv=3, verbose=2)\n",
        "grid_clf.fit(X_train, y_train)"
      ],
      "metadata": {
        "colab": {
          "base_uri": "https://localhost:8080/"
        },
        "id": "UKwbu8L-GqM8",
        "outputId": "42c8db02-4480-4735-bda2-ba5dbf2729d4"
      },
      "execution_count": null,
      "outputs": [
        {
          "output_type": "stream",
          "name": "stdout",
          "text": [
            "Fitting 3 folds for each of 98 candidates, totalling 294 fits\n",
            "[CV] END ...............................kmeans__n_clusters=2; total time=   1.2s\n",
            "[CV] END ...............................kmeans__n_clusters=2; total time=   1.0s\n",
            "[CV] END ...............................kmeans__n_clusters=2; total time=   0.5s\n",
            "[CV] END ...............................kmeans__n_clusters=3; total time=   0.3s\n",
            "[CV] END ...............................kmeans__n_clusters=3; total time=   0.5s\n",
            "[CV] END ...............................kmeans__n_clusters=3; total time=   0.4s\n",
            "[CV] END ...............................kmeans__n_clusters=4; total time=   0.4s\n",
            "[CV] END ...............................kmeans__n_clusters=4; total time=   0.4s\n",
            "[CV] END ...............................kmeans__n_clusters=4; total time=   0.5s\n",
            "[CV] END ...............................kmeans__n_clusters=5; total time=   0.5s\n",
            "[CV] END ...............................kmeans__n_clusters=5; total time=   0.4s\n",
            "[CV] END ...............................kmeans__n_clusters=5; total time=   0.5s\n",
            "[CV] END ...............................kmeans__n_clusters=6; total time=   0.6s\n",
            "[CV] END ...............................kmeans__n_clusters=6; total time=   0.6s\n",
            "[CV] END ...............................kmeans__n_clusters=6; total time=   0.7s\n",
            "[CV] END ...............................kmeans__n_clusters=7; total time=   1.1s\n",
            "[CV] END ...............................kmeans__n_clusters=7; total time=   0.6s\n",
            "[CV] END ...............................kmeans__n_clusters=7; total time=   0.5s\n",
            "[CV] END ...............................kmeans__n_clusters=8; total time=   0.7s\n",
            "[CV] END ...............................kmeans__n_clusters=8; total time=   0.9s\n",
            "[CV] END ...............................kmeans__n_clusters=8; total time=   0.7s\n",
            "[CV] END ...............................kmeans__n_clusters=9; total time=   1.0s\n",
            "[CV] END ...............................kmeans__n_clusters=9; total time=   1.0s\n",
            "[CV] END ...............................kmeans__n_clusters=9; total time=   0.8s\n",
            "[CV] END ..............................kmeans__n_clusters=10; total time=   0.9s\n",
            "[CV] END ..............................kmeans__n_clusters=10; total time=   0.9s\n",
            "[CV] END ..............................kmeans__n_clusters=10; total time=   1.2s\n",
            "[CV] END ..............................kmeans__n_clusters=11; total time=   1.6s\n",
            "[CV] END ..............................kmeans__n_clusters=11; total time=   1.9s\n",
            "[CV] END ..............................kmeans__n_clusters=11; total time=   1.5s\n",
            "[CV] END ..............................kmeans__n_clusters=12; total time=   1.7s\n",
            "[CV] END ..............................kmeans__n_clusters=12; total time=   1.7s\n",
            "[CV] END ..............................kmeans__n_clusters=12; total time=   1.9s\n",
            "[CV] END ..............................kmeans__n_clusters=13; total time=   2.2s\n",
            "[CV] END ..............................kmeans__n_clusters=13; total time=   2.3s\n",
            "[CV] END ..............................kmeans__n_clusters=13; total time=   2.1s\n",
            "[CV] END ..............................kmeans__n_clusters=14; total time=   2.4s\n",
            "[CV] END ..............................kmeans__n_clusters=14; total time=   2.6s\n",
            "[CV] END ..............................kmeans__n_clusters=14; total time=   2.5s\n",
            "[CV] END ..............................kmeans__n_clusters=15; total time=   8.3s\n",
            "[CV] END ..............................kmeans__n_clusters=15; total time=   5.7s\n",
            "[CV] END ..............................kmeans__n_clusters=15; total time=   4.4s\n",
            "[CV] END ..............................kmeans__n_clusters=16; total time=   4.6s\n",
            "[CV] END ..............................kmeans__n_clusters=16; total time=   6.6s\n",
            "[CV] END ..............................kmeans__n_clusters=16; total time=   4.3s\n",
            "[CV] END ..............................kmeans__n_clusters=17; total time=   6.4s\n",
            "[CV] END ..............................kmeans__n_clusters=17; total time=   4.2s\n",
            "[CV] END ..............................kmeans__n_clusters=17; total time=   3.3s\n",
            "[CV] END ..............................kmeans__n_clusters=18; total time=   5.5s\n",
            "[CV] END ..............................kmeans__n_clusters=18; total time=   3.8s\n",
            "[CV] END ..............................kmeans__n_clusters=18; total time=   3.4s\n",
            "[CV] END ..............................kmeans__n_clusters=19; total time=   3.8s\n",
            "[CV] END ..............................kmeans__n_clusters=19; total time=   3.7s\n",
            "[CV] END ..............................kmeans__n_clusters=19; total time=   3.8s\n",
            "[CV] END ..............................kmeans__n_clusters=20; total time=   4.2s\n",
            "[CV] END ..............................kmeans__n_clusters=20; total time=   4.3s\n",
            "[CV] END ..............................kmeans__n_clusters=20; total time=   3.7s\n",
            "[CV] END ..............................kmeans__n_clusters=21; total time=   4.3s\n",
            "[CV] END ..............................kmeans__n_clusters=21; total time=   4.6s\n",
            "[CV] END ..............................kmeans__n_clusters=21; total time=   4.4s\n",
            "[CV] END ..............................kmeans__n_clusters=22; total time=   4.8s\n",
            "[CV] END ..............................kmeans__n_clusters=22; total time=   5.3s\n",
            "[CV] END ..............................kmeans__n_clusters=22; total time=   4.5s\n",
            "[CV] END ..............................kmeans__n_clusters=23; total time=   5.2s\n",
            "[CV] END ..............................kmeans__n_clusters=23; total time=   7.3s\n",
            "[CV] END ..............................kmeans__n_clusters=23; total time=   8.5s\n",
            "[CV] END ..............................kmeans__n_clusters=24; total time=   5.6s\n",
            "[CV] END ..............................kmeans__n_clusters=24; total time=   5.1s\n",
            "[CV] END ..............................kmeans__n_clusters=24; total time=   4.8s\n",
            "[CV] END ..............................kmeans__n_clusters=25; total time=   5.1s\n",
            "[CV] END ..............................kmeans__n_clusters=25; total time=   5.0s\n",
            "[CV] END ..............................kmeans__n_clusters=25; total time=   5.3s\n",
            "[CV] END ..............................kmeans__n_clusters=26; total time=   5.6s\n",
            "[CV] END ..............................kmeans__n_clusters=26; total time=   5.4s\n",
            "[CV] END ..............................kmeans__n_clusters=26; total time=   5.1s\n",
            "[CV] END ..............................kmeans__n_clusters=27; total time=   5.8s\n",
            "[CV] END ..............................kmeans__n_clusters=27; total time=   5.4s\n",
            "[CV] END ..............................kmeans__n_clusters=27; total time=   5.1s\n",
            "[CV] END ..............................kmeans__n_clusters=28; total time=   6.5s\n",
            "[CV] END ..............................kmeans__n_clusters=28; total time=   5.3s\n",
            "[CV] END ..............................kmeans__n_clusters=28; total time=   5.5s\n",
            "[CV] END ..............................kmeans__n_clusters=29; total time=   5.8s\n",
            "[CV] END ..............................kmeans__n_clusters=29; total time=   6.0s\n",
            "[CV] END ..............................kmeans__n_clusters=29; total time=   5.9s\n",
            "[CV] END ..............................kmeans__n_clusters=30; total time=   6.0s\n",
            "[CV] END ..............................kmeans__n_clusters=30; total time=   6.4s\n",
            "[CV] END ..............................kmeans__n_clusters=30; total time=   5.4s\n",
            "[CV] END ..............................kmeans__n_clusters=31; total time=   6.4s\n",
            "[CV] END ..............................kmeans__n_clusters=31; total time=   5.0s\n",
            "[CV] END ..............................kmeans__n_clusters=31; total time=   5.7s\n",
            "[CV] END ..............................kmeans__n_clusters=32; total time=   6.3s\n",
            "[CV] END ..............................kmeans__n_clusters=32; total time=   6.4s\n",
            "[CV] END ..............................kmeans__n_clusters=32; total time=   5.5s\n",
            "[CV] END ..............................kmeans__n_clusters=33; total time=   6.3s\n",
            "[CV] END ..............................kmeans__n_clusters=33; total time=   6.4s\n",
            "[CV] END ..............................kmeans__n_clusters=33; total time=   5.8s\n",
            "[CV] END ..............................kmeans__n_clusters=34; total time=   7.6s\n",
            "[CV] END ..............................kmeans__n_clusters=34; total time=   7.2s\n",
            "[CV] END ..............................kmeans__n_clusters=34; total time=   5.6s\n",
            "[CV] END ..............................kmeans__n_clusters=35; total time=   6.4s\n",
            "[CV] END ..............................kmeans__n_clusters=35; total time=   6.6s\n",
            "[CV] END ..............................kmeans__n_clusters=35; total time=   5.9s\n",
            "[CV] END ..............................kmeans__n_clusters=36; total time=   6.2s\n",
            "[CV] END ..............................kmeans__n_clusters=36; total time=   6.5s\n",
            "[CV] END ..............................kmeans__n_clusters=36; total time=   6.2s\n",
            "[CV] END ..............................kmeans__n_clusters=37; total time=   6.8s\n",
            "[CV] END ..............................kmeans__n_clusters=37; total time=   6.4s\n",
            "[CV] END ..............................kmeans__n_clusters=37; total time=   5.4s\n",
            "[CV] END ..............................kmeans__n_clusters=38; total time=   6.5s\n",
            "[CV] END ..............................kmeans__n_clusters=38; total time=   6.3s\n",
            "[CV] END ..............................kmeans__n_clusters=38; total time=   6.4s\n",
            "[CV] END ..............................kmeans__n_clusters=39; total time=   6.6s\n",
            "[CV] END ..............................kmeans__n_clusters=39; total time=   6.5s\n",
            "[CV] END ..............................kmeans__n_clusters=39; total time=   6.5s\n",
            "[CV] END ..............................kmeans__n_clusters=40; total time=   6.6s\n",
            "[CV] END ..............................kmeans__n_clusters=40; total time=   6.1s\n",
            "[CV] END ..............................kmeans__n_clusters=40; total time=   6.1s\n",
            "[CV] END ..............................kmeans__n_clusters=41; total time=   6.6s\n",
            "[CV] END ..............................kmeans__n_clusters=41; total time=   6.5s\n",
            "[CV] END ..............................kmeans__n_clusters=41; total time=   6.5s\n",
            "[CV] END ..............................kmeans__n_clusters=42; total time=   7.5s\n",
            "[CV] END ..............................kmeans__n_clusters=42; total time=   6.6s\n",
            "[CV] END ..............................kmeans__n_clusters=42; total time=   7.0s\n",
            "[CV] END ..............................kmeans__n_clusters=43; total time=   6.9s\n",
            "[CV] END ..............................kmeans__n_clusters=43; total time=   6.8s\n",
            "[CV] END ..............................kmeans__n_clusters=43; total time=   6.7s\n",
            "[CV] END ..............................kmeans__n_clusters=44; total time=   6.8s\n",
            "[CV] END ..............................kmeans__n_clusters=44; total time=   6.5s\n",
            "[CV] END ..............................kmeans__n_clusters=44; total time=   5.9s\n",
            "[CV] END ..............................kmeans__n_clusters=45; total time=   6.8s\n",
            "[CV] END ..............................kmeans__n_clusters=45; total time=   6.6s\n",
            "[CV] END ..............................kmeans__n_clusters=45; total time=   7.1s\n",
            "[CV] END ..............................kmeans__n_clusters=46; total time=   6.9s\n",
            "[CV] END ..............................kmeans__n_clusters=46; total time=   6.8s\n",
            "[CV] END ..............................kmeans__n_clusters=46; total time=   6.5s\n",
            "[CV] END ..............................kmeans__n_clusters=47; total time=   7.5s\n",
            "[CV] END ..............................kmeans__n_clusters=47; total time=   6.5s\n",
            "[CV] END ..............................kmeans__n_clusters=47; total time=   6.7s\n",
            "[CV] END ..............................kmeans__n_clusters=48; total time=   6.1s\n",
            "[CV] END ..............................kmeans__n_clusters=48; total time=   7.0s\n",
            "[CV] END ..............................kmeans__n_clusters=48; total time=   6.5s\n",
            "[CV] END ..............................kmeans__n_clusters=49; total time=  12.6s\n",
            "[CV] END ..............................kmeans__n_clusters=49; total time=  13.7s\n",
            "[CV] END ..............................kmeans__n_clusters=49; total time=   8.4s\n",
            "[CV] END ..............................kmeans__n_clusters=50; total time=   6.9s\n",
            "[CV] END ..............................kmeans__n_clusters=50; total time=   6.9s\n",
            "[CV] END ..............................kmeans__n_clusters=50; total time=   7.9s\n",
            "[CV] END ..............................kmeans__n_clusters=51; total time=  12.1s\n",
            "[CV] END ..............................kmeans__n_clusters=51; total time=   8.3s\n",
            "[CV] END ..............................kmeans__n_clusters=51; total time=   7.3s\n",
            "[CV] END ..............................kmeans__n_clusters=52; total time=   6.8s\n",
            "[CV] END ..............................kmeans__n_clusters=52; total time=   9.8s\n",
            "[CV] END ..............................kmeans__n_clusters=52; total time=   9.2s\n",
            "[CV] END ..............................kmeans__n_clusters=53; total time=   7.0s\n",
            "[CV] END ..............................kmeans__n_clusters=53; total time=   7.6s\n",
            "[CV] END ..............................kmeans__n_clusters=53; total time=   7.0s\n",
            "[CV] END ..............................kmeans__n_clusters=54; total time=   7.1s\n",
            "[CV] END ..............................kmeans__n_clusters=54; total time=   7.3s\n",
            "[CV] END ..............................kmeans__n_clusters=54; total time=   6.1s\n",
            "[CV] END ..............................kmeans__n_clusters=55; total time=   6.6s\n",
            "[CV] END ..............................kmeans__n_clusters=55; total time=   7.3s\n"
          ]
        },
        {
          "output_type": "stream",
          "name": "stderr",
          "text": [
            "/usr/local/lib/python3.7/dist-packages/sklearn/linear_model/_logistic.py:818: ConvergenceWarning: lbfgs failed to converge (status=1):\n",
            "STOP: TOTAL NO. of ITERATIONS REACHED LIMIT.\n",
            "\n",
            "Increase the number of iterations (max_iter) or scale the data as shown in:\n",
            "    https://scikit-learn.org/stable/modules/preprocessing.html\n",
            "Please also refer to the documentation for alternative solver options:\n",
            "    https://scikit-learn.org/stable/modules/linear_model.html#logistic-regression\n",
            "  extra_warning_msg=_LOGISTIC_SOLVER_CONVERGENCE_MSG,\n"
          ]
        },
        {
          "output_type": "stream",
          "name": "stdout",
          "text": [
            "[CV] END ..............................kmeans__n_clusters=55; total time=   9.7s\n",
            "[CV] END ..............................kmeans__n_clusters=56; total time=   6.9s\n",
            "[CV] END ..............................kmeans__n_clusters=56; total time=   9.1s\n",
            "[CV] END ..............................kmeans__n_clusters=56; total time=  12.8s\n",
            "[CV] END ..............................kmeans__n_clusters=57; total time=  11.8s\n",
            "[CV] END ..............................kmeans__n_clusters=57; total time=   8.2s\n",
            "[CV] END ..............................kmeans__n_clusters=57; total time=   8.1s\n",
            "[CV] END ..............................kmeans__n_clusters=58; total time=   9.9s\n",
            "[CV] END ..............................kmeans__n_clusters=58; total time=   8.3s\n",
            "[CV] END ..............................kmeans__n_clusters=58; total time=   6.5s\n",
            "[CV] END ..............................kmeans__n_clusters=59; total time=   7.1s\n",
            "[CV] END ..............................kmeans__n_clusters=59; total time=   7.4s\n",
            "[CV] END ..............................kmeans__n_clusters=59; total time=   6.8s\n",
            "[CV] END ..............................kmeans__n_clusters=60; total time=   7.3s\n",
            "[CV] END ..............................kmeans__n_clusters=60; total time=   7.6s\n",
            "[CV] END ..............................kmeans__n_clusters=60; total time=  10.8s\n",
            "[CV] END ..............................kmeans__n_clusters=61; total time=  11.5s\n",
            "[CV] END ..............................kmeans__n_clusters=61; total time=  10.2s\n",
            "[CV] END ..............................kmeans__n_clusters=61; total time=   8.6s\n",
            "[CV] END ..............................kmeans__n_clusters=62; total time=   7.4s\n",
            "[CV] END ..............................kmeans__n_clusters=62; total time=   8.0s\n",
            "[CV] END ..............................kmeans__n_clusters=62; total time=   6.8s\n",
            "[CV] END ..............................kmeans__n_clusters=63; total time=   6.8s\n",
            "[CV] END ..............................kmeans__n_clusters=63; total time=   8.4s\n",
            "[CV] END ..............................kmeans__n_clusters=63; total time=   7.9s\n",
            "[CV] END ..............................kmeans__n_clusters=64; total time=   6.5s\n",
            "[CV] END ..............................kmeans__n_clusters=64; total time=   6.9s\n",
            "[CV] END ..............................kmeans__n_clusters=64; total time=   8.3s\n",
            "[CV] END ..............................kmeans__n_clusters=65; total time=   9.3s\n",
            "[CV] END ..............................kmeans__n_clusters=65; total time=  16.4s\n",
            "[CV] END ..............................kmeans__n_clusters=65; total time=   7.0s\n",
            "[CV] END ..............................kmeans__n_clusters=66; total time=   7.8s\n",
            "[CV] END ..............................kmeans__n_clusters=66; total time=  11.5s\n",
            "[CV] END ..............................kmeans__n_clusters=66; total time=   8.1s\n",
            "[CV] END ..............................kmeans__n_clusters=67; total time=   7.4s\n",
            "[CV] END ..............................kmeans__n_clusters=67; total time=   7.3s\n",
            "[CV] END ..............................kmeans__n_clusters=67; total time=   7.8s\n",
            "[CV] END ..............................kmeans__n_clusters=68; total time=   7.6s\n",
            "[CV] END ..............................kmeans__n_clusters=68; total time=   7.3s\n",
            "[CV] END ..............................kmeans__n_clusters=68; total time=   9.2s\n",
            "[CV] END ..............................kmeans__n_clusters=69; total time=  13.8s\n",
            "[CV] END ..............................kmeans__n_clusters=69; total time=   9.3s\n",
            "[CV] END ..............................kmeans__n_clusters=69; total time=   7.7s\n",
            "[CV] END ..............................kmeans__n_clusters=70; total time=   7.6s\n",
            "[CV] END ..............................kmeans__n_clusters=70; total time=   8.6s\n",
            "[CV] END ..............................kmeans__n_clusters=70; total time=   7.4s\n",
            "[CV] END ..............................kmeans__n_clusters=71; total time=   7.5s\n",
            "[CV] END ..............................kmeans__n_clusters=71; total time=  12.8s\n",
            "[CV] END ..............................kmeans__n_clusters=71; total time=  13.1s\n",
            "[CV] END ..............................kmeans__n_clusters=72; total time=   7.0s\n",
            "[CV] END ..............................kmeans__n_clusters=72; total time=   7.3s\n",
            "[CV] END ..............................kmeans__n_clusters=72; total time=   7.7s\n",
            "[CV] END ..............................kmeans__n_clusters=73; total time=   7.3s\n",
            "[CV] END ..............................kmeans__n_clusters=73; total time=   7.7s\n",
            "[CV] END ..............................kmeans__n_clusters=73; total time=  12.5s\n",
            "[CV] END ..............................kmeans__n_clusters=74; total time=  22.2s\n",
            "[CV] END ..............................kmeans__n_clusters=74; total time=  11.4s\n",
            "[CV] END ..............................kmeans__n_clusters=74; total time=  12.2s\n",
            "[CV] END ..............................kmeans__n_clusters=75; total time=  12.8s\n",
            "[CV] END ..............................kmeans__n_clusters=75; total time=  12.6s\n",
            "[CV] END ..............................kmeans__n_clusters=75; total time=  12.9s\n",
            "[CV] END ..............................kmeans__n_clusters=76; total time=  14.1s\n",
            "[CV] END ..............................kmeans__n_clusters=76; total time=   8.7s\n",
            "[CV] END ..............................kmeans__n_clusters=76; total time=  10.8s\n",
            "[CV] END ..............................kmeans__n_clusters=77; total time=  12.1s\n",
            "[CV] END ..............................kmeans__n_clusters=77; total time=  14.6s\n",
            "[CV] END ..............................kmeans__n_clusters=77; total time=  13.0s\n",
            "[CV] END ..............................kmeans__n_clusters=78; total time=  12.6s\n",
            "[CV] END ..............................kmeans__n_clusters=78; total time=  12.3s\n",
            "[CV] END ..............................kmeans__n_clusters=78; total time=  13.5s\n",
            "[CV] END ..............................kmeans__n_clusters=79; total time=  10.9s\n",
            "[CV] END ..............................kmeans__n_clusters=79; total time=  11.8s\n",
            "[CV] END ..............................kmeans__n_clusters=79; total time=   9.4s\n",
            "[CV] END ..............................kmeans__n_clusters=80; total time=  10.2s\n",
            "[CV] END ..............................kmeans__n_clusters=80; total time=   8.2s\n",
            "[CV] END ..............................kmeans__n_clusters=80; total time=  12.6s\n",
            "[CV] END ..............................kmeans__n_clusters=81; total time=  14.3s\n",
            "[CV] END ..............................kmeans__n_clusters=81; total time=   8.3s\n",
            "[CV] END ..............................kmeans__n_clusters=81; total time=   7.1s\n",
            "[CV] END ..............................kmeans__n_clusters=82; total time=   7.8s\n",
            "[CV] END ..............................kmeans__n_clusters=82; total time=   7.9s\n",
            "[CV] END ..............................kmeans__n_clusters=82; total time=   7.8s\n",
            "[CV] END ..............................kmeans__n_clusters=83; total time=   8.1s\n",
            "[CV] END ..............................kmeans__n_clusters=83; total time=   7.6s\n",
            "[CV] END ..............................kmeans__n_clusters=83; total time=   7.4s\n",
            "[CV] END ..............................kmeans__n_clusters=84; total time=   7.4s\n",
            "[CV] END ..............................kmeans__n_clusters=84; total time=   7.6s\n",
            "[CV] END ..............................kmeans__n_clusters=84; total time=   6.5s\n",
            "[CV] END ..............................kmeans__n_clusters=85; total time=   7.7s\n",
            "[CV] END ..............................kmeans__n_clusters=85; total time=   8.9s\n",
            "[CV] END ..............................kmeans__n_clusters=85; total time=   8.2s\n",
            "[CV] END ..............................kmeans__n_clusters=86; total time=   7.7s\n",
            "[CV] END ..............................kmeans__n_clusters=86; total time=   7.1s\n",
            "[CV] END ..............................kmeans__n_clusters=86; total time=   8.6s\n",
            "[CV] END ..............................kmeans__n_clusters=87; total time=   7.3s\n",
            "[CV] END ..............................kmeans__n_clusters=87; total time=   8.7s\n",
            "[CV] END ..............................kmeans__n_clusters=87; total time=   7.8s\n",
            "[CV] END ..............................kmeans__n_clusters=88; total time=   7.8s\n",
            "[CV] END ..............................kmeans__n_clusters=88; total time=   8.3s\n",
            "[CV] END ..............................kmeans__n_clusters=88; total time=   7.5s\n",
            "[CV] END ..............................kmeans__n_clusters=89; total time=   8.1s\n",
            "[CV] END ..............................kmeans__n_clusters=89; total time=   7.7s\n",
            "[CV] END ..............................kmeans__n_clusters=89; total time=   7.5s\n",
            "[CV] END ..............................kmeans__n_clusters=90; total time=   8.4s\n",
            "[CV] END ..............................kmeans__n_clusters=90; total time=   9.0s\n",
            "[CV] END ..............................kmeans__n_clusters=90; total time=   6.8s\n",
            "[CV] END ..............................kmeans__n_clusters=91; total time=   8.1s\n",
            "[CV] END ..............................kmeans__n_clusters=91; total time=   8.1s\n",
            "[CV] END ..............................kmeans__n_clusters=91; total time=   8.1s\n",
            "[CV] END ..............................kmeans__n_clusters=92; total time=   8.3s\n"
          ]
        }
      ]
    },
    {
      "cell_type": "code",
      "source": [
        "grid_clf.best_params_"
      ],
      "metadata": {
        "id": "CE2D1Bz2GyDX"
      },
      "execution_count": null,
      "outputs": []
    },
    {
      "cell_type": "code",
      "source": [
        "grid_clf.score(X_test, y_test)"
      ],
      "metadata": {
        "id": "PZdSvPUHG37B"
      },
      "execution_count": null,
      "outputs": []
    },
    {
      "cell_type": "markdown",
      "source": [
        "###9.1.5  군집화 활용: 준지도학습"
      ],
      "metadata": {
        "id": "tUiqgII4GsU0"
      }
    },
    {
      "cell_type": "code",
      "source": [
        "n_labeled = 50"
      ],
      "metadata": {
        "id": "wM4-CcZ1bDsY"
      },
      "execution_count": null,
      "outputs": []
    },
    {
      "cell_type": "code",
      "source": [
        "log_reg = LogisticRegression(multi_class=\"ovr\", solver=\"lbfgs\", random_state=42)\n",
        "log_reg.fit(X_train[:n_labeled], y_train[:n_labeled])\n",
        "\n",
        "log_reg.score(X_test, y_test)"
      ],
      "metadata": {
        "id": "1re_2Y72bJCQ"
      },
      "execution_count": null,
      "outputs": []
    },
    {
      "cell_type": "markdown",
      "source": [
        "훈련 세트를 50개의 클러스터로 모르고 각 클러스터에서 센트로이드에 가장 가까운 이미지를 찾음->대표 이미지"
      ],
      "metadata": {
        "id": "bL7-_6WPbr3N"
      }
    },
    {
      "cell_type": "code",
      "source": [
        "k = 50\n",
        "\n",
        "kmeans = KMeans(n_clusters=k, random_state=42)\n",
        "X_digits_dist = kmeans.fit_transform(X_train)"
      ],
      "metadata": {
        "id": "ke8DugXNbzYY"
      },
      "execution_count": null,
      "outputs": []
    },
    {
      "cell_type": "code",
      "source": [
        "representative_digit_idx = np.argmin(X_digits_dist, axis=0)  # 50개의 대표이미지 인덱스 확인\n",
        "X_representative_digits = X_train[representative_digit_idx]  # 50개의 대표이미지 지정"
      ],
      "metadata": {
        "id": "76xpozZDlma_"
      },
      "execution_count": 36,
      "outputs": []
    },
    {
      "cell_type": "code",
      "source": [
        "y_representative_digits = y_train[representative_digit_idx]"
      ],
      "metadata": {
        "id": "znFbl3r8lovC"
      },
      "execution_count": 37,
      "outputs": []
    },
    {
      "cell_type": "code",
      "source": [
        "y_train[representative_digit_idx]"
      ],
      "metadata": {
        "id": "l3xG0roQb2du"
      },
      "execution_count": null,
      "outputs": []
    },
    {
      "cell_type": "markdown",
      "source": [
        "레이블 전파 1"
      ],
      "metadata": {
        "id": "fyLM_CMCd8RV"
      }
    },
    {
      "cell_type": "code",
      "source": [
        "y_train_propagated = np.empty(len(X_train), dtype=np.int32)\n",
        "\n",
        "for i in range(k):\n",
        "    y_train_propagated[kmeans.labels_==i] = y_representative_digits[i]"
      ],
      "metadata": {
        "id": "9dPnbo-Jd92w"
      },
      "execution_count": 39,
      "outputs": []
    },
    {
      "cell_type": "code",
      "source": [
        "log_reg = LogisticRegression(multi_class=\"ovr\", solver=\"lbfgs\", max_iter=5000, random_state=42)\n",
        "log_reg.fit(X_train, y_train_propagated)\n",
        "\n",
        "log_reg.score(X_test, y_test)"
      ],
      "metadata": {
        "colab": {
          "base_uri": "https://localhost:8080/"
        },
        "id": "Ktf0acPXd_ej",
        "outputId": "f1af05e8-dc5f-4423-d72d-016edca62947"
      },
      "execution_count": 40,
      "outputs": [
        {
          "output_type": "execute_result",
          "data": {
            "text/plain": [
              "0.9333333333333333"
            ]
          },
          "metadata": {},
          "execution_count": 40
        }
      ]
    },
    {
      "cell_type": "markdown",
      "source": [
        "레이블 전파 2"
      ],
      "metadata": {
        "id": "OPbW4_tteBVU"
      }
    },
    {
      "cell_type": "code",
      "source": [
        "X_cluster_dist = X_digits_dist[np.arange(len(X_train)), kmeans.labels_]"
      ],
      "metadata": {
        "id": "L2YdfetVeC3b"
      },
      "execution_count": 41,
      "outputs": []
    },
    {
      "cell_type": "code",
      "source": [
        "percentile_closest = 20\n",
        "\n",
        "for i in range(k):\n",
        "    in_cluster = (kmeans.labels_ == i)                 # 군집별 샘플 대상\n",
        "    cluster_dist = X_cluster_dist[in_cluster]\n",
        "    cutoff_distance = np.percentile(cluster_dist, percentile_closest)   # 군집별 센트로이드 근접도 상위 20% 경곗값\n",
        "    above_cutoff = (X_cluster_dist > cutoff_distance)  # 군집별 센트로이드 근접도 상위 20% 이내 샘플 대상\n",
        "    X_cluster_dist[in_cluster & above_cutoff] = -1"
      ],
      "metadata": {
        "id": "kH0153QueMAn"
      },
      "execution_count": 42,
      "outputs": []
    },
    {
      "cell_type": "markdown",
      "source": [
        "### 9.1.6 DBSCAN"
      ],
      "metadata": {
        "id": "IKXfFdfweS7J"
      }
    },
    {
      "cell_type": "code",
      "source": [
        "from sklearn.cluster import DBSCAN"
      ],
      "metadata": {
        "id": "yRMjtxRFeU9P"
      },
      "execution_count": 43,
      "outputs": []
    },
    {
      "cell_type": "code",
      "source": [
        "dbscan = DBSCAN(eps=0.05, min_samples=5)\n",
        "dbscan.fit(X)"
      ],
      "metadata": {
        "colab": {
          "base_uri": "https://localhost:8080/"
        },
        "id": "C594Gphoep4h",
        "outputId": "b639009a-6da2-44fc-b1f1-c940a97109c3"
      },
      "execution_count": 44,
      "outputs": [
        {
          "output_type": "execute_result",
          "data": {
            "text/plain": [
              "DBSCAN(eps=0.05)"
            ]
          },
          "metadata": {},
          "execution_count": 44
        }
      ]
    },
    {
      "cell_type": "code",
      "source": [
        "np.unique(dbscan.labels_)"
      ],
      "metadata": {
        "colab": {
          "base_uri": "https://localhost:8080/"
        },
        "id": "XgCx2AtIerTY",
        "outputId": "6a56cc73-265f-4fee-e1fe-3f8dcb9ab528"
      },
      "execution_count": 45,
      "outputs": [
        {
          "output_type": "execute_result",
          "data": {
            "text/plain": [
              "array([-1,  0,  1,  2,  3,  4,  5,  6,  7,  8,  9, 10, 11, 12, 13, 14, 15,\n",
              "       16, 17, 18, 19, 20, 21, 22, 23, 24, 25, 26, 27, 28])"
            ]
          },
          "metadata": {},
          "execution_count": 45
        }
      ]
    },
    {
      "cell_type": "code",
      "source": [
        "dbscan.labels_[:10]"
      ],
      "metadata": {
        "colab": {
          "base_uri": "https://localhost:8080/"
        },
        "id": "inruNDFTetQr",
        "outputId": "6bf20a1e-d7b1-4ecc-8060-61c8eacb35a9"
      },
      "execution_count": 46,
      "outputs": [
        {
          "output_type": "execute_result",
          "data": {
            "text/plain": [
              "array([ 0,  0, -1,  0,  0,  0,  0,  0,  1,  0])"
            ]
          },
          "metadata": {},
          "execution_count": 46
        }
      ]
    },
    {
      "cell_type": "code",
      "source": [
        "len(dbscan.core_sample_indices_)"
      ],
      "metadata": {
        "colab": {
          "base_uri": "https://localhost:8080/"
        },
        "id": "eetB4Y-UeuLl",
        "outputId": "34b1e0a4-8de7-4e6d-cb11-6e56b5d275bb"
      },
      "execution_count": 47,
      "outputs": [
        {
          "output_type": "execute_result",
          "data": {
            "text/plain": [
              "1296"
            ]
          },
          "metadata": {},
          "execution_count": 47
        }
      ]
    },
    {
      "cell_type": "markdown",
      "source": [
        "##9.2 가우시안 혼합\n",
        "- 샘플이 파라미터가 알려지지 않은 여러 개의 혼합된 가우시안 분포에서 생성되었다고 가정하는 확률 모델"
      ],
      "metadata": {
        "id": "BZ_vxw7Jezyc"
      }
    },
    {
      "cell_type": "code",
      "source": [
        "from sklearn.mixture import GaussianMixture"
      ],
      "metadata": {
        "id": "xp2UXlnIfW0t"
      },
      "execution_count": 48,
      "outputs": []
    },
    {
      "cell_type": "code",
      "source": [
        "gm = GaussianMixture(n_components=3, n_init=10, random_state=42)\n",
        "gm.fit(X)"
      ],
      "metadata": {
        "colab": {
          "base_uri": "https://localhost:8080/"
        },
        "id": "6SEpYg51ffp2",
        "outputId": "1f4f5c3b-7fd3-4618-da9b-167143bb1e3e"
      },
      "execution_count": 49,
      "outputs": [
        {
          "output_type": "execute_result",
          "data": {
            "text/plain": [
              "GaussianMixture(n_components=3, n_init=10, random_state=42)"
            ]
          },
          "metadata": {},
          "execution_count": 49
        }
      ]
    },
    {
      "cell_type": "code",
      "source": [
        "gm.weights_"
      ],
      "metadata": {
        "colab": {
          "base_uri": "https://localhost:8080/"
        },
        "id": "fxdNYobffgQV",
        "outputId": "abfc585c-f4b2-4aaf-d880-3b7c064b1a15"
      },
      "execution_count": 50,
      "outputs": [
        {
          "output_type": "execute_result",
          "data": {
            "text/plain": [
              "array([0.19978216, 0.59989596, 0.20032189])"
            ]
          },
          "metadata": {},
          "execution_count": 50
        }
      ]
    },
    {
      "cell_type": "code",
      "source": [
        "gm.means_"
      ],
      "metadata": {
        "colab": {
          "base_uri": "https://localhost:8080/"
        },
        "id": "-ZUoHTLxfhu8",
        "outputId": "84027fa8-7724-4739-fa88-87e32b69221f"
      },
      "execution_count": 51,
      "outputs": [
        {
          "output_type": "execute_result",
          "data": {
            "text/plain": [
              "array([[-1.48543693,  2.28573643],\n",
              "       [-2.80278963,  1.96665812],\n",
              "       [ 0.19937187,  2.25813691]])"
            ]
          },
          "metadata": {},
          "execution_count": 51
        }
      ]
    },
    {
      "cell_type": "code",
      "source": [
        "gm.covariances_"
      ],
      "metadata": {
        "colab": {
          "base_uri": "https://localhost:8080/"
        },
        "id": "Gdobzvlcfi0l",
        "outputId": "b43430a4-2218-4c31-f701-ce286a33333f"
      },
      "execution_count": 52,
      "outputs": [
        {
          "output_type": "execute_result",
          "data": {
            "text/plain": [
              "array([[[ 8.79984367e-02,  1.46541758e-04],\n",
              "        [ 1.46541758e-04,  9.01630979e-02]],\n",
              "\n",
              "       [[ 9.95376970e-03,  7.16529541e-04],\n",
              "        [ 7.16529541e-04,  3.96947649e-01]],\n",
              "\n",
              "       [[ 1.46166449e-01, -4.84946828e-03],\n",
              "        [-4.84946828e-03,  1.56280672e-01]]])"
            ]
          },
          "metadata": {},
          "execution_count": 52
        }
      ]
    },
    {
      "cell_type": "code",
      "source": [
        "gm.converged_"
      ],
      "metadata": {
        "colab": {
          "base_uri": "https://localhost:8080/"
        },
        "id": "A-iNELFTfoh6",
        "outputId": "8b5e562b-5790-430f-e022-81735fa0d450"
      },
      "execution_count": 53,
      "outputs": [
        {
          "output_type": "execute_result",
          "data": {
            "text/plain": [
              "True"
            ]
          },
          "metadata": {},
          "execution_count": 53
        }
      ]
    },
    {
      "cell_type": "code",
      "source": [
        "\n",
        "gm.n_iter_"
      ],
      "metadata": {
        "colab": {
          "base_uri": "https://localhost:8080/"
        },
        "id": "cvh3X6i-fomr",
        "outputId": "356c2828-0505-4e70-f5f8-54e0a33cefe4"
      },
      "execution_count": 54,
      "outputs": [
        {
          "output_type": "execute_result",
          "data": {
            "text/plain": [
              "3"
            ]
          },
          "metadata": {},
          "execution_count": 54
        }
      ]
    },
    {
      "cell_type": "code",
      "source": [
        "gm.predict(X)\n",
        "gm.predict_proba(X)#소프트 군집"
      ],
      "metadata": {
        "colab": {
          "base_uri": "https://localhost:8080/"
        },
        "id": "LZ8K4_ZKf2OO",
        "outputId": "e47a33ab-66e3-4867-fc3f-341a20aea6ab"
      },
      "execution_count": 55,
      "outputs": [
        {
          "output_type": "execute_result",
          "data": {
            "text/plain": [
              "array([[1.19140197e-006, 9.99998809e-001, 5.11211601e-015],\n",
              "       [1.56262666e-006, 9.99998437e-001, 6.43557803e-016],\n",
              "       [7.51207529e-016, 4.58103106e-307, 1.00000000e+000],\n",
              "       ...,\n",
              "       [8.44387449e-006, 9.99991556e-001, 7.53349575e-015],\n",
              "       [7.54961300e-008, 6.39866293e-202, 9.99999925e-001],\n",
              "       [2.66779387e-004, 9.99733221e-001, 3.59569371e-013]])"
            ]
          },
          "metadata": {},
          "execution_count": 55
        }
      ]
    },
    {
      "cell_type": "markdown",
      "source": [
        "확률 밀도 함수"
      ],
      "metadata": {
        "id": "8Y9DHtJff87q"
      }
    },
    {
      "cell_type": "code",
      "source": [
        "gm.score_samples(X)"
      ],
      "metadata": {
        "colab": {
          "base_uri": "https://localhost:8080/"
        },
        "id": "nbBbX-6Af63h",
        "outputId": "99b1c8fd-c462-45ce-af35-042a9b56b244"
      },
      "execution_count": 56,
      "outputs": [
        {
          "output_type": "execute_result",
          "data": {
            "text/plain": [
              "array([-0.62897413,  0.13004267, -7.15363365, ..., -0.3150245 ,\n",
              "       -1.62809493, -0.94509528])"
            ]
          },
          "metadata": {},
          "execution_count": 56
        }
      ]
    },
    {
      "cell_type": "code",
      "source": [
        "\n",
        "np.exp(gm.score_samples(X_new))"
      ],
      "metadata": {
        "colab": {
          "base_uri": "https://localhost:8080/"
        },
        "id": "xfD-ZNbggIEg",
        "outputId": "0b9c2285-0603-4117-d79e-aca5327a784e"
      },
      "execution_count": 57,
      "outputs": [
        {
          "output_type": "execute_result",
          "data": {
            "text/plain": [
              "array([1.47181457e-01, 4.30497825e-13, 5.40438978e-02, 1.47601946e-01])"
            ]
          },
          "metadata": {},
          "execution_count": 57
        }
      ]
    },
    {
      "cell_type": "code",
      "source": [
        "resolution = 100\n",
        "grid = np.arange(-10, 10, 1 / resolution)\n",
        "xx, yy = np.meshgrid(grid, grid)\n",
        "\n",
        "X_full = np.vstack([xx.ravel(), yy.ravel()]).T"
      ],
      "metadata": {
        "id": "_siTUzMDgJ9F"
      },
      "execution_count": 58,
      "outputs": []
    },
    {
      "cell_type": "code",
      "source": [
        "# exp() 함수를 적용하여 log() 함수를 상쇄시킴\n",
        "pdf = np.exp(gm.score_samples(X_full))\n",
        "\n",
        "# 격자의 크기를 확률밀도와 곱하기\n",
        "pdf_probas = pdf * (1 / resolution) ** 2\n",
        "pdf_probas.sum()"
      ],
      "metadata": {
        "colab": {
          "base_uri": "https://localhost:8080/"
        },
        "id": "aWtYX1ZugLdy",
        "outputId": "b0357dba-728d-4494-9066-8a1ab2cb6333"
      },
      "execution_count": 59,
      "outputs": [
        {
          "output_type": "execute_result",
          "data": {
            "text/plain": [
              "1.0000000000000402"
            ]
          },
          "metadata": {},
          "execution_count": 59
        }
      ]
    },
    {
      "cell_type": "markdown",
      "source": [
        "결정경계와 밀도 등고선\n",
        "- plot_gaussian_mixture() 함수는 가우시안 혼합 모델이 알아낸 군집 결정경계와 샘플의 로그밀도 등고선(density contours)을 그린다."
      ],
      "metadata": {
        "id": "wyY4EezNgV6W"
      }
    },
    {
      "cell_type": "code",
      "source": [
        "from matplotlib.colors import LogNorm\n",
        "\n",
        "def plot_gaussian_mixture(clusterer, X, resolution=1000, show_ylabels=True):\n",
        "    # 로그밀도 등고선 그리기\n",
        "    mins = X.min(axis=0) - 0.1\n",
        "    maxs = X.max(axis=0) + 0.1\n",
        "    xx, yy = np.meshgrid(np.linspace(mins[0], maxs[0], resolution),\n",
        "                         np.linspace(mins[1], maxs[1], resolution))\n",
        "    # score_samples가 기본적으로 음수이기에 양수로 변환함\n",
        "    Z = -clusterer.score_samples(np.c_[xx.ravel(), yy.ravel()])\n",
        "    Z = Z.reshape(xx.shape)\n",
        "\n",
        "    plt.contourf(xx, yy, Z,\n",
        "                 norm=LogNorm(vmin=1.0, vmax=30.0),\n",
        "                 levels=np.logspace(0, 2, 12))\n",
        "    plt.contour(xx, yy, Z,\n",
        "                norm=LogNorm(vmin=1.0, vmax=30.0),\n",
        "                levels=np.logspace(0, 2, 12),\n",
        "                linewidths=1, colors='k')\n",
        "\n",
        "    # 결정경계 그리기: 빨강 파선\n",
        "    Z = clusterer.predict(np.c_[xx.ravel(), yy.ravel()])\n",
        "    Z = Z.reshape(xx.shape)\n",
        "    plt.contour(xx, yy, Z, linewidths=2, colors='r', linestyles='dashed')\n",
        "    \n",
        "    # 데이터 산점도 및 센트로이드 그리기\n",
        "    plt.plot(X[:, 0], X[:, 1], 'k.', markersize=2)\n",
        "    plot_centroids(clusterer.means_, clusterer.weights_)\n",
        "\n",
        "    plt.xlabel(\"$x_1$\", fontsize=14)\n",
        "    if show_ylabels:\n",
        "        plt.ylabel(\"$x_2$\", fontsize=14, rotation=0)\n",
        "    else:\n",
        "        plt.tick_params(labelleft=False)"
      ],
      "metadata": {
        "id": "nYM3hLbBgYgl"
      },
      "execution_count": 60,
      "outputs": []
    },
    {
      "cell_type": "markdown",
      "source": [
        "###9.2.4 이상치 탐지와 특이치 탐지를 위한 다른 알고리즘"
      ],
      "metadata": {
        "id": "Vy0RC8N5ggbN"
      }
    },
    {
      "cell_type": "markdown",
      "source": [
        "- pca:간단하고 종종 매우 효과적인 이상치 탐지 기법\n",
        "- fast-mcd:데이터셋을 정제할 때 사용됨.보통 샘플이 하나의 가우시안 분포에서 생성되었다고 가정함\n",
        "- 아이솔레이션 포레스트: 고차원 데이터셋에서 이상치 감지를 위한 효율적인 알고리즘,무작위로 성장한 결정 트리로 구성된 랜덤 포레스트를 만듭니다.\n",
        "- lof: 주어진 샘플 주위의 밀도와 이웃 주위의 밀도를 비교함.이상치는 종종 k개의 최근접 이웃보다 더 격리됨\n",
        "- one-class svm:원본 공간에서는 모든 샘플을 둘러싼 작은 영역을 찾음"
      ],
      "metadata": {
        "id": "H2BMajF2gnH8"
      }
    }
  ]
}