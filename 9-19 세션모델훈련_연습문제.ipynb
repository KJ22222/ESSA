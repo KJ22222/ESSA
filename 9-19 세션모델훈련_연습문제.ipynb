{
  "nbformat": 4,
  "nbformat_minor": 0,
  "metadata": {
    "colab": {
      "provenance": [],
      "collapsed_sections": [],
      "include_colab_link": true
    },
    "kernelspec": {
      "name": "python3",
      "display_name": "Python 3"
    },
    "language_info": {
      "name": "python"
    }
  },
  "cells": [
    {
      "cell_type": "markdown",
      "metadata": {
        "id": "view-in-github",
        "colab_type": "text"
      },
      "source": [
        "<a href=\"https://colab.research.google.com/github/KJ22222/ESSA/blob/main/9-19%20%EC%84%B8%EC%85%98%EB%AA%A8%EB%8D%B8%ED%9B%88%EB%A0%A8_%EC%97%B0%EC%8A%B5%EB%AC%B8%EC%A0%9C.ipynb\" target=\"_parent\"><img src=\"https://colab.research.google.com/assets/colab-badge.svg\" alt=\"Open In Colab\"/></a>"
      ]
    },
    {
      "cell_type": "markdown",
      "source": [
        "## **| 모델 훈련 연습 문제**\n",
        "___\n",
        "- 출처 : 핸즈온 머신러닝 Ch04 연습문제 1, 5, 9, 10번\n",
        "- 개념 문제의 경우 텍스트 셀을 추가하여 정답을 적어주세요."
      ],
      "metadata": {
        "id": "zCu72vDHGMHo"
      }
    },
    {
      "cell_type": "markdown",
      "source": [
        "### **1. 수백만 개의 특성을 가진 훈련 세트에서는 어떤 선형 회귀 알고리즘을 사용할 수 있을까요?**\n",
        "___\n"
      ],
      "metadata": {
        "id": "j3g-_Dq9GiuT"
      }
    },
    {
      "cell_type": "markdown",
      "source": [
        "확률적 경사 하강법이나 미니배치 경사 하강법을 사용 할 수 있다."
      ],
      "metadata": {
        "id": "4CQ6Py6ZGqQR"
      }
    },
    {
      "cell_type": "markdown",
      "source": [
        "### **2. 배치 경사 하강법을 사용하고 에포크마다 검증 오차를 그래프로 나타내봤습니다. 검증 오차가 일정하게 상승되고 있다면 어떤 일이 일어나고 있는 걸까요? 이 문제를 어떻게 해결할 수 있나요?**\n",
        "___"
      ],
      "metadata": {
        "id": "-pDjW5XcHPOt"
      }
    },
    {
      "cell_type": "markdown",
      "source": [
        "이는 한번한번 이동하는 폭이 너무 크다는 것이므로 학습률이 너무 높다는 것을 의미한다. 훈련 에러도도 살펴보고 훈련 에러도 상승한다면 학습률을 낮춰야하고 그게 아니라면 모델이 훈련 세트에 과대적합되어 있는 것을 의미하므로 훈련을 멈춰야함."
      ],
      "metadata": {
        "id": "ZmEYAt9FG1LV"
      }
    },
    {
      "cell_type": "markdown",
      "source": [
        "### **3. 릿지 회귀를 사용했을 때 훈련 오차가 검증 오차가 거의 비슷하고 둘 다 높았습니다. 이 모델에는 높은 편향이 문제인가요, 아니면 높은 분산이 문제인가요? 규제 하이퍼파라미터 $\\alpha$를 증가시켜야 할까요 아니면 줄여야 할까요?**\n",
        "___"
      ],
      "metadata": {
        "id": "nM7JbsLoy7b7"
      }
    },
    {
      "cell_type": "markdown",
      "source": [
        "모델이 train 데이터에 대해 과소적합된 것이 수 있다. 이는 높은 편향을 가진 모델일 수 있으므로 규제 하이퍼파라미터 a를 감소시켜야함."
      ],
      "metadata": {
        "id": "qwahTt17HeJp"
      }
    },
    {
      "cell_type": "markdown",
      "source": [
        "### **4. 다음과 같이 사용해야 하는 이유는?**\n",
        "___\n",
        "- 평범한 선형 회귀(즉, 아무런 규제가 없는 모델) 대신 릿지 회귀\n",
        "- 릿지 회귀 대신 라쏘 회귀\n",
        "- 라쏘 회귀 대신 엘라스틱넷"
      ],
      "metadata": {
        "id": "C8tARu-ZzOGx"
      }
    },
    {
      "cell_type": "markdown",
      "source": [
        "- 평범한 선형 회귀와 릿지 회귀는 규제의 유무 차이이다. 규제가 없는 것 보다는 있는 것이 정확도를 높이는데 좋으므로 릿지 회귀가 더 좋음\n",
        "- 라쏘는 가장 중요한 가중치를 제외하고 모두 0으로 만드는 극단적인 회귀 모형이다. 따라서 몇 개의 특성만 실제로 영향을 줄 것이라고 판단되면 사용하는 것이 좋다.\n",
        "- 라쏘의 특징중에 하나인 불규칙성 때문에 라쏘 회귀 대신에 엘라스틱넷이 더 선호된다. 따라서 불규칙성이 싫으면 라쏘 대신 엘라스틱넷을 활용하면 된다."
      ],
      "metadata": {
        "id": "QfEidAsKH0ry"
      }
    }
  ]
}