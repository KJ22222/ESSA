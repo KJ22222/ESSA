{
  "nbformat": 4,
  "nbformat_minor": 0,
  "metadata": {
    "colab": {
      "name": "4-11 과제.ipynb",
      "provenance": [],
      "authorship_tag": "ABX9TyPczjzSikbhAEnoQYC9D/Aq",
      "include_colab_link": true
    },
    "kernelspec": {
      "name": "python3",
      "display_name": "Python 3"
    },
    "language_info": {
      "name": "python"
    }
  },
  "cells": [
    {
      "cell_type": "markdown",
      "metadata": {
        "id": "view-in-github",
        "colab_type": "text"
      },
      "source": [
        "<a href=\"https://colab.research.google.com/github/KJ22222/ESSA/blob/main/4_11_%EA%B3%BC%EC%A0%9C.ipynb\" target=\"_parent\"><img src=\"https://colab.research.google.com/assets/colab-badge.svg\" alt=\"Open In Colab\"/></a>"
      ]
    },
    {
      "cell_type": "markdown",
      "source": [
        "#1. datetime 오브젝트"
      ],
      "metadata": {
        "id": "Jms_aYiwOi_2"
      }
    },
    {
      "cell_type": "code",
      "source": [
        "from datetime import datetime"
      ],
      "metadata": {
        "id": "VuLNa1wNOkLm"
      },
      "execution_count": null,
      "outputs": []
    },
    {
      "cell_type": "code",
      "source": [
        "now1=datetime.now()\n",
        "print(now1)"
      ],
      "metadata": {
        "colab": {
          "base_uri": "https://localhost:8080/"
        },
        "id": "GVF0P0M8OkIk",
        "outputId": "9c70d1bc-a62f-4d9b-c2ba-c849a29461e7"
      },
      "execution_count": null,
      "outputs": [
        {
          "output_type": "stream",
          "name": "stdout",
          "text": [
            "2022-04-09 12:11:49.650171\n"
          ]
        }
      ]
    },
    {
      "cell_type": "code",
      "source": [
        "now2=datetime.today()\n",
        "print(now2) "
      ],
      "metadata": {
        "colab": {
          "base_uri": "https://localhost:8080/"
        },
        "id": "1qKK6fFvPNVs",
        "outputId": "09cc8449-9b39-4422-d17c-e90851b70674"
      },
      "execution_count": null,
      "outputs": [
        {
          "output_type": "stream",
          "name": "stdout",
          "text": [
            "2022-04-09 12:13:44.525492\n"
          ]
        }
      ]
    },
    {
      "cell_type": "markdown",
      "source": [
        "시간을 직접 입력하여 인자로 전달하기"
      ],
      "metadata": {
        "id": "rI7ggxz9P1dg"
      }
    },
    {
      "cell_type": "code",
      "source": [
        "t1 = datetime.now() \n",
        "t2 = datetime(1970, 1, 1)\n",
        "t3 = datetime(1970, 12, 12, 13, 24, 34)\n",
        "\n",
        "print(t1)\n",
        "print(t2)\n",
        "print(t3)"
      ],
      "metadata": {
        "colab": {
          "base_uri": "https://localhost:8080/"
        },
        "id": "cicqau6uPv3j",
        "outputId": "9a834ebd-ab60-4e43-ffda-0f7239e3bc06"
      },
      "execution_count": null,
      "outputs": [
        {
          "output_type": "stream",
          "name": "stdout",
          "text": [
            "2022-04-09 12:15:33.760655\n",
            "1970-01-01 00:00:00\n",
            "1970-12-12 13:24:34\n"
          ]
        }
      ]
    },
    {
      "cell_type": "markdown",
      "source": [
        "시간 계산"
      ],
      "metadata": {
        "id": "w6eGgtR6QN6M"
      }
    },
    {
      "cell_type": "code",
      "source": [
        "diff1 = t1 - t2\n",
        "\n",
        "print(diff1)\n",
        "print(type(diff1))"
      ],
      "metadata": {
        "colab": {
          "base_uri": "https://localhost:8080/"
        },
        "id": "8fuzFQcTQTfR",
        "outputId": "385d7e64-7ee6-4d36-e282-bb4df7183352"
      },
      "execution_count": null,
      "outputs": [
        {
          "output_type": "stream",
          "name": "stdout",
          "text": [
            "19091 days, 12:15:33.760655\n",
            "<class 'datetime.timedelta'>\n"
          ]
        }
      ]
    },
    {
      "cell_type": "code",
      "source": [
        "diff2 = t2 - t1\n",
        "\n",
        "print(diff2)\n",
        "print(type(diff2))"
      ],
      "metadata": {
        "colab": {
          "base_uri": "https://localhost:8080/"
        },
        "id": "h_Ae1iS1QXdC",
        "outputId": "67f15a98-3780-48c6-cb69-33d1c9245d80"
      },
      "execution_count": null,
      "outputs": [
        {
          "output_type": "stream",
          "name": "stdout",
          "text": [
            "-19092 days, 11:44:26.239345\n",
            "<class 'datetime.timedelta'>\n"
          ]
        }
      ]
    },
    {
      "cell_type": "markdown",
      "source": [
        "#2.문자열을 datetime 오브젝트로 변환하기"
      ],
      "metadata": {
        "id": "zt9WUprcQgau"
      }
    },
    {
      "cell_type": "code",
      "source": [
        "import pandas as pd \n",
        "import os"
      ],
      "metadata": {
        "id": "zbmnM22EQmks"
      },
      "execution_count": 5,
      "outputs": []
    },
    {
      "cell_type": "code",
      "source": [
        "from google.colab import files\n",
        "myfile = files.upload()"
      ],
      "metadata": {
        "colab": {
          "resources": {
            "http://localhost:8080/nbextensions/google.colab/files.js": {
              "data": "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",
              "ok": true,
              "headers": [
                [
                  "content-type",
                  "application/javascript"
                ]
              ],
              "status": 200,
              "status_text": ""
            }
          },
          "base_uri": "https://localhost:8080/",
          "height": 77
        },
        "id": "HnrtUz6OTQg4",
        "outputId": "f97048a0-b18f-4777-efb4-82738431565c"
      },
      "execution_count": 3,
      "outputs": [
        {
          "output_type": "display_data",
          "data": {
            "text/plain": [
              "<IPython.core.display.HTML object>"
            ],
            "text/html": [
              "\n",
              "     <input type=\"file\" id=\"files-1da06575-ea8a-4600-9186-4188557ec78f\" name=\"files[]\" multiple disabled\n",
              "        style=\"border:none\" />\n",
              "     <output id=\"result-1da06575-ea8a-4600-9186-4188557ec78f\">\n",
              "      Upload widget is only available when the cell has been executed in the\n",
              "      current browser session. Please rerun this cell to enable.\n",
              "      </output>\n",
              "      <script src=\"/nbextensions/google.colab/files.js\"></script> "
            ]
          },
          "metadata": {}
        },
        {
          "output_type": "stream",
          "name": "stdout",
          "text": [
            "Saving country_timeseries.csv to country_timeseries.csv\n"
          ]
        }
      ]
    },
    {
      "cell_type": "code",
      "source": [
        "ebola=pd.read_csv(\"country_timeseries.csv\")\n"
      ],
      "metadata": {
        "id": "q78VRec9TcI-"
      },
      "execution_count": null,
      "outputs": []
    },
    {
      "cell_type": "code",
      "source": [
        "print(ebola.info())"
      ],
      "metadata": {
        "colab": {
          "base_uri": "https://localhost:8080/"
        },
        "id": "5prTZ0EkTmda",
        "outputId": "dc898b5d-c61e-4dd5-f498-73121e0d3402"
      },
      "execution_count": null,
      "outputs": [
        {
          "output_type": "stream",
          "name": "stdout",
          "text": [
            "<class 'pandas.core.frame.DataFrame'>\n",
            "RangeIndex: 122 entries, 0 to 121\n",
            "Data columns (total 18 columns):\n",
            " #   Column               Non-Null Count  Dtype  \n",
            "---  ------               --------------  -----  \n",
            " 0   Date                 122 non-null    object \n",
            " 1   Day                  122 non-null    int64  \n",
            " 2   Cases_Guinea         93 non-null     float64\n",
            " 3   Cases_Liberia        83 non-null     float64\n",
            " 4   Cases_SierraLeone    87 non-null     float64\n",
            " 5   Cases_Nigeria        38 non-null     float64\n",
            " 6   Cases_Senegal        25 non-null     float64\n",
            " 7   Cases_UnitedStates   18 non-null     float64\n",
            " 8   Cases_Spain          16 non-null     float64\n",
            " 9   Cases_Mali           12 non-null     float64\n",
            " 10  Deaths_Guinea        92 non-null     float64\n",
            " 11  Deaths_Liberia       81 non-null     float64\n",
            " 12  Deaths_SierraLeone   87 non-null     float64\n",
            " 13  Deaths_Nigeria       38 non-null     float64\n",
            " 14  Deaths_Senegal       22 non-null     float64\n",
            " 15  Deaths_UnitedStates  18 non-null     float64\n",
            " 16  Deaths_Spain         16 non-null     float64\n",
            " 17  Deaths_Mali          12 non-null     float64\n",
            "dtypes: float64(16), int64(1), object(1)\n",
            "memory usage: 17.3+ KB\n",
            "None\n"
          ]
        }
      ]
    },
    {
      "cell_type": "code",
      "source": [
        "ebola['date_dt']=pd.to_datetime(ebola['Date'])\n",
        "print(ebola.info())"
      ],
      "metadata": {
        "colab": {
          "base_uri": "https://localhost:8080/"
        },
        "id": "L4NpL0IuTtuX",
        "outputId": "af112895-91c9-4357-8f30-a0402d808ae7"
      },
      "execution_count": null,
      "outputs": [
        {
          "output_type": "stream",
          "name": "stdout",
          "text": [
            "<class 'pandas.core.frame.DataFrame'>\n",
            "RangeIndex: 122 entries, 0 to 121\n",
            "Data columns (total 19 columns):\n",
            " #   Column               Non-Null Count  Dtype         \n",
            "---  ------               --------------  -----         \n",
            " 0   Date                 122 non-null    object        \n",
            " 1   Day                  122 non-null    int64         \n",
            " 2   Cases_Guinea         93 non-null     float64       \n",
            " 3   Cases_Liberia        83 non-null     float64       \n",
            " 4   Cases_SierraLeone    87 non-null     float64       \n",
            " 5   Cases_Nigeria        38 non-null     float64       \n",
            " 6   Cases_Senegal        25 non-null     float64       \n",
            " 7   Cases_UnitedStates   18 non-null     float64       \n",
            " 8   Cases_Spain          16 non-null     float64       \n",
            " 9   Cases_Mali           12 non-null     float64       \n",
            " 10  Deaths_Guinea        92 non-null     float64       \n",
            " 11  Deaths_Liberia       81 non-null     float64       \n",
            " 12  Deaths_SierraLeone   87 non-null     float64       \n",
            " 13  Deaths_Nigeria       38 non-null     float64       \n",
            " 14  Deaths_Senegal       22 non-null     float64       \n",
            " 15  Deaths_UnitedStates  18 non-null     float64       \n",
            " 16  Deaths_Spain         16 non-null     float64       \n",
            " 17  Deaths_Mali          12 non-null     float64       \n",
            " 18  date_dt              122 non-null    datetime64[ns]\n",
            "dtypes: datetime64[ns](1), float64(16), int64(1), object(1)\n",
            "memory usage: 18.2+ KB\n",
            "None\n"
          ]
        }
      ]
    },
    {
      "cell_type": "markdown",
      "source": [
        "시간 형식 지정자와 기호 적절히 조합하여  format인자에 전달"
      ],
      "metadata": {
        "id": "zxaqfJ0XUeNl"
      }
    },
    {
      "cell_type": "code",
      "source": [
        "test_df1 = pd.DataFrame({'order_day':['01/01/15', '02/01/15', '03/01/15']})\n",
        "\n",
        "test_df1['date_dt1'] = pd.to_datetime(test_df1['order_day'], format='%d/%m/%y')\n",
        "test_df1['date_dt2'] = pd.to_datetime(test_df1['order_day'], format='%m/%d/%y')\n",
        "test_df1['date_dt3'] = pd.to_datetime(test_df1['order_day'], format='%y/%m/%d')\n",
        "\n",
        "print(test_df1)"
      ],
      "metadata": {
        "colab": {
          "base_uri": "https://localhost:8080/"
        },
        "id": "t42QUT7nUnIF",
        "outputId": "bf79103e-9ba0-4013-9cbe-6fb7c9299376"
      },
      "execution_count": null,
      "outputs": [
        {
          "output_type": "stream",
          "name": "stdout",
          "text": [
            "  order_day   date_dt1   date_dt2   date_dt3\n",
            "0  01/01/15 2015-01-01 2015-01-01 2001-01-15\n",
            "1  02/01/15 2015-01-02 2015-02-01 2002-01-15\n",
            "2  03/01/15 2015-01-03 2015-03-01 2003-01-15\n"
          ]
        }
      ]
    },
    {
      "cell_type": "markdown",
      "source": [
        "표현을 원하는 부분까지"
      ],
      "metadata": {
        "id": "Bwe2xXEYU6oq"
      }
    },
    {
      "cell_type": "code",
      "source": [
        "now = datetime.now()\n",
        "print(now)\n",
        "nowDate = now.strftime('%Y-%m-%d')\n",
        "print(nowDate)\n",
        "nowTime = now.strftime('%H:%M:%S')\n",
        "print(nowTime) \n",
        "nowDatetime = now.strftime('%Y-%m-%d %H:%M:%S')\n",
        "print(nowDatetime) "
      ],
      "metadata": {
        "colab": {
          "base_uri": "https://localhost:8080/"
        },
        "id": "lZS2KsjXWoPe",
        "outputId": "f8534b7e-b724-4df6-ead7-2bd235a0ba8c"
      },
      "execution_count": null,
      "outputs": [
        {
          "output_type": "stream",
          "name": "stdout",
          "text": [
            "2022-04-09 12:45:27.593512\n",
            "2022-04-09\n",
            "12:45:27\n",
            "2022-04-09 12:45:27\n"
          ]
        }
      ]
    },
    {
      "cell_type": "markdown",
      "source": [
        "#3. datetime 오브젝트로 변환하기-read_csv 메서드"
      ],
      "metadata": {
        "id": "WRrzFMaqb_cc"
      }
    },
    {
      "cell_type": "code",
      "source": [
        "ebola1=pd.read_csv(\"country_timeseries.csv\")"
      ],
      "metadata": {
        "id": "le6ozhBacHpL"
      },
      "execution_count": null,
      "outputs": []
    },
    {
      "cell_type": "code",
      "source": [
        "date_series = pd.Series(['2018-05-16', '2018-05-17', '2018-05-18'])\n",
        "d1 = pd.to_datetime(date_series) \n",
        "print(d1)"
      ],
      "metadata": {
        "colab": {
          "base_uri": "https://localhost:8080/"
        },
        "id": "AJKwPLGocWCN",
        "outputId": "9568140e-dd7c-4f46-ff08-113e3eb9f6e0"
      },
      "execution_count": null,
      "outputs": [
        {
          "output_type": "stream",
          "name": "stdout",
          "text": [
            "0   2018-05-16\n",
            "1   2018-05-17\n",
            "2   2018-05-18\n",
            "dtype: datetime64[ns]\n"
          ]
        }
      ]
    },
    {
      "cell_type": "code",
      "source": [
        "print(d1[0].year)"
      ],
      "metadata": {
        "colab": {
          "base_uri": "https://localhost:8080/"
        },
        "id": "tV_MC6ufciIQ",
        "outputId": "378e2cb6-d27f-44a0-ca88-49b1395f80cd"
      },
      "execution_count": null,
      "outputs": [
        {
          "output_type": "stream",
          "name": "stdout",
          "text": [
            "2018\n"
          ]
        }
      ]
    },
    {
      "cell_type": "code",
      "source": [
        "print(d1[0].month)"
      ],
      "metadata": {
        "colab": {
          "base_uri": "https://localhost:8080/"
        },
        "id": "8qbiXFHlcj3S",
        "outputId": "5c5b51d2-5ee5-4e6d-d271-1988b3968d61"
      },
      "execution_count": null,
      "outputs": [
        {
          "output_type": "stream",
          "name": "stdout",
          "text": [
            "5\n"
          ]
        }
      ]
    },
    {
      "cell_type": "code",
      "source": [
        "print(d1[0].day)"
      ],
      "metadata": {
        "colab": {
          "base_uri": "https://localhost:8080/"
        },
        "id": "fE04xt38cmon",
        "outputId": "7332b516-eb02-4595-eb5c-932602c24b41"
      },
      "execution_count": null,
      "outputs": [
        {
          "output_type": "stream",
          "name": "stdout",
          "text": [
            "16\n"
          ]
        }
      ]
    },
    {
      "cell_type": "markdown",
      "source": [
        "#4.dt 접근자 사용하기"
      ],
      "metadata": {
        "id": "34FIqPgAcvI2"
      }
    },
    {
      "cell_type": "code",
      "source": [
        "ebola=pd.read_csv(\"country_timeseries.csv\")\n",
        "ebola['date_dt'] = pd.to_datetime(ebola['Date'])"
      ],
      "metadata": {
        "id": "06_VvqVSc1bO"
      },
      "execution_count": null,
      "outputs": []
    },
    {
      "cell_type": "code",
      "source": [
        "print(ebola[['Date','date_dt']].head())"
      ],
      "metadata": {
        "colab": {
          "base_uri": "https://localhost:8080/"
        },
        "id": "bJFk6E8wdB0L",
        "outputId": "c150d640-3469-487f-acbd-2094d5083d55"
      },
      "execution_count": null,
      "outputs": [
        {
          "output_type": "stream",
          "name": "stdout",
          "text": [
            "         Date    date_dt\n",
            "0    1/5/2015 2015-01-05\n",
            "1    1/4/2015 2015-01-04\n",
            "2    1/3/2015 2015-01-03\n",
            "3    1/2/2015 2015-01-02\n",
            "4  12/31/2014 2014-12-31\n"
          ]
        }
      ]
    },
    {
      "cell_type": "code",
      "source": [
        "print(ebola['date_dt'][3].year)"
      ],
      "metadata": {
        "colab": {
          "base_uri": "https://localhost:8080/"
        },
        "id": "x2gw2hELdRS-",
        "outputId": "ecfc6ab8-0426-4abe-a4f2-b06b5a85a14f"
      },
      "execution_count": null,
      "outputs": [
        {
          "output_type": "stream",
          "name": "stdout",
          "text": [
            "2015\n"
          ]
        }
      ]
    },
    {
      "cell_type": "code",
      "source": [
        "print(ebola['date_dt'][3].month)"
      ],
      "metadata": {
        "colab": {
          "base_uri": "https://localhost:8080/"
        },
        "id": "mKgvbDWJdRaE",
        "outputId": "dbeaaf99-2ba1-4bea-9bf3-4969ded0a1ba"
      },
      "execution_count": null,
      "outputs": [
        {
          "output_type": "stream",
          "name": "stdout",
          "text": [
            "1\n"
          ]
        }
      ]
    },
    {
      "cell_type": "code",
      "source": [
        "print(ebola['date_dt'][3].day)"
      ],
      "metadata": {
        "colab": {
          "base_uri": "https://localhost:8080/"
        },
        "id": "UvO13odpdRe2",
        "outputId": "f8178042-63b0-40ea-8249-9da864ce6a49"
      },
      "execution_count": null,
      "outputs": [
        {
          "output_type": "stream",
          "name": "stdout",
          "text": [
            "2\n"
          ]
        }
      ]
    },
    {
      "cell_type": "code",
      "source": [
        "ebola['year'] = ebola['date_dt'].dt.year\n",
        "print(ebola[['Date', 'date_dt', 'year']].head())"
      ],
      "metadata": {
        "colab": {
          "base_uri": "https://localhost:8080/"
        },
        "id": "U1FUWDx9deP9",
        "outputId": "a033146f-a75a-47d2-9827-b084d71ee4bd"
      },
      "execution_count": null,
      "outputs": [
        {
          "output_type": "stream",
          "name": "stdout",
          "text": [
            "         Date    date_dt  year\n",
            "0    1/5/2015 2015-01-05  2015\n",
            "1    1/4/2015 2015-01-04  2015\n",
            "2    1/3/2015 2015-01-03  2015\n",
            "3    1/2/2015 2015-01-02  2015\n",
            "4  12/31/2014 2014-12-31  2014\n"
          ]
        }
      ]
    },
    {
      "cell_type": "code",
      "source": [
        "ebola['month'],ebola['day'] = ebola['date_dt'].dt.month,ebola['date_dt'].dt.day\n",
        "print(ebola[['Date', 'date_dt', 'year','month','day']].head())"
      ],
      "metadata": {
        "colab": {
          "base_uri": "https://localhost:8080/"
        },
        "id": "TgWB9TyUdiA5",
        "outputId": "036fa26f-bcda-468f-ebd2-7cc3aa17247a"
      },
      "execution_count": null,
      "outputs": [
        {
          "output_type": "stream",
          "name": "stdout",
          "text": [
            "         Date    date_dt  year  month  day\n",
            "0    1/5/2015 2015-01-05  2015      1    5\n",
            "1    1/4/2015 2015-01-04  2015      1    4\n",
            "2    1/3/2015 2015-01-03  2015      1    3\n",
            "3    1/2/2015 2015-01-02  2015      1    2\n",
            "4  12/31/2014 2014-12-31  2014     12   31\n"
          ]
        }
      ]
    },
    {
      "cell_type": "markdown",
      "source": [
        "# 5.사례별 시계열 데이터 계산하기"
      ],
      "metadata": {
        "id": "MhxhKBentmtQ"
      }
    },
    {
      "cell_type": "code",
      "source": [
        "print(ebola.iloc[-5:, :5])"
      ],
      "metadata": {
        "colab": {
          "base_uri": "https://localhost:8080/",
          "height": 176
        },
        "id": "2xKX3yHqttu4",
        "outputId": "cbcafd9c-3723-4d39-e1bf-551cd6222bf3"
      },
      "execution_count": 1,
      "outputs": [
        {
          "output_type": "error",
          "ename": "NameError",
          "evalue": "ignored",
          "traceback": [
            "\u001b[0;31m---------------------------------------------------------------------------\u001b[0m",
            "\u001b[0;31mNameError\u001b[0m                                 Traceback (most recent call last)",
            "\u001b[0;32m<ipython-input-1-0837573ee77e>\u001b[0m in \u001b[0;36m<module>\u001b[0;34m()\u001b[0m\n\u001b[0;32m----> 1\u001b[0;31m \u001b[0mprint\u001b[0m\u001b[0;34m(\u001b[0m\u001b[0mebola\u001b[0m\u001b[0;34m.\u001b[0m\u001b[0miloc\u001b[0m\u001b[0;34m[\u001b[0m\u001b[0;34m-\u001b[0m\u001b[0;36m5\u001b[0m\u001b[0;34m:\u001b[0m\u001b[0;34m,\u001b[0m \u001b[0;34m:\u001b[0m\u001b[0;36m5\u001b[0m\u001b[0;34m]\u001b[0m\u001b[0;34m)\u001b[0m\u001b[0;34m\u001b[0m\u001b[0;34m\u001b[0m\u001b[0m\n\u001b[0m",
            "\u001b[0;31mNameError\u001b[0m: name 'ebola' is not defined"
          ]
        }
      ]
    },
    {
      "cell_type": "code",
      "source": [
        "print(ebola['date_dt'].min())\n",
        "print(type(ebola['date_dt'].min()))"
      ],
      "metadata": {
        "id": "k8mCC0DQuL9p"
      },
      "execution_count": null,
      "outputs": []
    },
    {
      "cell_type": "code",
      "source": [
        "#에볼라 진행 정도 파악하기\n",
        "ebola['outbreak_d'] = ebola['date_dt'] - ebola['date_dt'].min()\n",
        "\n",
        "print(ebola[['Date', 'Day', 'outbreak_d']].head())"
      ],
      "metadata": {
        "id": "fgubgLhmurFC"
      },
      "execution_count": null,
      "outputs": []
    },
    {
      "cell_type": "markdown",
      "source": [
        "파산한 은행의 개수 계산"
      ],
      "metadata": {
        "id": "1KpH_NssvTxy"
      }
    },
    {
      "cell_type": "code",
      "source": [
        "from google.colab import files\n",
        "myfile = files.upload()"
      ],
      "metadata": {
        "id": "b5miQnZgvW7p"
      },
      "execution_count": null,
      "outputs": []
    },
    {
      "cell_type": "code",
      "source": [
        "banks = pd.read_csv('banklist.csv') \n",
        "print(banks.head())\n"
      ],
      "metadata": {
        "id": "o226Fzcov-iN"
      },
      "execution_count": null,
      "outputs": []
    },
    {
      "cell_type": "markdown",
      "source": [
        "read_csv에서 parse_dates를 통해 datetime 형으로 불러오기"
      ],
      "metadata": {
        "id": "7DFUpx4uwYQ8"
      }
    },
    {
      "cell_type": "code",
      "source": [
        "banks_no_dates = pd.read_csv('banklist.csv') \n",
        "print(banks_no_dates.info())\n",
        "\n"
      ],
      "metadata": {
        "id": "eMR7ZRaKwX-k"
      },
      "execution_count": null,
      "outputs": []
    },
    {
      "cell_type": "code",
      "source": [
        "banks = pd.read_csv('banklist.csv', parse_dates=[5, 6]) \n",
        "print(banks.info())"
      ],
      "metadata": {
        "id": "tN9iayS3wqzM"
      },
      "execution_count": null,
      "outputs": []
    },
    {
      "cell_type": "markdown",
      "source": [
        "분기와 연도만 추출하기"
      ],
      "metadata": {
        "id": "pRT1VDMXw259"
      }
    },
    {
      "cell_type": "code",
      "source": [
        "banks['closing_quarter'], banks['closing_year'] = (banks['Closing Date'].dt.quarter, banks['Closing Date'].dt.year)\n",
        "\n",
        "print(banks.head())"
      ],
      "metadata": {
        "id": "0bOZ8Ovyw6gZ"
      },
      "execution_count": null,
      "outputs": []
    },
    {
      "cell_type": "code",
      "source": [
        "closing_year=banks.groupby(['closing_year']).size()\n",
        "\n",
        "print(closing_year)"
      ],
      "metadata": {
        "id": "YlcTiyufxIys"
      },
      "execution_count": null,
      "outputs": []
    },
    {
      "cell_type": "code",
      "source": [
        "closing_year_q=banks.groupby(['closing_year','closing_quarter']).size()\n",
        "print(closing_year_q)"
      ],
      "metadata": {
        "id": "5Zh9PUPKxjRx"
      },
      "execution_count": null,
      "outputs": []
    },
    {
      "cell_type": "code",
      "source": [
        "import matplotlib.pyplot as plt\n",
        "\n",
        "fig, ax = plt.subplots()\n",
        "ax = closing_year.plot() \n",
        "plt.show()\n",
        "\n",
        "fig, ax = plt.subplots() \n",
        "ax = closing_year_q.plot() \n",
        "plt.show()"
      ],
      "metadata": {
        "id": "-r-Reu89yDOJ"
      },
      "execution_count": null,
      "outputs": []
    },
    {
      "cell_type": "markdown",
      "source": [
        "테슬라 주식 데이터로 시간 계산하기"
      ],
      "metadata": {
        "id": "yYBtjRkPyIN-"
      }
    },
    {
      "cell_type": "code",
      "source": [
        "pip install pandas_datareader"
      ],
      "metadata": {
        "id": "Ou0DpOdGyMBh"
      },
      "execution_count": null,
      "outputs": []
    },
    {
      "cell_type": "code",
      "source": [
        "pd.core.common.is_list_like = pd.api.types.is_list_like\n",
        "import pandas_datareader as pdr\n",
        "\n",
        "tesla = pdr.get_data_quandl('TSLA',api_key='8iUqTUA5Yw-9sDHLTJby')\n",
        "tesla.to_csv('tesla_stock_quandl.csv')"
      ],
      "metadata": {
        "id": "hXajX9qMyy7N"
      },
      "execution_count": null,
      "outputs": []
    },
    {
      "cell_type": "code",
      "source": [
        "print(tesla.head())"
      ],
      "metadata": {
        "id": "IrFD4rhQ0cDE"
      },
      "execution_count": null,
      "outputs": []
    },
    {
      "cell_type": "code",
      "source": [
        "tesla = pd.read_csv('tesla_stock_quandl.csv', parse_dates=[0])\n",
        "print(tesla.info())"
      ],
      "metadata": {
        "id": "VEr3VS4N0qGP"
      },
      "execution_count": null,
      "outputs": []
    },
    {
      "cell_type": "code",
      "source": [
        "print(tesla.loc[(tesla.Date.dt.year == 2017) & (tesla.Date.dt.month == 6)])"
      ],
      "metadata": {
        "id": "0FqrSeNS0zaW"
      },
      "execution_count": null,
      "outputs": []
    },
    {
      "cell_type": "markdown",
      "source": [
        "datetime 오브젝트를 인덱스로 설정하여 데이터 추출하기"
      ],
      "metadata": {
        "id": "u05LDrXD1WeI"
      }
    },
    {
      "cell_type": "code",
      "source": [
        "tesla.index = tesla['Date'] \n",
        "print(tesla.index)"
      ],
      "metadata": {
        "id": "zgKXv9KU1ahT"
      },
      "execution_count": null,
      "outputs": []
    },
    {
      "cell_type": "code",
      "source": [
        "print(tesla['2017'].iloc[:5, :5])"
      ],
      "metadata": {
        "id": "XOlyTZTe1vdl"
      },
      "execution_count": null,
      "outputs": []
    },
    {
      "cell_type": "code",
      "source": [
        "print(tesla['2017-06'].iloc[:, :5])"
      ],
      "metadata": {
        "id": "dKK7-f3I2RJn"
      },
      "execution_count": null,
      "outputs": []
    },
    {
      "cell_type": "markdown",
      "source": [
        "#6.시간 간격을 인덱스로 설정하여 데이터 추출하기"
      ],
      "metadata": {
        "id": "THxPFsfZ2dKp"
      }
    },
    {
      "cell_type": "code",
      "source": [
        "tesla['ref_date'] = tesla['Date'] - tesla['Date'].min()\n",
        "\n",
        "print(tesla.head())"
      ],
      "metadata": {
        "colab": {
          "base_uri": "https://localhost:8080/"
        },
        "id": "hgVSLmQY2kcS",
        "outputId": "6651591f-ed4f-40b0-d01d-e4a70854f7ee"
      },
      "execution_count": null,
      "outputs": [
        {
          "output_type": "stream",
          "name": "stdout",
          "text": [
            "                 Date    Open    High     Low   Close      Volume  ExDividend  \\\n",
            "Date                                                                            \n",
            "2018-03-27 2018-03-27  304.00  304.27  277.18  279.18  13696168.0         0.0   \n",
            "2018-03-26 2018-03-26  307.34  307.59  291.36  304.18   8324639.0         0.0   \n",
            "2018-03-23 2018-03-23  311.25  311.61  300.45  301.54   6600538.0         0.0   \n",
            "2018-03-22 2018-03-22  313.89  318.82  308.18  309.10   4914307.0         0.0   \n",
            "2018-03-21 2018-03-21  310.25  322.44  310.19  316.53   5927881.0         0.0   \n",
            "\n",
            "            SplitRatio  AdjOpen  AdjHigh  AdjLow  AdjClose   AdjVolume  \\\n",
            "Date                                                                     \n",
            "2018-03-27         1.0   304.00   304.27  277.18    279.18  13696168.0   \n",
            "2018-03-26         1.0   307.34   307.59  291.36    304.18   8324639.0   \n",
            "2018-03-23         1.0   311.25   311.61  300.45    301.54   6600538.0   \n",
            "2018-03-22         1.0   313.89   318.82  308.18    309.10   4914307.0   \n",
            "2018-03-21         1.0   310.25   322.44  310.19    316.53   5927881.0   \n",
            "\n",
            "           ref_date  \n",
            "Date                 \n",
            "2018-03-27 350 days  \n",
            "2018-03-26 349 days  \n",
            "2018-03-23 346 days  \n",
            "2018-03-22 345 days  \n",
            "2018-03-21 344 days  \n"
          ]
        }
      ]
    },
    {
      "cell_type": "code",
      "source": [
        "tesla.index = tesla['ref_date']\n",
        "\n",
        "print(tesla.iloc[:5, :5])"
      ],
      "metadata": {
        "colab": {
          "base_uri": "https://localhost:8080/"
        },
        "id": "k6rwL8_N2vrO",
        "outputId": "d5c98b22-d1c1-49b7-c539-e2cfac985ee3"
      },
      "execution_count": null,
      "outputs": [
        {
          "output_type": "stream",
          "name": "stdout",
          "text": [
            "               Date    Open    High     Low   Close\n",
            "ref_date                                           \n",
            "350 days 2018-03-27  304.00  304.27  277.18  279.18\n",
            "349 days 2018-03-26  307.34  307.59  291.36  304.18\n",
            "346 days 2018-03-23  311.25  311.61  300.45  301.54\n",
            "345 days 2018-03-22  313.89  318.82  308.18  309.10\n",
            "344 days 2018-03-21  310.25  322.44  310.19  316.53\n"
          ]
        }
      ]
    },
    {
      "cell_type": "code",
      "source": [
        "print(tesla['5 days':])"
      ],
      "metadata": {
        "colab": {
          "base_uri": "https://localhost:8080/"
        },
        "id": "dw6xnI7Q23Gi",
        "outputId": "e4b0e44b-01f4-483d-f21b-6dfa04dfcf5d"
      },
      "execution_count": null,
      "outputs": [
        {
          "output_type": "stream",
          "name": "stdout",
          "text": [
            "               Date    Open      High     Low   Close     Volume  ExDividend  \\\n",
            "ref_date                                                                       \n",
            "2 days   2017-04-13  296.70  307.3900  295.30  304.00  9284634.0         0.0   \n",
            "1 days   2017-04-12  306.34  308.4481  296.32  296.84  6050682.0         0.0   \n",
            "0 days   2017-04-11  313.38  313.4700  305.50  308.71  5724577.0         0.0   \n",
            "\n",
            "          SplitRatio  AdjOpen   AdjHigh  AdjLow  AdjClose  AdjVolume ref_date  \n",
            "ref_date                                                                       \n",
            "2 days           1.0   296.70  307.3900  295.30    304.00  9284634.0   2 days  \n",
            "1 days           1.0   306.34  308.4481  296.32    296.84  6050682.0   1 days  \n",
            "0 days           1.0   313.38  313.4700  305.50    308.71  5724577.0   0 days  \n"
          ]
        }
      ]
    },
    {
      "cell_type": "markdown",
      "source": [
        "# 7.시간 범위 생성해 인덱스로 지정하기"
      ],
      "metadata": {
        "id": "qD8_F5E1x4wz"
      }
    },
    {
      "cell_type": "code",
      "source": [
        "ebola=pd.read_csv(\"country_timeseries.csv\",parse_dates=[0])\n",
        "print(ebola.iloc[:5, :5])"
      ],
      "metadata": {
        "colab": {
          "base_uri": "https://localhost:8080/"
        },
        "id": "eRuDJ_dhyB1Y",
        "outputId": "031c5ee4-897e-4db4-e150-ee21f251ebef"
      },
      "execution_count": 7,
      "outputs": [
        {
          "output_type": "stream",
          "name": "stdout",
          "text": [
            "        Date  Day  Cases_Guinea  Cases_Liberia  Cases_SierraLeone\n",
            "0 2015-01-05  289        2776.0            NaN            10030.0\n",
            "1 2015-01-04  288        2775.0            NaN             9780.0\n",
            "2 2015-01-03  287        2769.0         8166.0             9722.0\n",
            "3 2015-01-02  286           NaN         8157.0                NaN\n",
            "4 2014-12-31  284        2730.0         8115.0             9633.0\n"
          ]
        }
      ]
    },
    {
      "cell_type": "code",
      "source": [
        "print(ebola.iloc[-5:, :5])"
      ],
      "metadata": {
        "colab": {
          "base_uri": "https://localhost:8080/"
        },
        "id": "lQL4_t5G0twd",
        "outputId": "eb58334f-8e73-4b94-a6c6-33a9bc053bcf"
      },
      "execution_count": 8,
      "outputs": [
        {
          "output_type": "stream",
          "name": "stdout",
          "text": [
            "          Date  Day  Cases_Guinea  Cases_Liberia  Cases_SierraLeone\n",
            "117 2014-03-27    5         103.0            8.0                6.0\n",
            "118 2014-03-26    4          86.0            NaN                NaN\n",
            "119 2014-03-25    3          86.0            NaN                NaN\n",
            "120 2014-03-24    2          86.0            NaN                NaN\n",
            "121 2014-03-22    0          49.0            NaN                NaN\n"
          ]
        }
      ]
    },
    {
      "cell_type": "markdown",
      "source": [
        "date_range 메서드를 사용하여 시작 끝 지정하여 시간 인덱스 생성"
      ],
      "metadata": {
        "id": "ApBZkwO11Hya"
      }
    },
    {
      "cell_type": "code",
      "source": [
        "head_range = pd.date_range(start='2014-12-31', end='2015-01-05') \n",
        "print(head_range)\n"
      ],
      "metadata": {
        "colab": {
          "base_uri": "https://localhost:8080/"
        },
        "id": "6R0cbaf91Obz",
        "outputId": "df67c1c9-e8c4-4498-d578-330f88e0fe84"
      },
      "execution_count": 9,
      "outputs": [
        {
          "output_type": "stream",
          "name": "stdout",
          "text": [
            "DatetimeIndex(['2014-12-31', '2015-01-01', '2015-01-02', '2015-01-03',\n",
            "               '2015-01-04', '2015-01-05'],\n",
            "              dtype='datetime64[ns]', freq='D')\n"
          ]
        }
      ]
    },
    {
      "cell_type": "code",
      "source": [
        "ebola_5 = ebola.head()\n",
        "ebola_5.index=ebola_5['Date']\n",
        "ebola_5.reindex(head_range)\n",
        "\n",
        "print(ebola_5.iloc[:5, :5])"
      ],
      "metadata": {
        "colab": {
          "base_uri": "https://localhost:8080/"
        },
        "id": "rS8HBJfU1YtO",
        "outputId": "3b1db194-7082-4c30-e1fb-3e46864f38ef"
      },
      "execution_count": 11,
      "outputs": [
        {
          "output_type": "stream",
          "name": "stdout",
          "text": [
            "                 Date  Day  Cases_Guinea  Cases_Liberia  Cases_SierraLeone\n",
            "Date                                                                      \n",
            "2015-01-05 2015-01-05  289        2776.0            NaN            10030.0\n",
            "2015-01-04 2015-01-04  288        2775.0            NaN             9780.0\n",
            "2015-01-03 2015-01-03  287        2769.0         8166.0             9722.0\n",
            "2015-01-02 2015-01-02  286           NaN         8157.0                NaN\n",
            "2014-12-31 2014-12-31  284        2730.0         8115.0             9633.0\n"
          ]
        }
      ]
    },
    {
      "cell_type": "markdown",
      "source": [
        "# 8.시간 범위 수정하고 데이터 밀어내기"
      ],
      "metadata": {
        "id": "HnNU-EhX13gx"
      }
    },
    {
      "cell_type": "code",
      "source": [
        "import matplotlib.pyplot as plt\n",
        "\n",
        "ebola.index = ebola['Date']\n",
        "\n",
        "fig, ax = plt.subplots() \n",
        "ax = ebola.iloc[0:, 1:].plot(ax=ax)\n",
        "ax.legend(fontsize=7, loc=2, borderaxespad=0.) \n",
        "plt.show()"
      ],
      "metadata": {
        "colab": {
          "base_uri": "https://localhost:8080/",
          "height": 277
        },
        "id": "AXK7AVSh2AbK",
        "outputId": "5c1e9c1b-0d77-4765-8c28-5ecc9b4ba4f1"
      },
      "execution_count": 12,
      "outputs": [
        {
          "output_type": "display_data",
          "data": {
            "text/plain": [
              "<Figure size 432x288 with 1 Axes>"
            ],
            "image/png": "[encoded data removed]"
          },
          "metadata": {
            "needs_background": "light"
          }
        }
      ]
    },
    {
      "cell_type": "markdown",
      "source": [
        "발병일 옮겨서 제대로 비교하기"
      ],
      "metadata": {
        "id": "kHIWogUJ2ekw"
      }
    },
    {
      "cell_type": "code",
      "source": [
        "ebola_sub = ebola[['Day', 'Cases_Guinea', 'Cases_Liberia']] \n",
        "print(ebola_sub.tail(10))"
      ],
      "metadata": {
        "colab": {
          "base_uri": "https://localhost:8080/"
        },
        "id": "m6mq0ywG2h57",
        "outputId": "f38a48c2-1b95-4a9a-d760-759bfeec6e42"
      },
      "execution_count": 13,
      "outputs": [
        {
          "output_type": "stream",
          "name": "stdout",
          "text": [
            "            Day  Cases_Guinea  Cases_Liberia\n",
            "Date                                        \n",
            "2014-04-04   13         143.0           18.0\n",
            "2014-04-01   10         127.0            8.0\n",
            "2014-03-31    9         122.0            8.0\n",
            "2014-03-29    7         112.0            7.0\n",
            "2014-03-28    6         112.0            3.0\n",
            "2014-03-27    5         103.0            8.0\n",
            "2014-03-26    4          86.0            NaN\n",
            "2014-03-25    3          86.0            NaN\n",
            "2014-03-24    2          86.0            NaN\n",
            "2014-03-22    0          49.0            NaN\n"
          ]
        }
      ]
    },
    {
      "cell_type": "code",
      "source": [
        "ebola = pd.read_csv(\"country_timeseries.csv\",  parse_dates=['Date'])\n",
        "\n",
        "print(ebola.head().iloc[:, :5])"
      ],
      "metadata": {
        "colab": {
          "base_uri": "https://localhost:8080/"
        },
        "id": "NtlQfeaa3NYM",
        "outputId": "8cb5bdce-c332-4d66-b8b3-c785bf57cc31"
      },
      "execution_count": 15,
      "outputs": [
        {
          "output_type": "stream",
          "name": "stdout",
          "text": [
            "        Date  Day  Cases_Guinea  Cases_Liberia  Cases_SierraLeone\n",
            "0 2015-01-05  289        2776.0            NaN            10030.0\n",
            "1 2015-01-04  288        2775.0            NaN             9780.0\n",
            "2 2015-01-03  287        2769.0         8166.0             9722.0\n",
            "3 2015-01-02  286           NaN         8157.0                NaN\n",
            "4 2014-12-31  284        2730.0         8115.0             9633.0\n"
          ]
        }
      ]
    },
    {
      "cell_type": "code",
      "source": [
        "ebola.index = ebola['Date']\n",
        "\n",
        "new_idx = pd.date_range(ebola.index.min(), ebola.index.max())"
      ],
      "metadata": {
        "id": "rniwUKIE3Y2g"
      },
      "execution_count": 25,
      "outputs": []
    },
    {
      "cell_type": "code",
      "source": [
        "new_idx = reversed (new_idx)\n",
        "ebola = ebola.reindex(new_idx)\n",
        "print(ebola.head().iloc[:, :5])\n",
        "print(ebola.tail().iloc[:, :5])"
      ],
      "metadata": {
        "colab": {
          "base_uri": "https://localhost:8080/"
        },
        "id": "eMiAFhhH34CJ",
        "outputId": "86359873-7098-470c-dbe8-b93238037a0f"
      },
      "execution_count": 26,
      "outputs": [
        {
          "output_type": "stream",
          "name": "stdout",
          "text": [
            "                 Date    Day  Cases_Guinea  Cases_Liberia  Cases_SierraLeone\n",
            "Date                                                                        \n",
            "2015-01-05 2015-01-05  289.0        2776.0            NaN            10030.0\n",
            "2015-01-04 2015-01-04  288.0        2775.0            NaN             9780.0\n",
            "2015-01-03 2015-01-03  287.0        2769.0         8166.0             9722.0\n",
            "2015-01-02 2015-01-02  286.0           NaN         8157.0                NaN\n",
            "2015-01-01        NaT    NaN           NaN            NaN                NaN\n",
            "                 Date  Day  Cases_Guinea  Cases_Liberia  Cases_SierraLeone\n",
            "Date                                                                      \n",
            "2014-03-26 2014-03-26  4.0          86.0            NaN                NaN\n",
            "2014-03-25 2014-03-25  3.0          86.0            NaN                NaN\n",
            "2014-03-24 2014-03-24  2.0          86.0            NaN                NaN\n",
            "2014-03-23        NaT  NaN           NaN            NaN                NaN\n",
            "2014-03-22 2014-03-22  0.0          49.0            NaN                NaN\n"
          ]
        }
      ]
    },
    {
      "cell_type": "markdown",
      "source": [
        "유효한 값이 있는 첫번째와 마지막 인덱스 반환하기"
      ],
      "metadata": {
        "id": "3Uw8bhrD5Uq_"
      }
    },
    {
      "cell_type": "code",
      "source": [
        "last_valid = ebola.apply(pd.Series.last_valid_index) \n",
        "print(last_valid)"
      ],
      "metadata": {
        "colab": {
          "base_uri": "https://localhost:8080/"
        },
        "id": "Dnaq_aJG5UYg",
        "outputId": "2fa9a460-0bb5-4a64-c7b3-42b121cdd96d"
      },
      "execution_count": 27,
      "outputs": [
        {
          "output_type": "stream",
          "name": "stdout",
          "text": [
            "Date                  2014-03-22\n",
            "Day                   2014-03-22\n",
            "Cases_Guinea          2014-03-22\n",
            "Cases_Liberia         2014-03-27\n",
            "Cases_SierraLeone     2014-03-27\n",
            "Cases_Nigeria         2014-07-23\n",
            "Cases_Senegal         2014-08-31\n",
            "Cases_UnitedStates    2014-10-01\n",
            "Cases_Spain           2014-10-08\n",
            "Cases_Mali            2014-10-22\n",
            "Deaths_Guinea         2014-03-22\n",
            "Deaths_Liberia        2014-03-27\n",
            "Deaths_SierraLeone    2014-03-27\n",
            "Deaths_Nigeria        2014-07-23\n",
            "Deaths_Senegal        2014-09-07\n",
            "Deaths_UnitedStates   2014-10-01\n",
            "Deaths_Spain          2014-10-08\n",
            "Deaths_Mali           2014-10-22\n",
            "dtype: datetime64[ns]\n"
          ]
        }
      ]
    },
    {
      "cell_type": "code",
      "source": [
        "first_valid = ebola.apply(pd.Series.first_valid_index) \n",
        "print(first_valid)"
      ],
      "metadata": {
        "colab": {
          "base_uri": "https://localhost:8080/"
        },
        "id": "N26E-nL75fXG",
        "outputId": "eb0ba153-0748-4486-8971-4d3c6b730677"
      },
      "execution_count": 28,
      "outputs": [
        {
          "output_type": "stream",
          "name": "stdout",
          "text": [
            "Date                  2015-01-05\n",
            "Day                   2015-01-05\n",
            "Cases_Guinea          2015-01-05\n",
            "Cases_Liberia         2015-01-03\n",
            "Cases_SierraLeone     2015-01-05\n",
            "Cases_Nigeria         2014-12-07\n",
            "Cases_Senegal         2014-12-07\n",
            "Cases_UnitedStates    2014-12-07\n",
            "Cases_Spain           2014-12-07\n",
            "Cases_Mali            2014-12-07\n",
            "Deaths_Guinea         2015-01-05\n",
            "Deaths_Liberia        2015-01-03\n",
            "Deaths_SierraLeone    2015-01-05\n",
            "Deaths_Nigeria        2014-12-07\n",
            "Deaths_Senegal        2014-12-07\n",
            "Deaths_UnitedStates   2014-12-07\n",
            "Deaths_Spain          2014-12-07\n",
            "Deaths_Mali           2014-12-07\n",
            "dtype: datetime64[ns]\n"
          ]
        }
      ]
    },
    {
      "cell_type": "code",
      "source": [
        "earliest_date = ebola.index.min() \n",
        "print(earliest_date)"
      ],
      "metadata": {
        "colab": {
          "base_uri": "https://localhost:8080/"
        },
        "id": "3sRp_LiG5xgx",
        "outputId": "7e8c16be-6c47-4352-b37b-c047b9af9e0e"
      },
      "execution_count": 29,
      "outputs": [
        {
          "output_type": "stream",
          "name": "stdout",
          "text": [
            "2014-03-22 00:00:00\n"
          ]
        }
      ]
    },
    {
      "cell_type": "code",
      "source": [
        "shift_values = last_valid - earliest_date \n",
        "print(shift_values)"
      ],
      "metadata": {
        "colab": {
          "base_uri": "https://localhost:8080/"
        },
        "id": "z0A9uv8i5xlq",
        "outputId": "ffcf80d5-6a28-480f-a08d-cdd56ad339eb"
      },
      "execution_count": 30,
      "outputs": [
        {
          "output_type": "stream",
          "name": "stdout",
          "text": [
            "Date                    0 days\n",
            "Day                     0 days\n",
            "Cases_Guinea            0 days\n",
            "Cases_Liberia           5 days\n",
            "Cases_SierraLeone       5 days\n",
            "Cases_Nigeria         123 days\n",
            "Cases_Senegal         162 days\n",
            "Cases_UnitedStates    193 days\n",
            "Cases_Spain           200 days\n",
            "Cases_Mali            214 days\n",
            "Deaths_Guinea           0 days\n",
            "Deaths_Liberia          5 days\n",
            "Deaths_SierraLeone      5 days\n",
            "Deaths_Nigeria        123 days\n",
            "Deaths_Senegal        169 days\n",
            "Deaths_UnitedStates   193 days\n",
            "Deaths_Spain          200 days\n",
            "Deaths_Mali           214 days\n",
            "dtype: timedelta64[ns]\n"
          ]
        }
      ]
    },
    {
      "cell_type": "markdown",
      "source": [
        "shift 메서드: 인잣값만큼 데이터를 밀어내는 메서드"
      ],
      "metadata": {
        "id": "LjgJPx8359U-"
      }
    },
    {
      "cell_type": "code",
      "source": [
        "ebola_dict = {} \n",
        "for idx, col in enumerate(ebola):\n",
        "    d = shift_values[idx].days \n",
        "    shifted = ebola[col].shift(d) \n",
        "    ebola_dict[col] = shifted\n",
        "ebola_dict"
      ],
      "metadata": {
        "colab": {
          "base_uri": "https://localhost:8080/"
        },
        "id": "ItV4_tSj6Ciz",
        "outputId": "fc7f8547-5558-453f-a652-c6a635f516ce"
      },
      "execution_count": 32,
      "outputs": [
        {
          "output_type": "execute_result",
          "data": {
            "text/plain": [
              "{'Cases_Guinea': Date\n",
              " 2015-01-05    2776.0\n",
              " 2015-01-04    2775.0\n",
              " 2015-01-03    2769.0\n",
              " 2015-01-02       NaN\n",
              " 2015-01-01       NaN\n",
              "                ...  \n",
              " 2014-03-26      86.0\n",
              " 2014-03-25      86.0\n",
              " 2014-03-24      86.0\n",
              " 2014-03-23       NaN\n",
              " 2014-03-22      49.0\n",
              " Name: Cases_Guinea, Length: 290, dtype: float64, 'Cases_Liberia': Date\n",
              " 2015-01-05    NaN\n",
              " 2015-01-04    NaN\n",
              " 2015-01-03    NaN\n",
              " 2015-01-02    NaN\n",
              " 2015-01-01    NaN\n",
              "              ... \n",
              " 2014-03-26    8.0\n",
              " 2014-03-25    NaN\n",
              " 2014-03-24    7.0\n",
              " 2014-03-23    3.0\n",
              " 2014-03-22    8.0\n",
              " Name: Cases_Liberia, Length: 290, dtype: float64, 'Cases_Mali': Date\n",
              " 2015-01-05    NaN\n",
              " 2015-01-04    NaN\n",
              " 2015-01-03    NaN\n",
              " 2015-01-02    NaN\n",
              " 2015-01-01    NaN\n",
              "              ... \n",
              " 2014-03-26    NaN\n",
              " 2014-03-25    NaN\n",
              " 2014-03-24    NaN\n",
              " 2014-03-23    NaN\n",
              " 2014-03-22    1.0\n",
              " Name: Cases_Mali, Length: 290, dtype: float64, 'Cases_Nigeria': Date\n",
              " 2015-01-05    NaN\n",
              " 2015-01-04    NaN\n",
              " 2015-01-03    NaN\n",
              " 2015-01-02    NaN\n",
              " 2015-01-01    NaN\n",
              "              ... \n",
              " 2014-03-26    1.0\n",
              " 2014-03-25    NaN\n",
              " 2014-03-24    NaN\n",
              " 2014-03-23    NaN\n",
              " 2014-03-22    0.0\n",
              " Name: Cases_Nigeria, Length: 290, dtype: float64, 'Cases_Senegal': Date\n",
              " 2015-01-05    NaN\n",
              " 2015-01-04    NaN\n",
              " 2015-01-03    NaN\n",
              " 2015-01-02    NaN\n",
              " 2015-01-01    NaN\n",
              "              ... \n",
              " 2014-03-26    NaN\n",
              " 2014-03-25    NaN\n",
              " 2014-03-24    NaN\n",
              " 2014-03-23    NaN\n",
              " 2014-03-22    1.0\n",
              " Name: Cases_Senegal, Length: 290, dtype: float64, 'Cases_SierraLeone': Date\n",
              " 2015-01-05    NaN\n",
              " 2015-01-04    NaN\n",
              " 2015-01-03    NaN\n",
              " 2015-01-02    NaN\n",
              " 2015-01-01    NaN\n",
              "              ... \n",
              " 2014-03-26    2.0\n",
              " 2014-03-25    NaN\n",
              " 2014-03-24    NaN\n",
              " 2014-03-23    2.0\n",
              " 2014-03-22    6.0\n",
              " Name: Cases_SierraLeone, Length: 290, dtype: float64, 'Cases_Spain': Date\n",
              " 2015-01-05    NaN\n",
              " 2015-01-04    NaN\n",
              " 2015-01-03    NaN\n",
              " 2015-01-02    NaN\n",
              " 2015-01-01    NaN\n",
              "              ... \n",
              " 2014-03-26    1.0\n",
              " 2014-03-25    NaN\n",
              " 2014-03-24    NaN\n",
              " 2014-03-23    NaN\n",
              " 2014-03-22    1.0\n",
              " Name: Cases_Spain, Length: 290, dtype: float64, 'Cases_UnitedStates': Date\n",
              " 2015-01-05    NaN\n",
              " 2015-01-04    NaN\n",
              " 2015-01-03    NaN\n",
              " 2015-01-02    NaN\n",
              " 2015-01-01    NaN\n",
              "              ... \n",
              " 2014-03-26    1.0\n",
              " 2014-03-25    NaN\n",
              " 2014-03-24    NaN\n",
              " 2014-03-23    NaN\n",
              " 2014-03-22    1.0\n",
              " Name: Cases_UnitedStates, Length: 290, dtype: float64, 'Date': Date\n",
              " 2015-01-05   2015-01-05\n",
              " 2015-01-04   2015-01-04\n",
              " 2015-01-03   2015-01-03\n",
              " 2015-01-02   2015-01-02\n",
              " 2015-01-01          NaT\n",
              "                 ...    \n",
              " 2014-03-26   2014-03-26\n",
              " 2014-03-25   2014-03-25\n",
              " 2014-03-24   2014-03-24\n",
              " 2014-03-23          NaT\n",
              " 2014-03-22   2014-03-22\n",
              " Name: Date, Length: 290, dtype: datetime64[ns], 'Day': Date\n",
              " 2015-01-05    289.0\n",
              " 2015-01-04    288.0\n",
              " 2015-01-03    287.0\n",
              " 2015-01-02    286.0\n",
              " 2015-01-01      NaN\n",
              "               ...  \n",
              " 2014-03-26      4.0\n",
              " 2014-03-25      3.0\n",
              " 2014-03-24      2.0\n",
              " 2014-03-23      NaN\n",
              " 2014-03-22      0.0\n",
              " Name: Day, Length: 290, dtype: float64, 'Deaths_Guinea': Date\n",
              " 2015-01-05    1786.0\n",
              " 2015-01-04    1781.0\n",
              " 2015-01-03    1767.0\n",
              " 2015-01-02       NaN\n",
              " 2015-01-01       NaN\n",
              "                ...  \n",
              " 2014-03-26      62.0\n",
              " 2014-03-25      60.0\n",
              " 2014-03-24      59.0\n",
              " 2014-03-23       NaN\n",
              " 2014-03-22      29.0\n",
              " Name: Deaths_Guinea, Length: 290, dtype: float64, 'Deaths_Liberia': Date\n",
              " 2015-01-05    NaN\n",
              " 2015-01-04    NaN\n",
              " 2015-01-03    NaN\n",
              " 2015-01-02    NaN\n",
              " 2015-01-01    NaN\n",
              "              ... \n",
              " 2014-03-26    4.0\n",
              " 2014-03-25    NaN\n",
              " 2014-03-24    2.0\n",
              " 2014-03-23    3.0\n",
              " 2014-03-22    6.0\n",
              " Name: Deaths_Liberia, Length: 290, dtype: float64, 'Deaths_Mali': Date\n",
              " 2015-01-05    NaN\n",
              " 2015-01-04    NaN\n",
              " 2015-01-03    NaN\n",
              " 2015-01-02    NaN\n",
              " 2015-01-01    NaN\n",
              "              ... \n",
              " 2014-03-26    NaN\n",
              " 2014-03-25    NaN\n",
              " 2014-03-24    NaN\n",
              " 2014-03-23    NaN\n",
              " 2014-03-22    1.0\n",
              " Name: Deaths_Mali, Length: 290, dtype: float64, 'Deaths_Nigeria': Date\n",
              " 2015-01-05    NaN\n",
              " 2015-01-04    NaN\n",
              " 2015-01-03    NaN\n",
              " 2015-01-02    NaN\n",
              " 2015-01-01    NaN\n",
              "              ... \n",
              " 2014-03-26    1.0\n",
              " 2014-03-25    NaN\n",
              " 2014-03-24    NaN\n",
              " 2014-03-23    NaN\n",
              " 2014-03-22    0.0\n",
              " Name: Deaths_Nigeria, Length: 290, dtype: float64, 'Deaths_Senegal': Date\n",
              " 2015-01-05    NaN\n",
              " 2015-01-04    NaN\n",
              " 2015-01-03    NaN\n",
              " 2015-01-02    NaN\n",
              " 2015-01-01    NaN\n",
              "              ... \n",
              " 2014-03-26    NaN\n",
              " 2014-03-25    NaN\n",
              " 2014-03-24    NaN\n",
              " 2014-03-23    NaN\n",
              " 2014-03-22    0.0\n",
              " Name: Deaths_Senegal, Length: 290, dtype: float64, 'Deaths_SierraLeone': Date\n",
              " 2015-01-05    NaN\n",
              " 2015-01-04    NaN\n",
              " 2015-01-03    NaN\n",
              " 2015-01-02    NaN\n",
              " 2015-01-01    NaN\n",
              "              ... \n",
              " 2014-03-26    2.0\n",
              " 2014-03-25    NaN\n",
              " 2014-03-24    NaN\n",
              " 2014-03-23    2.0\n",
              " 2014-03-22    5.0\n",
              " Name: Deaths_SierraLeone, Length: 290, dtype: float64, 'Deaths_Spain': Date\n",
              " 2015-01-05    NaN\n",
              " 2015-01-04    NaN\n",
              " 2015-01-03    NaN\n",
              " 2015-01-02    NaN\n",
              " 2015-01-01    NaN\n",
              "              ... \n",
              " 2014-03-26    1.0\n",
              " 2014-03-25    NaN\n",
              " 2014-03-24    NaN\n",
              " 2014-03-23    NaN\n",
              " 2014-03-22    1.0\n",
              " Name: Deaths_Spain, Length: 290, dtype: float64, 'Deaths_UnitedStates': Date\n",
              " 2015-01-05    NaN\n",
              " 2015-01-04    NaN\n",
              " 2015-01-03    NaN\n",
              " 2015-01-02    NaN\n",
              " 2015-01-01    NaN\n",
              "              ... \n",
              " 2014-03-26    0.0\n",
              " 2014-03-25    NaN\n",
              " 2014-03-24    NaN\n",
              " 2014-03-23    NaN\n",
              " 2014-03-22    0.0\n",
              " Name: Deaths_UnitedStates, Length: 290, dtype: float64}"
            ]
          },
          "metadata": {},
          "execution_count": 32
        }
      ]
    },
    {
      "cell_type": "code",
      "source": [
        "ebola_shift = pd.DataFrame(ebola_dict)"
      ],
      "metadata": {
        "id": "bbGmtdEj69KP"
      },
      "execution_count": 33,
      "outputs": []
    },
    {
      "cell_type": "code",
      "source": [
        "print(ebola_shift.tail())"
      ],
      "metadata": {
        "colab": {
          "base_uri": "https://localhost:8080/"
        },
        "id": "TbuPLDGn7AMx",
        "outputId": "76a0da96-5c4b-41cb-a185-ad772aa0a24e"
      },
      "execution_count": 34,
      "outputs": [
        {
          "output_type": "stream",
          "name": "stdout",
          "text": [
            "                 Date  Day  Cases_Guinea  Cases_Liberia  Cases_SierraLeone  \\\n",
            "Date                                                                         \n",
            "2014-03-26 2014-03-26  4.0          86.0            8.0                2.0   \n",
            "2014-03-25 2014-03-25  3.0          86.0            NaN                NaN   \n",
            "2014-03-24 2014-03-24  2.0          86.0            7.0                NaN   \n",
            "2014-03-23        NaT  NaN           NaN            3.0                2.0   \n",
            "2014-03-22 2014-03-22  0.0          49.0            8.0                6.0   \n",
            "\n",
            "            Cases_Nigeria  Cases_Senegal  Cases_UnitedStates  Cases_Spain  \\\n",
            "Date                                                                        \n",
            "2014-03-26            1.0            NaN                 1.0          1.0   \n",
            "2014-03-25            NaN            NaN                 NaN          NaN   \n",
            "2014-03-24            NaN            NaN                 NaN          NaN   \n",
            "2014-03-23            NaN            NaN                 NaN          NaN   \n",
            "2014-03-22            0.0            1.0                 1.0          1.0   \n",
            "\n",
            "            Cases_Mali  Deaths_Guinea  Deaths_Liberia  Deaths_SierraLeone  \\\n",
            "Date                                                                        \n",
            "2014-03-26         NaN           62.0             4.0                 2.0   \n",
            "2014-03-25         NaN           60.0             NaN                 NaN   \n",
            "2014-03-24         NaN           59.0             2.0                 NaN   \n",
            "2014-03-23         NaN            NaN             3.0                 2.0   \n",
            "2014-03-22         1.0           29.0             6.0                 5.0   \n",
            "\n",
            "            Deaths_Nigeria  Deaths_Senegal  Deaths_UnitedStates  Deaths_Spain  \\\n",
            "Date                                                                            \n",
            "2014-03-26             1.0             NaN                  0.0           1.0   \n",
            "2014-03-25             NaN             NaN                  NaN           NaN   \n",
            "2014-03-24             NaN             NaN                  NaN           NaN   \n",
            "2014-03-23             NaN             NaN                  NaN           NaN   \n",
            "2014-03-22             0.0             0.0                  0.0           1.0   \n",
            "\n",
            "            Deaths_Mali  \n",
            "Date                     \n",
            "2014-03-26          NaN  \n",
            "2014-03-25          NaN  \n",
            "2014-03-24          NaN  \n",
            "2014-03-23          NaN  \n",
            "2014-03-22          1.0  \n"
          ]
        }
      ]
    },
    {
      "cell_type": "code",
      "source": [
        "ebola_shift.index = ebola_shift['Day'] \n",
        "ebola_shift = ebola_shift.drop(['Date', 'Day'], axis=1)\n",
        "\n",
        "print(ebola_shift.tail())"
      ],
      "metadata": {
        "colab": {
          "base_uri": "https://localhost:8080/"
        },
        "id": "2AI7bIod7Ejd",
        "outputId": "045fd7b7-a586-43ad-fdff-8dcd77ab6d18"
      },
      "execution_count": 35,
      "outputs": [
        {
          "output_type": "stream",
          "name": "stdout",
          "text": [
            "     Cases_Guinea  Cases_Liberia  Cases_SierraLeone  Cases_Nigeria  \\\n",
            "Day                                                                  \n",
            "4.0          86.0            8.0                2.0            1.0   \n",
            "3.0          86.0            NaN                NaN            NaN   \n",
            "2.0          86.0            7.0                NaN            NaN   \n",
            "NaN           NaN            3.0                2.0            NaN   \n",
            "0.0          49.0            8.0                6.0            0.0   \n",
            "\n",
            "     Cases_Senegal  Cases_UnitedStates  Cases_Spain  Cases_Mali  \\\n",
            "Day                                                               \n",
            "4.0            NaN                 1.0          1.0         NaN   \n",
            "3.0            NaN                 NaN          NaN         NaN   \n",
            "2.0            NaN                 NaN          NaN         NaN   \n",
            "NaN            NaN                 NaN          NaN         NaN   \n",
            "0.0            1.0                 1.0          1.0         1.0   \n",
            "\n",
            "     Deaths_Guinea  Deaths_Liberia  Deaths_SierraLeone  Deaths_Nigeria  \\\n",
            "Day                                                                      \n",
            "4.0           62.0             4.0                 2.0             1.0   \n",
            "3.0           60.0             NaN                 NaN             NaN   \n",
            "2.0           59.0             2.0                 NaN             NaN   \n",
            "NaN            NaN             3.0                 2.0             NaN   \n",
            "0.0           29.0             6.0                 5.0             0.0   \n",
            "\n",
            "     Deaths_Senegal  Deaths_UnitedStates  Deaths_Spain  Deaths_Mali  \n",
            "Day                                                                  \n",
            "4.0             NaN                  0.0           1.0          NaN  \n",
            "3.0             NaN                  NaN           NaN          NaN  \n",
            "2.0             NaN                  NaN           NaN          NaN  \n",
            "NaN             NaN                  NaN           NaN          NaN  \n",
            "0.0             0.0                  0.0           1.0          1.0  \n"
          ]
        }
      ]
    },
    {
      "cell_type": "code",
      "source": [
        "fig, ax = plt.subplots() \n",
        "ax = ebola_shift.iloc[:, :].plot(ax=ax)\n",
        "ax.legend(fontsize=7, loc=2, borderaxespad=0.) \n",
        "plt.show()"
      ],
      "metadata": {
        "colab": {
          "base_uri": "https://localhost:8080/",
          "height": 279
        },
        "id": "TExvwJrv7EmA",
        "outputId": "6ead13fd-08e1-4285-94a7-65bed3137dbb"
      },
      "execution_count": 36,
      "outputs": [
        {
          "output_type": "display_data",
          "data": {
            "text/plain": [
              "<Figure size 432x288 with 1 Axes>"
            ],
            "image/png": "[encoded data removed]"
          },
          "metadata": {
            "needs_background": "light"
          }
        }
      ]
    }
  ]
}