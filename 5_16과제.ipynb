{
  "nbformat": 4,
  "nbformat_minor": 0,
  "metadata": {
    "colab": {
      "name": "5_16과제.ipynb",
      "provenance": [],
      "authorship_tag": "ABX9TyNixoJZ6P7X4Fb/zycDWbnF",
      "include_colab_link": true
    },
    "kernelspec": {
      "name": "python3",
      "display_name": "Python 3"
    },
    "language_info": {
      "name": "python"
    }
  },
  "cells": [
    {
      "cell_type": "markdown",
      "metadata": {
        "id": "view-in-github",
        "colab_type": "text"
      },
      "source": [
        "<a href=\"https://colab.research.google.com/github/KJ22222/ESSA/blob/main/5_16%EA%B3%BC%EC%A0%9C.ipynb\" target=\"_parent\"><img src=\"https://colab.research.google.com/assets/colab-badge.svg\" alt=\"Open In Colab\"/></a>"
      ]
    },
    {
      "cell_type": "markdown",
      "source": [
        "#1.xgboost"
      ],
      "metadata": {
        "id": "VDxDw9VxzJ28"
      }
    },
    {
      "cell_type": "markdown",
      "source": [
        "장점\n",
        "* 뛰어난 예측 성능\n",
        "* gbm 대비 빠른 수행 시간\n",
        "* 과적합 규제\n",
        "* 나무 가지치기\n",
        "* 자체 내장된 교차 검증\n",
        "* 결손값 자체 처리\n",
        "* 조기 중단 기능\n",
        "\n"
      ],
      "metadata": {
        "id": "elATAIT3zXhY"
      }
    },
    {
      "cell_type": "code",
      "execution_count": null,
      "metadata": {
        "colab": {
          "base_uri": "https://localhost:8080/"
        },
        "id": "hJBkb0sczEMA",
        "outputId": "ed0ca279-9377-466c-a1cc-90e7555a57e5"
      },
      "outputs": [
        {
          "output_type": "stream",
          "name": "stdout",
          "text": [
            "0.90\n"
          ]
        }
      ],
      "source": [
        "import xgboost\n",
        "print(xgboost.__version__)"
      ]
    },
    {
      "cell_type": "markdown",
      "source": [
        "#xg부스트 적용"
      ],
      "metadata": {
        "id": "hZjUA37y0c8e"
      }
    },
    {
      "cell_type": "markdown",
      "source": [
        "피처의 중요도 시각화 모듈:plot_importance"
      ],
      "metadata": {
        "id": "ei-33Ni90TM4"
      }
    },
    {
      "cell_type": "code",
      "source": [
        "import xgboost as xgb\n",
        "from xgboost import plot_importance\n",
        "import pandas as pd\n",
        "import numpy as np\n",
        "from sklearn.datasets import load_breast_cancer\n",
        "from sklearn.model_selection import train_test_split\n",
        "import warnings\n",
        "warnings.filterwarnings('ignore')\n",
        "\n",
        "dataset = load_breast_cancer()\n",
        "X_features= dataset.data\n",
        "y_label = dataset.target\n",
        "\n",
        "cancer_df = pd.DataFrame(data=X_features, columns=dataset.feature_names)\n",
        "cancer_df['target']= y_label\n",
        "cancer_df.head(3)"
      ],
      "metadata": {
        "colab": {
          "base_uri": "https://localhost:8080/",
          "height": 271
        },
        "id": "-1_M6DJW0FTB",
        "outputId": "cc8b054e-1dcb-4f79-a005-5c0324bf7d1d"
      },
      "execution_count": 1,
      "outputs": [
        {
          "output_type": "execute_result",
          "data": {
            "text/plain": [
              "   mean radius  mean texture  mean perimeter  mean area  mean smoothness  \\\n",
              "0        17.99         10.38           122.8     1001.0          0.11840   \n",
              "1        20.57         17.77           132.9     1326.0          0.08474   \n",
              "2        19.69         21.25           130.0     1203.0          0.10960   \n",
              "\n",
              "   mean compactness  mean concavity  mean concave points  mean symmetry  \\\n",
              "0           0.27760          0.3001              0.14710         0.2419   \n",
              "1           0.07864          0.0869              0.07017         0.1812   \n",
              "2           0.15990          0.1974              0.12790         0.2069   \n",
              "\n",
              "   mean fractal dimension  ...  worst texture  worst perimeter  worst area  \\\n",
              "0                 0.07871  ...          17.33            184.6      2019.0   \n",
              "1                 0.05667  ...          23.41            158.8      1956.0   \n",
              "2                 0.05999  ...          25.53            152.5      1709.0   \n",
              "\n",
              "   worst smoothness  worst compactness  worst concavity  worst concave points  \\\n",
              "0            0.1622             0.6656           0.7119                0.2654   \n",
              "1            0.1238             0.1866           0.2416                0.1860   \n",
              "2            0.1444             0.4245           0.4504                0.2430   \n",
              "\n",
              "   worst symmetry  worst fractal dimension  target  \n",
              "0          0.4601                  0.11890       0  \n",
              "1          0.2750                  0.08902       0  \n",
              "2          0.3613                  0.08758       0  \n",
              "\n",
              "[3 rows x 31 columns]"
            ],
            "text/html": [
              "\n",
              "  <div id=\"df-2b60f8c8-60d2-469e-b8e5-2584abd49e4c\">\n",
              "    <div class=\"colab-df-container\">\n",
              "      <div>\n",
              "<style scoped>\n",
              "    .dataframe tbody tr th:only-of-type {\n",
              "        vertical-align: middle;\n",
              "    }\n",
              "\n",
              "    .dataframe tbody tr th {\n",
              "        vertical-align: top;\n",
              "    }\n",
              "\n",
              "    .dataframe thead th {\n",
              "        text-align: right;\n",
              "    }\n",
              "</style>\n",
              "<table border=\"1\" class=\"dataframe\">\n",
              "  <thead>\n",
              "    <tr style=\"text-align: right;\">\n",
              "      <th></th>\n",
              "      <th>mean radius</th>\n",
              "      <th>mean texture</th>\n",
              "      <th>mean perimeter</th>\n",
              "      <th>mean area</th>\n",
              "      <th>mean smoothness</th>\n",
              "      <th>mean compactness</th>\n",
              "      <th>mean concavity</th>\n",
              "      <th>mean concave points</th>\n",
              "      <th>mean symmetry</th>\n",
              "      <th>mean fractal dimension</th>\n",
              "      <th>...</th>\n",
              "      <th>worst texture</th>\n",
              "      <th>worst perimeter</th>\n",
              "      <th>worst area</th>\n",
              "      <th>worst smoothness</th>\n",
              "      <th>worst compactness</th>\n",
              "      <th>worst concavity</th>\n",
              "      <th>worst concave points</th>\n",
              "      <th>worst symmetry</th>\n",
              "      <th>worst fractal dimension</th>\n",
              "      <th>target</th>\n",
              "    </tr>\n",
              "  </thead>\n",
              "  <tbody>\n",
              "    <tr>\n",
              "      <th>0</th>\n",
              "      <td>17.99</td>\n",
              "      <td>10.38</td>\n",
              "      <td>122.8</td>\n",
              "      <td>1001.0</td>\n",
              "      <td>0.11840</td>\n",
              "      <td>0.27760</td>\n",
              "      <td>0.3001</td>\n",
              "      <td>0.14710</td>\n",
              "      <td>0.2419</td>\n",
              "      <td>0.07871</td>\n",
              "      <td>...</td>\n",
              "      <td>17.33</td>\n",
              "      <td>184.6</td>\n",
              "      <td>2019.0</td>\n",
              "      <td>0.1622</td>\n",
              "      <td>0.6656</td>\n",
              "      <td>0.7119</td>\n",
              "      <td>0.2654</td>\n",
              "      <td>0.4601</td>\n",
              "      <td>0.11890</td>\n",
              "      <td>0</td>\n",
              "    </tr>\n",
              "    <tr>\n",
              "      <th>1</th>\n",
              "      <td>20.57</td>\n",
              "      <td>17.77</td>\n",
              "      <td>132.9</td>\n",
              "      <td>1326.0</td>\n",
              "      <td>0.08474</td>\n",
              "      <td>0.07864</td>\n",
              "      <td>0.0869</td>\n",
              "      <td>0.07017</td>\n",
              "      <td>0.1812</td>\n",
              "      <td>0.05667</td>\n",
              "      <td>...</td>\n",
              "      <td>23.41</td>\n",
              "      <td>158.8</td>\n",
              "      <td>1956.0</td>\n",
              "      <td>0.1238</td>\n",
              "      <td>0.1866</td>\n",
              "      <td>0.2416</td>\n",
              "      <td>0.1860</td>\n",
              "      <td>0.2750</td>\n",
              "      <td>0.08902</td>\n",
              "      <td>0</td>\n",
              "    </tr>\n",
              "    <tr>\n",
              "      <th>2</th>\n",
              "      <td>19.69</td>\n",
              "      <td>21.25</td>\n",
              "      <td>130.0</td>\n",
              "      <td>1203.0</td>\n",
              "      <td>0.10960</td>\n",
              "      <td>0.15990</td>\n",
              "      <td>0.1974</td>\n",
              "      <td>0.12790</td>\n",
              "      <td>0.2069</td>\n",
              "      <td>0.05999</td>\n",
              "      <td>...</td>\n",
              "      <td>25.53</td>\n",
              "      <td>152.5</td>\n",
              "      <td>1709.0</td>\n",
              "      <td>0.1444</td>\n",
              "      <td>0.4245</td>\n",
              "      <td>0.4504</td>\n",
              "      <td>0.2430</td>\n",
              "      <td>0.3613</td>\n",
              "      <td>0.08758</td>\n",
              "      <td>0</td>\n",
              "    </tr>\n",
              "  </tbody>\n",
              "</table>\n",
              "<p>3 rows × 31 columns</p>\n",
              "</div>\n",
              "      <button class=\"colab-df-convert\" onclick=\"convertToInteractive('df-2b60f8c8-60d2-469e-b8e5-2584abd49e4c')\"\n",
              "              title=\"Convert this dataframe to an interactive table.\"\n",
              "              style=\"display:none;\">\n",
              "        \n",
              "  <svg xmlns=\"http://www.w3.org/2000/svg\" height=\"24px\"viewBox=\"0 0 24 24\"\n",
              "       width=\"24px\">\n",
              "    <path d=\"M0 0h24v24H0V0z\" fill=\"none\"/>\n",
              "    <path d=\"M18.56 5.44l.94 2.06.94-2.06 2.06-.94-2.06-.94-.94-2.06-.94 2.06-2.06.94zm-11 1L8.5 8.5l.94-2.06 2.06-.94-2.06-.94L8.5 2.5l-.94 2.06-2.06.94zm10 10l.94 2.06.94-2.06 2.06-.94-2.06-.94-.94-2.06-.94 2.06-2.06.94z\"/><path d=\"M17.41 7.96l-1.37-1.37c-.4-.4-.92-.59-1.43-.59-.52 0-1.04.2-1.43.59L10.3 9.45l-7.72 7.72c-.78.78-.78 2.05 0 2.83L4 21.41c.39.39.9.59 1.41.59.51 0 1.02-.2 1.41-.59l7.78-7.78 2.81-2.81c.8-.78.8-2.07 0-2.86zM5.41 20L4 18.59l7.72-7.72 1.47 1.35L5.41 20z\"/>\n",
              "  </svg>\n",
              "      </button>\n",
              "      \n",
              "  <style>\n",
              "    .colab-df-container {\n",
              "      display:flex;\n",
              "      flex-wrap:wrap;\n",
              "      gap: 12px;\n",
              "    }\n",
              "\n",
              "    .colab-df-convert {\n",
              "      background-color: #E8F0FE;\n",
              "      border: none;\n",
              "      border-radius: 50%;\n",
              "      cursor: pointer;\n",
              "      display: none;\n",
              "      fill: #1967D2;\n",
              "      height: 32px;\n",
              "      padding: 0 0 0 0;\n",
              "      width: 32px;\n",
              "    }\n",
              "\n",
              "    .colab-df-convert:hover {\n",
              "      background-color: #E2EBFA;\n",
              "      box-shadow: 0px 1px 2px rgba(60, 64, 67, 0.3), 0px 1px 3px 1px rgba(60, 64, 67, 0.15);\n",
              "      fill: #174EA6;\n",
              "    }\n",
              "\n",
              "    [theme=dark] .colab-df-convert {\n",
              "      background-color: #3B4455;\n",
              "      fill: #D2E3FC;\n",
              "    }\n",
              "\n",
              "    [theme=dark] .colab-df-convert:hover {\n",
              "      background-color: #434B5C;\n",
              "      box-shadow: 0px 1px 3px 1px rgba(0, 0, 0, 0.15);\n",
              "      filter: drop-shadow(0px 1px 2px rgba(0, 0, 0, 0.3));\n",
              "      fill: #FFFFFF;\n",
              "    }\n",
              "  </style>\n",
              "\n",
              "      <script>\n",
              "        const buttonEl =\n",
              "          document.querySelector('#df-2b60f8c8-60d2-469e-b8e5-2584abd49e4c button.colab-df-convert');\n",
              "        buttonEl.style.display =\n",
              "          google.colab.kernel.accessAllowed ? 'block' : 'none';\n",
              "\n",
              "        async function convertToInteractive(key) {\n",
              "          const element = document.querySelector('#df-2b60f8c8-60d2-469e-b8e5-2584abd49e4c');\n",
              "          const dataTable =\n",
              "            await google.colab.kernel.invokeFunction('convertToInteractive',\n",
              "                                                     [key], {});\n",
              "          if (!dataTable) return;\n",
              "\n",
              "          const docLinkHtml = 'Like what you see? Visit the ' +\n",
              "            '<a target=\"_blank\" href=https://colab.research.google.com/notebooks/data_table.ipynb>data table notebook</a>'\n",
              "            + ' to learn more about interactive tables.';\n",
              "          element.innerHTML = '';\n",
              "          dataTable['output_type'] = 'display_data';\n",
              "          await google.colab.output.renderOutput(dataTable, element);\n",
              "          const docLink = document.createElement('div');\n",
              "          docLink.innerHTML = docLinkHtml;\n",
              "          element.appendChild(docLink);\n",
              "        }\n",
              "      </script>\n",
              "    </div>\n",
              "  </div>\n",
              "  "
            ]
          },
          "metadata": {},
          "execution_count": 1
        }
      ]
    },
    {
      "cell_type": "code",
      "source": [
        "print(dataset.target_names)\n",
        "print(cancer_df['target'].value_counts())"
      ],
      "metadata": {
        "colab": {
          "base_uri": "https://localhost:8080/"
        },
        "id": "-GHagi740oLE",
        "outputId": "3e41caff-77be-495a-9724-d08a8fa25ff5"
      },
      "execution_count": 2,
      "outputs": [
        {
          "output_type": "stream",
          "name": "stdout",
          "text": [
            "['malignant' 'benign']\n",
            "1    357\n",
            "0    212\n",
            "Name: target, dtype: int64\n"
          ]
        }
      ]
    },
    {
      "cell_type": "code",
      "source": [
        "X_train, X_test, y_train, y_test=train_test_split(X_features, y_label,\n",
        "                                         test_size=0.2, random_state=156 )\n",
        "print(X_train.shape , X_test.shape)"
      ],
      "metadata": {
        "colab": {
          "base_uri": "https://localhost:8080/"
        },
        "id": "yhurRziN0rTu",
        "outputId": "bec909e7-4de1-4033-cfb0-f07e8c0781ad"
      },
      "execution_count": 3,
      "outputs": [
        {
          "output_type": "stream",
          "name": "stdout",
          "text": [
            "(455, 30) (114, 30)\n"
          ]
        }
      ]
    },
    {
      "cell_type": "markdown",
      "source": [
        "넘파이 형태의 학습 데이터와 테스트 데이터 세트를 DMatrix로 변환"
      ],
      "metadata": {
        "id": "E-2U0hic1G47"
      }
    },
    {
      "cell_type": "code",
      "source": [
        "dtrain = xgb.DMatrix(data=X_train , label=y_train)\n",
        "dtest = xgb.DMatrix(data=X_test , label=y_test)"
      ],
      "metadata": {
        "id": "lhJu5A8V1PF2"
      },
      "execution_count": 4,
      "outputs": []
    },
    {
      "cell_type": "markdown",
      "source": [
        "- 트리 최대 깊이:3\n",
        "- 학습률:0.1\n",
        "- 예제 데이터가 0또는 1 이진 분류이므로 목적함수는 이진 로지스틱\n",
        "- 오류 함수 평가 성능 지표는 logloss\n",
        "- num_rounds는 400회"
      ],
      "metadata": {
        "id": "XnlZef7y1UA9"
      }
    },
    {
      "cell_type": "code",
      "source": [
        "params = { 'max_depth':3,\n",
        "           'eta': 0.1,\n",
        "           'objective':'binary:logistic',\n",
        "           'eval_metric':'logloss',\n",
        "           'early_stoppings':100\n",
        "        }\n",
        "num_rounds = 400"
      ],
      "metadata": {
        "id": "7-lDMvHX155I"
      },
      "execution_count": 5,
      "outputs": []
    },
    {
      "cell_type": "markdown",
      "source": [
        "조기 중단을 위해 early_stopping_rounds는 eval_set과 eval_metric과 함께 설정돼야 함"
      ],
      "metadata": {
        "id": "PvICTvvj17hs"
      }
    },
    {
      "cell_type": "code",
      "source": [
        "# train 데이터 셋은 ‘train’ , evaluation(test) 데이터 셋은 ‘eval’ 로 명기합니다. \n",
        "wlist = [(dtrain,'train'),(dtest,'eval') ]\n",
        "# 하이퍼 파라미터와 early stopping 파라미터를 train( ) 함수의 파라미터로 전달\n",
        "xgb_model = xgb.train(params = params , dtrain=dtrain , num_boost_round=num_rounds , evals=wlist )"
      ],
      "metadata": {
        "id": "AAbWd3Wu2p1U",
        "outputId": "f0ee808b-7e42-417a-86aa-b94c22fa296a",
        "colab": {
          "base_uri": "https://localhost:8080/"
        }
      },
      "execution_count": 6,
      "outputs": [
        {
          "output_type": "stream",
          "name": "stdout",
          "text": [
            "[0]\ttrain-logloss:0.609688\teval-logloss:0.61352\n",
            "[1]\ttrain-logloss:0.540803\teval-logloss:0.547843\n",
            "[2]\ttrain-logloss:0.483753\teval-logloss:0.494248\n",
            "[3]\ttrain-logloss:0.434457\teval-logloss:0.447986\n",
            "[4]\ttrain-logloss:0.39055\teval-logloss:0.409109\n",
            "[5]\ttrain-logloss:0.354146\teval-logloss:0.374977\n",
            "[6]\ttrain-logloss:0.321222\teval-logloss:0.345714\n",
            "[7]\ttrain-logloss:0.292593\teval-logloss:0.320529\n",
            "[8]\ttrain-logloss:0.267467\teval-logloss:0.29721\n",
            "[9]\ttrain-logloss:0.245153\teval-logloss:0.277991\n",
            "[10]\ttrain-logloss:0.225694\teval-logloss:0.260302\n",
            "[11]\ttrain-logloss:0.207938\teval-logloss:0.246037\n",
            "[12]\ttrain-logloss:0.192184\teval-logloss:0.231556\n",
            "[13]\ttrain-logloss:0.177916\teval-logloss:0.22005\n",
            "[14]\ttrain-logloss:0.165222\teval-logloss:0.208572\n",
            "[15]\ttrain-logloss:0.153622\teval-logloss:0.199993\n",
            "[16]\ttrain-logloss:0.14333\teval-logloss:0.190118\n",
            "[17]\ttrain-logloss:0.133985\teval-logloss:0.181818\n",
            "[18]\ttrain-logloss:0.125599\teval-logloss:0.174729\n",
            "[19]\ttrain-logloss:0.117286\teval-logloss:0.167657\n",
            "[20]\ttrain-logloss:0.109688\teval-logloss:0.158202\n",
            "[21]\ttrain-logloss:0.102975\teval-logloss:0.154725\n",
            "[22]\ttrain-logloss:0.097067\teval-logloss:0.148947\n",
            "[23]\ttrain-logloss:0.091428\teval-logloss:0.143308\n",
            "[24]\ttrain-logloss:0.086335\teval-logloss:0.136344\n",
            "[25]\ttrain-logloss:0.081311\teval-logloss:0.132778\n",
            "[26]\ttrain-logloss:0.076857\teval-logloss:0.127912\n",
            "[27]\ttrain-logloss:0.072836\teval-logloss:0.125263\n",
            "[28]\ttrain-logloss:0.069248\teval-logloss:0.119978\n",
            "[29]\ttrain-logloss:0.065549\teval-logloss:0.116412\n",
            "[30]\ttrain-logloss:0.062414\teval-logloss:0.114502\n",
            "[31]\ttrain-logloss:0.059591\teval-logloss:0.112572\n",
            "[32]\ttrain-logloss:0.057096\teval-logloss:0.11154\n",
            "[33]\ttrain-logloss:0.054407\teval-logloss:0.108681\n",
            "[34]\ttrain-logloss:0.052036\teval-logloss:0.106681\n",
            "[35]\ttrain-logloss:0.049751\teval-logloss:0.104207\n",
            "[36]\ttrain-logloss:0.04775\teval-logloss:0.102962\n",
            "[37]\ttrain-logloss:0.045853\teval-logloss:0.100576\n",
            "[38]\ttrain-logloss:0.044015\teval-logloss:0.098683\n",
            "[39]\ttrain-logloss:0.042263\teval-logloss:0.096444\n",
            "[40]\ttrain-logloss:0.040649\teval-logloss:0.095869\n",
            "[41]\ttrain-logloss:0.039126\teval-logloss:0.094242\n",
            "[42]\ttrain-logloss:0.037377\teval-logloss:0.094715\n",
            "[43]\ttrain-logloss:0.036106\teval-logloss:0.094272\n",
            "[44]\ttrain-logloss:0.034941\teval-logloss:0.093894\n",
            "[45]\ttrain-logloss:0.033654\teval-logloss:0.094184\n",
            "[46]\ttrain-logloss:0.032528\teval-logloss:0.09402\n",
            "[47]\ttrain-logloss:0.031485\teval-logloss:0.09236\n",
            "[48]\ttrain-logloss:0.030389\teval-logloss:0.093012\n",
            "[49]\ttrain-logloss:0.029467\teval-logloss:0.091273\n",
            "[50]\ttrain-logloss:0.028545\teval-logloss:0.090051\n",
            "[51]\ttrain-logloss:0.027525\teval-logloss:0.089605\n",
            "[52]\ttrain-logloss:0.026555\teval-logloss:0.089577\n",
            "[53]\ttrain-logloss:0.025682\teval-logloss:0.090703\n",
            "[54]\ttrain-logloss:0.025004\teval-logloss:0.089579\n",
            "[55]\ttrain-logloss:0.024297\teval-logloss:0.090357\n",
            "[56]\ttrain-logloss:0.023574\teval-logloss:0.091587\n",
            "[57]\ttrain-logloss:0.022965\teval-logloss:0.091527\n",
            "[58]\ttrain-logloss:0.022488\teval-logloss:0.091986\n",
            "[59]\ttrain-logloss:0.021854\teval-logloss:0.091951\n",
            "[60]\ttrain-logloss:0.021316\teval-logloss:0.091939\n",
            "[61]\ttrain-logloss:0.020794\teval-logloss:0.091461\n",
            "[62]\ttrain-logloss:0.020218\teval-logloss:0.090311\n",
            "[63]\ttrain-logloss:0.019701\teval-logloss:0.089407\n",
            "[64]\ttrain-logloss:0.01918\teval-logloss:0.089719\n",
            "[65]\ttrain-logloss:0.018724\teval-logloss:0.089743\n",
            "[66]\ttrain-logloss:0.018325\teval-logloss:0.089622\n",
            "[67]\ttrain-logloss:0.017867\teval-logloss:0.088734\n",
            "[68]\ttrain-logloss:0.017598\teval-logloss:0.088621\n",
            "[69]\ttrain-logloss:0.017243\teval-logloss:0.089739\n",
            "[70]\ttrain-logloss:0.01688\teval-logloss:0.089981\n",
            "[71]\ttrain-logloss:0.016641\teval-logloss:0.089782\n",
            "[72]\ttrain-logloss:0.016287\teval-logloss:0.089584\n",
            "[73]\ttrain-logloss:0.015983\teval-logloss:0.089533\n",
            "[74]\ttrain-logloss:0.015658\teval-logloss:0.088748\n",
            "[75]\ttrain-logloss:0.015393\teval-logloss:0.088597\n",
            "[76]\ttrain-logloss:0.015151\teval-logloss:0.08812\n",
            "[77]\ttrain-logloss:0.01488\teval-logloss:0.088396\n",
            "[78]\ttrain-logloss:0.014637\teval-logloss:0.088736\n",
            "[79]\ttrain-logloss:0.014491\teval-logloss:0.088153\n",
            "[80]\ttrain-logloss:0.014185\teval-logloss:0.087577\n",
            "[81]\ttrain-logloss:0.014005\teval-logloss:0.087412\n",
            "[82]\ttrain-logloss:0.013772\teval-logloss:0.08849\n",
            "[83]\ttrain-logloss:0.013568\teval-logloss:0.088575\n",
            "[84]\ttrain-logloss:0.013414\teval-logloss:0.08807\n",
            "[85]\ttrain-logloss:0.013253\teval-logloss:0.087641\n",
            "[86]\ttrain-logloss:0.013109\teval-logloss:0.087416\n",
            "[87]\ttrain-logloss:0.012926\teval-logloss:0.087611\n",
            "[88]\ttrain-logloss:0.012714\teval-logloss:0.087065\n",
            "[89]\ttrain-logloss:0.012544\teval-logloss:0.08727\n",
            "[90]\ttrain-logloss:0.012353\teval-logloss:0.087161\n",
            "[91]\ttrain-logloss:0.012226\teval-logloss:0.086962\n",
            "[92]\ttrain-logloss:0.012065\teval-logloss:0.087166\n",
            "[93]\ttrain-logloss:0.011927\teval-logloss:0.087067\n",
            "[94]\ttrain-logloss:0.011821\teval-logloss:0.086592\n",
            "[95]\ttrain-logloss:0.011649\teval-logloss:0.086116\n",
            "[96]\ttrain-logloss:0.011482\teval-logloss:0.087139\n",
            "[97]\ttrain-logloss:0.01136\teval-logloss:0.086768\n",
            "[98]\ttrain-logloss:0.011239\teval-logloss:0.086694\n",
            "[99]\ttrain-logloss:0.011132\teval-logloss:0.086547\n",
            "[100]\ttrain-logloss:0.011002\teval-logloss:0.086498\n",
            "[101]\ttrain-logloss:0.010852\teval-logloss:0.08641\n",
            "[102]\ttrain-logloss:0.010755\teval-logloss:0.086288\n",
            "[103]\ttrain-logloss:0.010636\teval-logloss:0.086258\n",
            "[104]\ttrain-logloss:0.0105\teval-logloss:0.086835\n",
            "[105]\ttrain-logloss:0.010395\teval-logloss:0.086767\n",
            "[106]\ttrain-logloss:0.010305\teval-logloss:0.087321\n",
            "[107]\ttrain-logloss:0.010197\teval-logloss:0.087304\n",
            "[108]\ttrain-logloss:0.010072\teval-logloss:0.08728\n",
            "[109]\ttrain-logloss:0.01\teval-logloss:0.087298\n",
            "[110]\ttrain-logloss:0.009914\teval-logloss:0.087289\n",
            "[111]\ttrain-logloss:0.009798\teval-logloss:0.088002\n",
            "[112]\ttrain-logloss:0.00971\teval-logloss:0.087936\n",
            "[113]\ttrain-logloss:0.009628\teval-logloss:0.087843\n",
            "[114]\ttrain-logloss:0.009558\teval-logloss:0.088066\n",
            "[115]\ttrain-logloss:0.009483\teval-logloss:0.087649\n",
            "[116]\ttrain-logloss:0.009416\teval-logloss:0.087298\n",
            "[117]\ttrain-logloss:0.009306\teval-logloss:0.087799\n",
            "[118]\ttrain-logloss:0.009228\teval-logloss:0.087751\n",
            "[119]\ttrain-logloss:0.009154\teval-logloss:0.08768\n",
            "[120]\ttrain-logloss:0.009118\teval-logloss:0.087626\n",
            "[121]\ttrain-logloss:0.009016\teval-logloss:0.08757\n",
            "[122]\ttrain-logloss:0.008972\teval-logloss:0.087547\n",
            "[123]\ttrain-logloss:0.008904\teval-logloss:0.087156\n",
            "[124]\ttrain-logloss:0.008837\teval-logloss:0.08767\n",
            "[125]\ttrain-logloss:0.008803\teval-logloss:0.087737\n",
            "[126]\ttrain-logloss:0.008709\teval-logloss:0.088275\n",
            "[127]\ttrain-logloss:0.008645\teval-logloss:0.088309\n",
            "[128]\ttrain-logloss:0.008613\teval-logloss:0.088266\n",
            "[129]\ttrain-logloss:0.008555\teval-logloss:0.087886\n",
            "[130]\ttrain-logloss:0.008463\teval-logloss:0.088861\n",
            "[131]\ttrain-logloss:0.008416\teval-logloss:0.088675\n",
            "[132]\ttrain-logloss:0.008385\teval-logloss:0.088743\n",
            "[133]\ttrain-logloss:0.0083\teval-logloss:0.089218\n",
            "[134]\ttrain-logloss:0.00827\teval-logloss:0.089179\n",
            "[135]\ttrain-logloss:0.008218\teval-logloss:0.088821\n",
            "[136]\ttrain-logloss:0.008157\teval-logloss:0.088512\n",
            "[137]\ttrain-logloss:0.008076\teval-logloss:0.08848\n",
            "[138]\ttrain-logloss:0.008047\teval-logloss:0.088386\n",
            "[139]\ttrain-logloss:0.007973\teval-logloss:0.089145\n",
            "[140]\ttrain-logloss:0.007946\teval-logloss:0.08911\n",
            "[141]\ttrain-logloss:0.007898\teval-logloss:0.088765\n",
            "[142]\ttrain-logloss:0.007872\teval-logloss:0.088678\n",
            "[143]\ttrain-logloss:0.007847\teval-logloss:0.088389\n",
            "[144]\ttrain-logloss:0.007776\teval-logloss:0.089271\n",
            "[145]\ttrain-logloss:0.007752\teval-logloss:0.089238\n",
            "[146]\ttrain-logloss:0.007728\teval-logloss:0.089139\n",
            "[147]\ttrain-logloss:0.007689\teval-logloss:0.088907\n",
            "[148]\ttrain-logloss:0.007621\teval-logloss:0.089416\n",
            "[149]\ttrain-logloss:0.007598\teval-logloss:0.089388\n",
            "[150]\ttrain-logloss:0.007575\teval-logloss:0.089108\n",
            "[151]\ttrain-logloss:0.007521\teval-logloss:0.088735\n",
            "[152]\ttrain-logloss:0.007498\teval-logloss:0.088717\n",
            "[153]\ttrain-logloss:0.007464\teval-logloss:0.088484\n",
            "[154]\ttrain-logloss:0.00741\teval-logloss:0.088471\n",
            "[155]\ttrain-logloss:0.007389\teval-logloss:0.088545\n",
            "[156]\ttrain-logloss:0.007367\teval-logloss:0.088521\n",
            "[157]\ttrain-logloss:0.007345\teval-logloss:0.088547\n",
            "[158]\ttrain-logloss:0.007323\teval-logloss:0.088275\n",
            "[159]\ttrain-logloss:0.007303\teval-logloss:0.0883\n",
            "[160]\ttrain-logloss:0.007282\teval-logloss:0.08828\n",
            "[161]\ttrain-logloss:0.007261\teval-logloss:0.088013\n",
            "[162]\ttrain-logloss:0.007241\teval-logloss:0.087758\n",
            "[163]\ttrain-logloss:0.007221\teval-logloss:0.087784\n",
            "[164]\ttrain-logloss:0.0072\teval-logloss:0.087777\n",
            "[165]\ttrain-logloss:0.00718\teval-logloss:0.087517\n",
            "[166]\ttrain-logloss:0.007161\teval-logloss:0.087542\n",
            "[167]\ttrain-logloss:0.007142\teval-logloss:0.087642\n",
            "[168]\ttrain-logloss:0.007122\teval-logloss:0.08739\n",
            "[169]\ttrain-logloss:0.007103\teval-logloss:0.087377\n",
            "[170]\ttrain-logloss:0.007084\teval-logloss:0.087298\n",
            "[171]\ttrain-logloss:0.007065\teval-logloss:0.087368\n",
            "[172]\ttrain-logloss:0.007047\teval-logloss:0.087395\n",
            "[173]\ttrain-logloss:0.007028\teval-logloss:0.087385\n",
            "[174]\ttrain-logloss:0.007009\teval-logloss:0.087132\n",
            "[175]\ttrain-logloss:0.006991\teval-logloss:0.087159\n",
            "[176]\ttrain-logloss:0.006973\teval-logloss:0.086955\n",
            "[177]\ttrain-logloss:0.006955\teval-logloss:0.087053\n",
            "[178]\ttrain-logloss:0.006937\teval-logloss:0.08697\n",
            "[179]\ttrain-logloss:0.00692\teval-logloss:0.086973\n",
            "[180]\ttrain-logloss:0.006901\teval-logloss:0.087038\n",
            "[181]\ttrain-logloss:0.006884\teval-logloss:0.086799\n",
            "[182]\ttrain-logloss:0.006866\teval-logloss:0.086826\n",
            "[183]\ttrain-logloss:0.006849\teval-logloss:0.086582\n",
            "[184]\ttrain-logloss:0.006831\teval-logloss:0.086588\n",
            "[185]\ttrain-logloss:0.006815\teval-logloss:0.086614\n",
            "[186]\ttrain-logloss:0.006798\teval-logloss:0.086372\n",
            "[187]\ttrain-logloss:0.006781\teval-logloss:0.086369\n",
            "[188]\ttrain-logloss:0.006764\teval-logloss:0.086297\n",
            "[189]\ttrain-logloss:0.006747\teval-logloss:0.086104\n",
            "[190]\ttrain-logloss:0.00673\teval-logloss:0.086023\n",
            "[191]\ttrain-logloss:0.006714\teval-logloss:0.08605\n",
            "[192]\ttrain-logloss:0.006698\teval-logloss:0.086149\n",
            "[193]\ttrain-logloss:0.006682\teval-logloss:0.085916\n",
            "[194]\ttrain-logloss:0.006666\teval-logloss:0.085915\n",
            "[195]\ttrain-logloss:0.00665\teval-logloss:0.085984\n",
            "[196]\ttrain-logloss:0.006634\teval-logloss:0.086012\n",
            "[197]\ttrain-logloss:0.006618\teval-logloss:0.085922\n",
            "[198]\ttrain-logloss:0.006603\teval-logloss:0.085853\n",
            "[199]\ttrain-logloss:0.006587\teval-logloss:0.085874\n",
            "[200]\ttrain-logloss:0.006572\teval-logloss:0.085888\n",
            "[201]\ttrain-logloss:0.006556\teval-logloss:0.08595\n",
            "[202]\ttrain-logloss:0.006542\teval-logloss:0.08573\n",
            "[203]\ttrain-logloss:0.006527\teval-logloss:0.08573\n",
            "[204]\ttrain-logloss:0.006512\teval-logloss:0.085753\n",
            "[205]\ttrain-logloss:0.006497\teval-logloss:0.085821\n",
            "[206]\ttrain-logloss:0.006483\teval-logloss:0.08584\n",
            "[207]\ttrain-logloss:0.006469\teval-logloss:0.085776\n",
            "[208]\ttrain-logloss:0.006455\teval-logloss:0.085686\n",
            "[209]\ttrain-logloss:0.00644\teval-logloss:0.08571\n",
            "[210]\ttrain-logloss:0.006427\teval-logloss:0.085806\n",
            "[211]\ttrain-logloss:0.006413\teval-logloss:0.085593\n",
            "[212]\ttrain-logloss:0.006399\teval-logloss:0.085801\n",
            "[213]\ttrain-logloss:0.006385\teval-logloss:0.085807\n",
            "[214]\ttrain-logloss:0.006372\teval-logloss:0.085744\n",
            "[215]\ttrain-logloss:0.006359\teval-logloss:0.085658\n",
            "[216]\ttrain-logloss:0.006345\teval-logloss:0.085843\n",
            "[217]\ttrain-logloss:0.006332\teval-logloss:0.085632\n",
            "[218]\ttrain-logloss:0.006319\teval-logloss:0.085726\n",
            "[219]\ttrain-logloss:0.006306\teval-logloss:0.085783\n",
            "[220]\ttrain-logloss:0.006293\teval-logloss:0.085791\n",
            "[221]\ttrain-logloss:0.00628\teval-logloss:0.085817\n",
            "[222]\ttrain-logloss:0.006268\teval-logloss:0.085757\n",
            "[223]\ttrain-logloss:0.006255\teval-logloss:0.085674\n",
            "[224]\ttrain-logloss:0.006242\teval-logloss:0.08586\n",
            "[225]\ttrain-logloss:0.00623\teval-logloss:0.085871\n",
            "[226]\ttrain-logloss:0.006218\teval-logloss:0.085927\n",
            "[227]\ttrain-logloss:0.006206\teval-logloss:0.085954\n",
            "[228]\ttrain-logloss:0.006194\teval-logloss:0.085874\n",
            "[229]\ttrain-logloss:0.006182\teval-logloss:0.086057\n",
            "[230]\ttrain-logloss:0.00617\teval-logloss:0.086002\n",
            "[231]\ttrain-logloss:0.006158\teval-logloss:0.085922\n",
            "[232]\ttrain-logloss:0.006147\teval-logloss:0.086102\n",
            "[233]\ttrain-logloss:0.006135\teval-logloss:0.086115\n",
            "[234]\ttrain-logloss:0.006124\teval-logloss:0.086169\n",
            "[235]\ttrain-logloss:0.006112\teval-logloss:0.086263\n",
            "[236]\ttrain-logloss:0.006101\teval-logloss:0.086291\n",
            "[237]\ttrain-logloss:0.00609\teval-logloss:0.086217\n",
            "[238]\ttrain-logloss:0.006079\teval-logloss:0.086395\n",
            "[239]\ttrain-logloss:0.006068\teval-logloss:0.086342\n",
            "[240]\ttrain-logloss:0.006057\teval-logloss:0.08618\n",
            "[241]\ttrain-logloss:0.006046\teval-logloss:0.086195\n",
            "[242]\ttrain-logloss:0.006036\teval-logloss:0.086248\n",
            "[243]\ttrain-logloss:0.006025\teval-logloss:0.086263\n",
            "[244]\ttrain-logloss:0.006014\teval-logloss:0.086293\n",
            "[245]\ttrain-logloss:0.006004\teval-logloss:0.086222\n",
            "[246]\ttrain-logloss:0.005993\teval-logloss:0.086398\n",
            "[247]\ttrain-logloss:0.005983\teval-logloss:0.086347\n",
            "[248]\ttrain-logloss:0.005972\teval-logloss:0.086276\n",
            "[249]\ttrain-logloss:0.005962\teval-logloss:0.086448\n",
            "[250]\ttrain-logloss:0.005952\teval-logloss:0.086294\n",
            "[251]\ttrain-logloss:0.005942\teval-logloss:0.086312\n",
            "[252]\ttrain-logloss:0.005932\teval-logloss:0.086364\n",
            "[253]\ttrain-logloss:0.005922\teval-logloss:0.086394\n",
            "[254]\ttrain-logloss:0.005912\teval-logloss:0.08649\n",
            "[255]\ttrain-logloss:0.005903\teval-logloss:0.086441\n",
            "[256]\ttrain-logloss:0.005893\teval-logloss:0.08629\n",
            "[257]\ttrain-logloss:0.005883\teval-logloss:0.086459\n",
            "[258]\ttrain-logloss:0.005874\teval-logloss:0.086391\n",
            "[259]\ttrain-logloss:0.005864\teval-logloss:0.086441\n",
            "[260]\ttrain-logloss:0.005855\teval-logloss:0.086461\n",
            "[261]\ttrain-logloss:0.005845\teval-logloss:0.086491\n",
            "[262]\ttrain-logloss:0.005836\teval-logloss:0.086445\n",
            "[263]\ttrain-logloss:0.005827\teval-logloss:0.086466\n",
            "[264]\ttrain-logloss:0.005818\teval-logloss:0.086319\n",
            "[265]\ttrain-logloss:0.005809\teval-logloss:0.086488\n",
            "[266]\ttrain-logloss:0.0058\teval-logloss:0.086538\n",
            "[267]\ttrain-logloss:0.005791\teval-logloss:0.086471\n",
            "[268]\ttrain-logloss:0.005782\teval-logloss:0.086501\n",
            "[269]\ttrain-logloss:0.005773\teval-logloss:0.086522\n",
            "[270]\ttrain-logloss:0.005764\teval-logloss:0.086689\n",
            "[271]\ttrain-logloss:0.005755\teval-logloss:0.086738\n",
            "[272]\ttrain-logloss:0.005747\teval-logloss:0.086829\n",
            "[273]\ttrain-logloss:0.005738\teval-logloss:0.086684\n",
            "[274]\ttrain-logloss:0.005729\teval-logloss:0.08664\n",
            "[275]\ttrain-logloss:0.005721\teval-logloss:0.086496\n",
            "[276]\ttrain-logloss:0.005712\teval-logloss:0.086355\n",
            "[277]\ttrain-logloss:0.005704\teval-logloss:0.086519\n",
            "[278]\ttrain-logloss:0.005696\teval-logloss:0.086567\n",
            "[279]\ttrain-logloss:0.005687\teval-logloss:0.08659\n",
            "[280]\ttrain-logloss:0.005679\teval-logloss:0.086679\n",
            "[281]\ttrain-logloss:0.005671\teval-logloss:0.086637\n",
            "[282]\ttrain-logloss:0.005663\teval-logloss:0.086499\n",
            "[283]\ttrain-logloss:0.005655\teval-logloss:0.086356\n",
            "[284]\ttrain-logloss:0.005646\teval-logloss:0.086405\n",
            "[285]\ttrain-logloss:0.005639\teval-logloss:0.086429\n",
            "[286]\ttrain-logloss:0.005631\teval-logloss:0.086456\n",
            "[287]\ttrain-logloss:0.005623\teval-logloss:0.086504\n",
            "[288]\ttrain-logloss:0.005615\teval-logloss:0.08637\n",
            "[289]\ttrain-logloss:0.005608\teval-logloss:0.086457\n",
            "[290]\ttrain-logloss:0.0056\teval-logloss:0.086453\n",
            "[291]\ttrain-logloss:0.005593\teval-logloss:0.086322\n",
            "[292]\ttrain-logloss:0.005585\teval-logloss:0.086284\n",
            "[293]\ttrain-logloss:0.005577\teval-logloss:0.086148\n",
            "[294]\ttrain-logloss:0.00557\teval-logloss:0.086196\n",
            "[295]\ttrain-logloss:0.005563\teval-logloss:0.086221\n",
            "[296]\ttrain-logloss:0.005556\teval-logloss:0.086308\n",
            "[297]\ttrain-logloss:0.005548\teval-logloss:0.086178\n",
            "[298]\ttrain-logloss:0.005541\teval-logloss:0.086263\n",
            "[299]\ttrain-logloss:0.005534\teval-logloss:0.086131\n",
            "[300]\ttrain-logloss:0.005526\teval-logloss:0.086179\n",
            "[301]\ttrain-logloss:0.005519\teval-logloss:0.086052\n",
            "[302]\ttrain-logloss:0.005512\teval-logloss:0.086016\n",
            "[303]\ttrain-logloss:0.005505\teval-logloss:0.086101\n",
            "[304]\ttrain-logloss:0.005498\teval-logloss:0.085977\n",
            "[305]\ttrain-logloss:0.005491\teval-logloss:0.086059\n",
            "[306]\ttrain-logloss:0.005484\teval-logloss:0.085971\n",
            "[307]\ttrain-logloss:0.005478\teval-logloss:0.085998\n",
            "[308]\ttrain-logloss:0.005471\teval-logloss:0.085998\n",
            "[309]\ttrain-logloss:0.005464\teval-logloss:0.085877\n",
            "[310]\ttrain-logloss:0.005457\teval-logloss:0.085923\n",
            "[311]\ttrain-logloss:0.00545\teval-logloss:0.085948\n",
            "[312]\ttrain-logloss:0.005444\teval-logloss:0.086028\n",
            "[313]\ttrain-logloss:0.005437\teval-logloss:0.086112\n",
            "[314]\ttrain-logloss:0.00543\teval-logloss:0.085989\n",
            "[315]\ttrain-logloss:0.005424\teval-logloss:0.085903\n",
            "[316]\ttrain-logloss:0.005417\teval-logloss:0.085949\n",
            "[317]\ttrain-logloss:0.005411\teval-logloss:0.085977\n",
            "[318]\ttrain-logloss:0.005404\teval-logloss:0.086002\n",
            "[319]\ttrain-logloss:0.005398\teval-logloss:0.085883\n",
            "[320]\ttrain-logloss:0.005392\teval-logloss:0.085967\n",
            "[321]\ttrain-logloss:0.005385\teval-logloss:0.086046\n",
            "[322]\ttrain-logloss:0.005379\teval-logloss:0.086091\n",
            "[323]\ttrain-logloss:0.005373\teval-logloss:0.085977\n",
            "[324]\ttrain-logloss:0.005366\teval-logloss:0.085978\n",
            "[325]\ttrain-logloss:0.00536\teval-logloss:0.085896\n",
            "[326]\ttrain-logloss:0.005354\teval-logloss:0.08578\n",
            "[327]\ttrain-logloss:0.005348\teval-logloss:0.085857\n",
            "[328]\ttrain-logloss:0.005342\teval-logloss:0.085939\n",
            "[329]\ttrain-logloss:0.005336\teval-logloss:0.085825\n",
            "[330]\ttrain-logloss:0.00533\teval-logloss:0.085869\n",
            "[331]\ttrain-logloss:0.005324\teval-logloss:0.085893\n",
            "[332]\ttrain-logloss:0.005318\teval-logloss:0.085922\n",
            "[333]\ttrain-logloss:0.005312\teval-logloss:0.085842\n",
            "[334]\ttrain-logloss:0.005306\teval-logloss:0.085735\n",
            "[335]\ttrain-logloss:0.0053\teval-logloss:0.085816\n",
            "[336]\ttrain-logloss:0.005294\teval-logloss:0.085892\n",
            "[337]\ttrain-logloss:0.005288\teval-logloss:0.085936\n",
            "[338]\ttrain-logloss:0.005283\teval-logloss:0.08583\n",
            "[339]\ttrain-logloss:0.005277\teval-logloss:0.085909\n",
            "[340]\ttrain-logloss:0.005271\teval-logloss:0.085831\n",
            "[341]\ttrain-logloss:0.005265\teval-logloss:0.085727\n",
            "[342]\ttrain-logloss:0.00526\teval-logloss:0.085678\n",
            "[343]\ttrain-logloss:0.005254\teval-logloss:0.085721\n",
            "[344]\ttrain-logloss:0.005249\teval-logloss:0.085796\n",
            "[345]\ttrain-logloss:0.005243\teval-logloss:0.085819\n",
            "[346]\ttrain-logloss:0.005237\teval-logloss:0.085715\n",
            "[347]\ttrain-logloss:0.005232\teval-logloss:0.085793\n",
            "[348]\ttrain-logloss:0.005227\teval-logloss:0.085835\n",
            "[349]\ttrain-logloss:0.005221\teval-logloss:0.085734\n",
            "[350]\ttrain-logloss:0.005216\teval-logloss:0.085658\n",
            "[351]\ttrain-logloss:0.00521\teval-logloss:0.08573\n",
            "[352]\ttrain-logloss:0.005205\teval-logloss:0.085807\n",
            "[353]\ttrain-logloss:0.0052\teval-logloss:0.085706\n",
            "[354]\ttrain-logloss:0.005195\teval-logloss:0.085659\n",
            "[355]\ttrain-logloss:0.005189\teval-logloss:0.085701\n",
            "[356]\ttrain-logloss:0.005184\teval-logloss:0.085628\n",
            "[357]\ttrain-logloss:0.005179\teval-logloss:0.085529\n",
            "[358]\ttrain-logloss:0.005174\teval-logloss:0.085604\n",
            "[359]\ttrain-logloss:0.005169\teval-logloss:0.085676\n",
            "[360]\ttrain-logloss:0.005164\teval-logloss:0.085579\n",
            "[361]\ttrain-logloss:0.005159\teval-logloss:0.085601\n",
            "[362]\ttrain-logloss:0.005153\teval-logloss:0.085643\n",
            "[363]\ttrain-logloss:0.005149\teval-logloss:0.085713\n",
            "[364]\ttrain-logloss:0.005144\teval-logloss:0.085787\n",
            "[365]\ttrain-logloss:0.005139\teval-logloss:0.085689\n",
            "[366]\ttrain-logloss:0.005134\teval-logloss:0.08573\n",
            "[367]\ttrain-logloss:0.005129\teval-logloss:0.085684\n",
            "[368]\ttrain-logloss:0.005124\teval-logloss:0.085589\n",
            "[369]\ttrain-logloss:0.005119\teval-logloss:0.085516\n",
            "[370]\ttrain-logloss:0.005114\teval-logloss:0.085588\n",
            "[371]\ttrain-logloss:0.00511\teval-logloss:0.085495\n",
            "[372]\ttrain-logloss:0.005105\teval-logloss:0.085564\n",
            "[373]\ttrain-logloss:0.0051\teval-logloss:0.085605\n",
            "[374]\ttrain-logloss:0.005096\teval-logloss:0.085626\n",
            "[375]\ttrain-logloss:0.005091\teval-logloss:0.085535\n",
            "[376]\ttrain-logloss:0.005086\teval-logloss:0.085606\n",
            "[377]\ttrain-logloss:0.005082\teval-logloss:0.085674\n",
            "[378]\ttrain-logloss:0.005077\teval-logloss:0.085714\n",
            "[379]\ttrain-logloss:0.005073\teval-logloss:0.085624\n",
            "[380]\ttrain-logloss:0.005068\teval-logloss:0.085579\n",
            "[381]\ttrain-logloss:0.005064\teval-logloss:0.085618\n",
            "[382]\ttrain-logloss:0.00506\teval-logloss:0.085639\n",
            "[383]\ttrain-logloss:0.005055\teval-logloss:0.08555\n",
            "[384]\ttrain-logloss:0.005051\teval-logloss:0.085617\n",
            "[385]\ttrain-logloss:0.005047\teval-logloss:0.085621\n",
            "[386]\ttrain-logloss:0.005042\teval-logloss:0.085551\n",
            "[387]\ttrain-logloss:0.005038\teval-logloss:0.085463\n",
            "[388]\ttrain-logloss:0.005034\teval-logloss:0.085502\n",
            "[389]\ttrain-logloss:0.005029\teval-logloss:0.085459\n",
            "[390]\ttrain-logloss:0.005025\teval-logloss:0.085321\n",
            "[391]\ttrain-logloss:0.005021\teval-logloss:0.085389\n",
            "[392]\ttrain-logloss:0.005017\teval-logloss:0.085303\n",
            "[393]\ttrain-logloss:0.005013\teval-logloss:0.085369\n",
            "[394]\ttrain-logloss:0.005009\teval-logloss:0.085301\n",
            "[395]\ttrain-logloss:0.005005\teval-logloss:0.085368\n",
            "[396]\ttrain-logloss:0.005\teval-logloss:0.085283\n",
            "[397]\ttrain-logloss:0.004996\teval-logloss:0.08532\n",
            "[398]\ttrain-logloss:0.004992\teval-logloss:0.085279\n",
            "[399]\ttrain-logloss:0.004988\teval-logloss:0.085196\n"
          ]
        }
      ]
    },
    {
      "cell_type": "markdown",
      "source": [
        "테스트 데이터 세트에 예측을 수행\n",
        "- 사이킷런은 예측 클래스 결과 값을 반환하지만 xgboost는 예측 결과를 추정 할 수 있는 확률 값을 반환"
      ],
      "metadata": {
        "id": "-30bYQ_Y2NRf"
      }
    },
    {
      "cell_type": "code",
      "source": [
        "pred_probs = xgb_model.predict(dtest)\n",
        "print('predict( ) 수행 결과값을 10개만 표시, 예측 확률 값으로 표시됨')\n",
        "print(np.round(pred_probs[:10],3))\n",
        "\n",
        "# 예측 확률이 0.5 보다 크면 1 , 그렇지 않으면 0 으로 예측값 결정하여 List 객체인 preds에 저장 \n",
        "preds = [ 1 if x > 0.5 else 0 for x in pred_probs ]\n",
        "print('예측값 10개만 표시:',preds[:10])"
      ],
      "metadata": {
        "colab": {
          "base_uri": "https://localhost:8080/"
        },
        "id": "6FuazBPc2mv5",
        "outputId": "c3085e22-b47d-43ca-ae9e-e0341a2ccd4b"
      },
      "execution_count": null,
      "outputs": [
        {
          "output_type": "stream",
          "name": "stdout",
          "text": [
            "predict( ) 수행 결과값을 10개만 표시, 예측 확률 값으로 표시됨\n",
            "[0.95  0.003 0.9   0.086 0.993 1.    1.    0.999 0.998 0.   ]\n",
            "예측값 10개만 표시: [1, 0, 1, 0, 1, 1, 1, 1, 1, 0]\n"
          ]
        }
      ]
    },
    {
      "cell_type": "code",
      "source": [
        "from sklearn.metrics import confusion_matrix, accuracy_score\n",
        "from sklearn.metrics import precision_score, recall_score\n",
        "from sklearn.metrics import f1_score, roc_auc_score\n",
        "\n",
        "def get_clf_eval(y_test , pred):\n",
        "    confusion = confusion_matrix( y_test, pred)\n",
        "    accuracy = accuracy_score(y_test , pred)\n",
        "    precision = precision_score(y_test , pred)\n",
        "    recall = recall_score(y_test , pred)\n",
        "    f1 = f1_score(y_test,pred)\n",
        "    roc_auc = roc_auc_score(y_test, pred)\n",
        "    print('오차 행렬')\n",
        "    print(confusion)\n",
        "    print('정확도: {0:.4f}, 정밀도: {1:.4f}, 재현율: {2:.4f},\\\n",
        "    F1: {3:.4f}, AUC:{4:.4f}'.format(accuracy, precision, recall, f1, roc_auc))"
      ],
      "metadata": {
        "id": "dd4ycvUA3E04"
      },
      "execution_count": null,
      "outputs": []
    },
    {
      "cell_type": "code",
      "source": [
        "\n",
        "get_clf_eval(y_test , preds)"
      ],
      "metadata": {
        "colab": {
          "base_uri": "https://localhost:8080/"
        },
        "id": "263ej-lQ3K83",
        "outputId": "d9065f83-42c1-4fdf-ee2d-7ce37c3e7713"
      },
      "execution_count": null,
      "outputs": [
        {
          "output_type": "stream",
          "name": "stdout",
          "text": [
            "오차 행렬\n",
            "[[35  2]\n",
            " [ 1 76]]\n",
            "정확도: 0.9737, 정밀도: 0.9744, 재현율: 0.9870,    F1: 0.9806, AUC:0.9665\n"
          ]
        }
      ]
    },
    {
      "cell_type": "markdown",
      "source": [
        "시각화-피처 중요도를 막대그래프로"
      ],
      "metadata": {
        "id": "vVyQmJAd3ONz"
      }
    },
    {
      "cell_type": "code",
      "source": [
        "import matplotlib.pyplot as plt\n",
        "%matplotlib inline\n",
        "\n",
        "fig, ax = plt.subplots(figsize=(10, 12))\n",
        "plot_importance(xgb_model, ax=ax)"
      ],
      "metadata": {
        "colab": {
          "base_uri": "https://localhost:8080/",
          "height": 749
        },
        "id": "n7ErO86O3Pc3",
        "outputId": "7b80541a-3eb0-48ed-ca5c-932856154adb"
      },
      "execution_count": null,
      "outputs": [
        {
          "output_type": "execute_result",
          "data": {
            "text/plain": [
              "<matplotlib.axes._subplots.AxesSubplot at 0x7f65d65c1210>"
            ]
          },
          "metadata": {},
          "execution_count": 13
        },
        {
          "output_type": "display_data",
          "data": {
            "text/plain": [
              "<Figure size 720x864 with 1 Axes>"
            ],
            "image/png": "[encoded data removed]"
          },
          "metadata": {
            "needs_background": "light"
          }
        }
      ]
    },
    {
      "cell_type": "markdown",
      "source": [
        "사이킷런 Wrapper XGBoost 개요 및 적용\n",
        "\n",
        "*   파라미터에 차이가 존재\n",
        "\n"
      ],
      "metadata": {
        "id": "QPX1TNrr3y3M"
      }
    },
    {
      "cell_type": "code",
      "source": [
        "# 사이킷런 래퍼 XGBoost 클래스인 XGBClassifier 임포트\n",
        "from xgboost import XGBClassifier\n",
        "\n",
        "evals = [(X_test, y_test)]\n",
        "xgb_wrapper = XGBClassifier(n_estimators=400, learning_rate=0.1, max_depth=3)\n",
        "xgb_wrapper.fit(X_train , y_train,  early_stopping_rounds=400,eval_set=evals, eval_metric=\"logloss\",  verbose=True)\n",
        "w_preds = xgb_wrapper.predict(X_test)\n"
      ],
      "metadata": {
        "colab": {
          "base_uri": "https://localhost:8080/"
        },
        "id": "987zN6ya3waI",
        "outputId": "83af200c-176c-4b2e-ad28-80450794ae69"
      },
      "execution_count": null,
      "outputs": [
        {
          "output_type": "stream",
          "name": "stdout",
          "text": [
            "[0]\tvalidation_0-logloss:0.61352\n",
            "Will train until validation_0-logloss hasn't improved in 400 rounds.\n",
            "[1]\tvalidation_0-logloss:0.547842\n",
            "[2]\tvalidation_0-logloss:0.494247\n",
            "[3]\tvalidation_0-logloss:0.447986\n",
            "[4]\tvalidation_0-logloss:0.409109\n",
            "[5]\tvalidation_0-logloss:0.374977\n",
            "[6]\tvalidation_0-logloss:0.345714\n",
            "[7]\tvalidation_0-logloss:0.320529\n",
            "[8]\tvalidation_0-logloss:0.29721\n",
            "[9]\tvalidation_0-logloss:0.277991\n",
            "[10]\tvalidation_0-logloss:0.260302\n",
            "[11]\tvalidation_0-logloss:0.246037\n",
            "[12]\tvalidation_0-logloss:0.231556\n",
            "[13]\tvalidation_0-logloss:0.22005\n",
            "[14]\tvalidation_0-logloss:0.208572\n",
            "[15]\tvalidation_0-logloss:0.199993\n",
            "[16]\tvalidation_0-logloss:0.190118\n",
            "[17]\tvalidation_0-logloss:0.181818\n",
            "[18]\tvalidation_0-logloss:0.174729\n",
            "[19]\tvalidation_0-logloss:0.167657\n",
            "[20]\tvalidation_0-logloss:0.158202\n",
            "[21]\tvalidation_0-logloss:0.154725\n",
            "[22]\tvalidation_0-logloss:0.148947\n",
            "[23]\tvalidation_0-logloss:0.143308\n",
            "[24]\tvalidation_0-logloss:0.136344\n",
            "[25]\tvalidation_0-logloss:0.132778\n",
            "[26]\tvalidation_0-logloss:0.127912\n",
            "[27]\tvalidation_0-logloss:0.125263\n",
            "[28]\tvalidation_0-logloss:0.119978\n",
            "[29]\tvalidation_0-logloss:0.116412\n",
            "[30]\tvalidation_0-logloss:0.114502\n",
            "[31]\tvalidation_0-logloss:0.112572\n",
            "[32]\tvalidation_0-logloss:0.11154\n",
            "[33]\tvalidation_0-logloss:0.108681\n",
            "[34]\tvalidation_0-logloss:0.106681\n",
            "[35]\tvalidation_0-logloss:0.104207\n",
            "[36]\tvalidation_0-logloss:0.102962\n",
            "[37]\tvalidation_0-logloss:0.100576\n",
            "[38]\tvalidation_0-logloss:0.098683\n",
            "[39]\tvalidation_0-logloss:0.096444\n",
            "[40]\tvalidation_0-logloss:0.095869\n",
            "[41]\tvalidation_0-logloss:0.094242\n",
            "[42]\tvalidation_0-logloss:0.094715\n",
            "[43]\tvalidation_0-logloss:0.094272\n",
            "[44]\tvalidation_0-logloss:0.093894\n",
            "[45]\tvalidation_0-logloss:0.094184\n",
            "[46]\tvalidation_0-logloss:0.09402\n",
            "[47]\tvalidation_0-logloss:0.09236\n",
            "[48]\tvalidation_0-logloss:0.093012\n",
            "[49]\tvalidation_0-logloss:0.091272\n",
            "[50]\tvalidation_0-logloss:0.090051\n",
            "[51]\tvalidation_0-logloss:0.089605\n",
            "[52]\tvalidation_0-logloss:0.089577\n",
            "[53]\tvalidation_0-logloss:0.090703\n",
            "[54]\tvalidation_0-logloss:0.089579\n",
            "[55]\tvalidation_0-logloss:0.090357\n",
            "[56]\tvalidation_0-logloss:0.091587\n",
            "[57]\tvalidation_0-logloss:0.091527\n",
            "[58]\tvalidation_0-logloss:0.091986\n",
            "[59]\tvalidation_0-logloss:0.091951\n",
            "[60]\tvalidation_0-logloss:0.091939\n",
            "[61]\tvalidation_0-logloss:0.091461\n",
            "[62]\tvalidation_0-logloss:0.090311\n",
            "[63]\tvalidation_0-logloss:0.089407\n",
            "[64]\tvalidation_0-logloss:0.089719\n",
            "[65]\tvalidation_0-logloss:0.089743\n",
            "[66]\tvalidation_0-logloss:0.089622\n",
            "[67]\tvalidation_0-logloss:0.088734\n",
            "[68]\tvalidation_0-logloss:0.088621\n",
            "[69]\tvalidation_0-logloss:0.089739\n",
            "[70]\tvalidation_0-logloss:0.089981\n",
            "[71]\tvalidation_0-logloss:0.089782\n",
            "[72]\tvalidation_0-logloss:0.089584\n",
            "[73]\tvalidation_0-logloss:0.089533\n",
            "[74]\tvalidation_0-logloss:0.088748\n",
            "[75]\tvalidation_0-logloss:0.088597\n",
            "[76]\tvalidation_0-logloss:0.08812\n",
            "[77]\tvalidation_0-logloss:0.088396\n",
            "[78]\tvalidation_0-logloss:0.088736\n",
            "[79]\tvalidation_0-logloss:0.088153\n",
            "[80]\tvalidation_0-logloss:0.087577\n",
            "[81]\tvalidation_0-logloss:0.087412\n",
            "[82]\tvalidation_0-logloss:0.08849\n",
            "[83]\tvalidation_0-logloss:0.088575\n",
            "[84]\tvalidation_0-logloss:0.08807\n",
            "[85]\tvalidation_0-logloss:0.087641\n",
            "[86]\tvalidation_0-logloss:0.087416\n",
            "[87]\tvalidation_0-logloss:0.087611\n",
            "[88]\tvalidation_0-logloss:0.087065\n",
            "[89]\tvalidation_0-logloss:0.08727\n",
            "[90]\tvalidation_0-logloss:0.087161\n",
            "[91]\tvalidation_0-logloss:0.086962\n",
            "[92]\tvalidation_0-logloss:0.087166\n",
            "[93]\tvalidation_0-logloss:0.087067\n",
            "[94]\tvalidation_0-logloss:0.086592\n",
            "[95]\tvalidation_0-logloss:0.086116\n",
            "[96]\tvalidation_0-logloss:0.087139\n",
            "[97]\tvalidation_0-logloss:0.086768\n",
            "[98]\tvalidation_0-logloss:0.086694\n",
            "[99]\tvalidation_0-logloss:0.086547\n",
            "[100]\tvalidation_0-logloss:0.086498\n",
            "[101]\tvalidation_0-logloss:0.08641\n",
            "[102]\tvalidation_0-logloss:0.086288\n",
            "[103]\tvalidation_0-logloss:0.086258\n",
            "[104]\tvalidation_0-logloss:0.086835\n",
            "[105]\tvalidation_0-logloss:0.086767\n",
            "[106]\tvalidation_0-logloss:0.087321\n",
            "[107]\tvalidation_0-logloss:0.087304\n",
            "[108]\tvalidation_0-logloss:0.08728\n",
            "[109]\tvalidation_0-logloss:0.087298\n",
            "[110]\tvalidation_0-logloss:0.087289\n",
            "[111]\tvalidation_0-logloss:0.088002\n",
            "[112]\tvalidation_0-logloss:0.087936\n",
            "[113]\tvalidation_0-logloss:0.087843\n",
            "[114]\tvalidation_0-logloss:0.088066\n",
            "[115]\tvalidation_0-logloss:0.087649\n",
            "[116]\tvalidation_0-logloss:0.087298\n",
            "[117]\tvalidation_0-logloss:0.087799\n",
            "[118]\tvalidation_0-logloss:0.087751\n",
            "[119]\tvalidation_0-logloss:0.08768\n",
            "[120]\tvalidation_0-logloss:0.087626\n",
            "[121]\tvalidation_0-logloss:0.08757\n",
            "[122]\tvalidation_0-logloss:0.087547\n",
            "[123]\tvalidation_0-logloss:0.087156\n",
            "[124]\tvalidation_0-logloss:0.08767\n",
            "[125]\tvalidation_0-logloss:0.087737\n",
            "[126]\tvalidation_0-logloss:0.088275\n",
            "[127]\tvalidation_0-logloss:0.088309\n",
            "[128]\tvalidation_0-logloss:0.088266\n",
            "[129]\tvalidation_0-logloss:0.087886\n",
            "[130]\tvalidation_0-logloss:0.088861\n",
            "[131]\tvalidation_0-logloss:0.088675\n",
            "[132]\tvalidation_0-logloss:0.088743\n",
            "[133]\tvalidation_0-logloss:0.089218\n",
            "[134]\tvalidation_0-logloss:0.089179\n",
            "[135]\tvalidation_0-logloss:0.088821\n",
            "[136]\tvalidation_0-logloss:0.088512\n",
            "[137]\tvalidation_0-logloss:0.08848\n",
            "[138]\tvalidation_0-logloss:0.088386\n",
            "[139]\tvalidation_0-logloss:0.089145\n",
            "[140]\tvalidation_0-logloss:0.08911\n",
            "[141]\tvalidation_0-logloss:0.088765\n",
            "[142]\tvalidation_0-logloss:0.088678\n",
            "[143]\tvalidation_0-logloss:0.088389\n",
            "[144]\tvalidation_0-logloss:0.089271\n",
            "[145]\tvalidation_0-logloss:0.089238\n",
            "[146]\tvalidation_0-logloss:0.089139\n",
            "[147]\tvalidation_0-logloss:0.088907\n",
            "[148]\tvalidation_0-logloss:0.089416\n",
            "[149]\tvalidation_0-logloss:0.089388\n",
            "[150]\tvalidation_0-logloss:0.089108\n",
            "[151]\tvalidation_0-logloss:0.088735\n",
            "[152]\tvalidation_0-logloss:0.088717\n",
            "[153]\tvalidation_0-logloss:0.088484\n",
            "[154]\tvalidation_0-logloss:0.088471\n",
            "[155]\tvalidation_0-logloss:0.088545\n",
            "[156]\tvalidation_0-logloss:0.088521\n",
            "[157]\tvalidation_0-logloss:0.088547\n",
            "[158]\tvalidation_0-logloss:0.088275\n",
            "[159]\tvalidation_0-logloss:0.0883\n",
            "[160]\tvalidation_0-logloss:0.08828\n",
            "[161]\tvalidation_0-logloss:0.088013\n",
            "[162]\tvalidation_0-logloss:0.087758\n",
            "[163]\tvalidation_0-logloss:0.087784\n",
            "[164]\tvalidation_0-logloss:0.087777\n",
            "[165]\tvalidation_0-logloss:0.087517\n",
            "[166]\tvalidation_0-logloss:0.087542\n",
            "[167]\tvalidation_0-logloss:0.087642\n",
            "[168]\tvalidation_0-logloss:0.08739\n",
            "[169]\tvalidation_0-logloss:0.087377\n",
            "[170]\tvalidation_0-logloss:0.087298\n",
            "[171]\tvalidation_0-logloss:0.087368\n",
            "[172]\tvalidation_0-logloss:0.087395\n",
            "[173]\tvalidation_0-logloss:0.087385\n",
            "[174]\tvalidation_0-logloss:0.087132\n",
            "[175]\tvalidation_0-logloss:0.087159\n",
            "[176]\tvalidation_0-logloss:0.086955\n",
            "[177]\tvalidation_0-logloss:0.087053\n",
            "[178]\tvalidation_0-logloss:0.08697\n",
            "[179]\tvalidation_0-logloss:0.086973\n",
            "[180]\tvalidation_0-logloss:0.087038\n",
            "[181]\tvalidation_0-logloss:0.086799\n",
            "[182]\tvalidation_0-logloss:0.086826\n",
            "[183]\tvalidation_0-logloss:0.086582\n",
            "[184]\tvalidation_0-logloss:0.086588\n",
            "[185]\tvalidation_0-logloss:0.086614\n",
            "[186]\tvalidation_0-logloss:0.086372\n",
            "[187]\tvalidation_0-logloss:0.086369\n",
            "[188]\tvalidation_0-logloss:0.086297\n",
            "[189]\tvalidation_0-logloss:0.086104\n",
            "[190]\tvalidation_0-logloss:0.086023\n",
            "[191]\tvalidation_0-logloss:0.08605\n",
            "[192]\tvalidation_0-logloss:0.086149\n",
            "[193]\tvalidation_0-logloss:0.085916\n",
            "[194]\tvalidation_0-logloss:0.085915\n",
            "[195]\tvalidation_0-logloss:0.085984\n",
            "[196]\tvalidation_0-logloss:0.086012\n",
            "[197]\tvalidation_0-logloss:0.085922\n",
            "[198]\tvalidation_0-logloss:0.085853\n",
            "[199]\tvalidation_0-logloss:0.085874\n",
            "[200]\tvalidation_0-logloss:0.085888\n",
            "[201]\tvalidation_0-logloss:0.08595\n",
            "[202]\tvalidation_0-logloss:0.08573\n",
            "[203]\tvalidation_0-logloss:0.08573\n",
            "[204]\tvalidation_0-logloss:0.085753\n",
            "[205]\tvalidation_0-logloss:0.085821\n",
            "[206]\tvalidation_0-logloss:0.08584\n",
            "[207]\tvalidation_0-logloss:0.085776\n",
            "[208]\tvalidation_0-logloss:0.085686\n",
            "[209]\tvalidation_0-logloss:0.08571\n",
            "[210]\tvalidation_0-logloss:0.085806\n",
            "[211]\tvalidation_0-logloss:0.085593\n",
            "[212]\tvalidation_0-logloss:0.085801\n",
            "[213]\tvalidation_0-logloss:0.085806\n",
            "[214]\tvalidation_0-logloss:0.085744\n",
            "[215]\tvalidation_0-logloss:0.085658\n",
            "[216]\tvalidation_0-logloss:0.085843\n",
            "[217]\tvalidation_0-logloss:0.085632\n",
            "[218]\tvalidation_0-logloss:0.085726\n",
            "[219]\tvalidation_0-logloss:0.085783\n",
            "[220]\tvalidation_0-logloss:0.085791\n",
            "[221]\tvalidation_0-logloss:0.085817\n",
            "[222]\tvalidation_0-logloss:0.085757\n",
            "[223]\tvalidation_0-logloss:0.085674\n",
            "[224]\tvalidation_0-logloss:0.08586\n",
            "[225]\tvalidation_0-logloss:0.085871\n",
            "[226]\tvalidation_0-logloss:0.085927\n",
            "[227]\tvalidation_0-logloss:0.085954\n",
            "[228]\tvalidation_0-logloss:0.085874\n",
            "[229]\tvalidation_0-logloss:0.086057\n",
            "[230]\tvalidation_0-logloss:0.086002\n",
            "[231]\tvalidation_0-logloss:0.085922\n",
            "[232]\tvalidation_0-logloss:0.086102\n",
            "[233]\tvalidation_0-logloss:0.086115\n",
            "[234]\tvalidation_0-logloss:0.086169\n",
            "[235]\tvalidation_0-logloss:0.086263\n",
            "[236]\tvalidation_0-logloss:0.086292\n",
            "[237]\tvalidation_0-logloss:0.086217\n",
            "[238]\tvalidation_0-logloss:0.086395\n",
            "[239]\tvalidation_0-logloss:0.086342\n",
            "[240]\tvalidation_0-logloss:0.08618\n",
            "[241]\tvalidation_0-logloss:0.086195\n",
            "[242]\tvalidation_0-logloss:0.086248\n",
            "[243]\tvalidation_0-logloss:0.086263\n",
            "[244]\tvalidation_0-logloss:0.086293\n",
            "[245]\tvalidation_0-logloss:0.086222\n",
            "[246]\tvalidation_0-logloss:0.086398\n",
            "[247]\tvalidation_0-logloss:0.086347\n",
            "[248]\tvalidation_0-logloss:0.086276\n",
            "[249]\tvalidation_0-logloss:0.086448\n",
            "[250]\tvalidation_0-logloss:0.086294\n",
            "[251]\tvalidation_0-logloss:0.086312\n",
            "[252]\tvalidation_0-logloss:0.086364\n",
            "[253]\tvalidation_0-logloss:0.086394\n",
            "[254]\tvalidation_0-logloss:0.08649\n",
            "[255]\tvalidation_0-logloss:0.086441\n",
            "[256]\tvalidation_0-logloss:0.08629\n",
            "[257]\tvalidation_0-logloss:0.08646\n",
            "[258]\tvalidation_0-logloss:0.086391\n",
            "[259]\tvalidation_0-logloss:0.086441\n",
            "[260]\tvalidation_0-logloss:0.086461\n",
            "[261]\tvalidation_0-logloss:0.086491\n",
            "[262]\tvalidation_0-logloss:0.086445\n",
            "[263]\tvalidation_0-logloss:0.086466\n",
            "[264]\tvalidation_0-logloss:0.086319\n",
            "[265]\tvalidation_0-logloss:0.086488\n",
            "[266]\tvalidation_0-logloss:0.086538\n",
            "[267]\tvalidation_0-logloss:0.086471\n",
            "[268]\tvalidation_0-logloss:0.086501\n",
            "[269]\tvalidation_0-logloss:0.086522\n",
            "[270]\tvalidation_0-logloss:0.086689\n",
            "[271]\tvalidation_0-logloss:0.086738\n",
            "[272]\tvalidation_0-logloss:0.08683\n",
            "[273]\tvalidation_0-logloss:0.086684\n",
            "[274]\tvalidation_0-logloss:0.08664\n",
            "[275]\tvalidation_0-logloss:0.086496\n",
            "[276]\tvalidation_0-logloss:0.086355\n",
            "[277]\tvalidation_0-logloss:0.086519\n",
            "[278]\tvalidation_0-logloss:0.086567\n",
            "[279]\tvalidation_0-logloss:0.08659\n",
            "[280]\tvalidation_0-logloss:0.086679\n",
            "[281]\tvalidation_0-logloss:0.086637\n",
            "[282]\tvalidation_0-logloss:0.086499\n",
            "[283]\tvalidation_0-logloss:0.086356\n",
            "[284]\tvalidation_0-logloss:0.086405\n",
            "[285]\tvalidation_0-logloss:0.086429\n",
            "[286]\tvalidation_0-logloss:0.086456\n",
            "[287]\tvalidation_0-logloss:0.086504\n",
            "[288]\tvalidation_0-logloss:0.08637\n",
            "[289]\tvalidation_0-logloss:0.086457\n",
            "[290]\tvalidation_0-logloss:0.086453\n",
            "[291]\tvalidation_0-logloss:0.086322\n",
            "[292]\tvalidation_0-logloss:0.086284\n",
            "[293]\tvalidation_0-logloss:0.086148\n",
            "[294]\tvalidation_0-logloss:0.086196\n",
            "[295]\tvalidation_0-logloss:0.086221\n",
            "[296]\tvalidation_0-logloss:0.086308\n",
            "[297]\tvalidation_0-logloss:0.086178\n",
            "[298]\tvalidation_0-logloss:0.086263\n",
            "[299]\tvalidation_0-logloss:0.086131\n",
            "[300]\tvalidation_0-logloss:0.086179\n",
            "[301]\tvalidation_0-logloss:0.086052\n",
            "[302]\tvalidation_0-logloss:0.086016\n",
            "[303]\tvalidation_0-logloss:0.086101\n",
            "[304]\tvalidation_0-logloss:0.085977\n",
            "[305]\tvalidation_0-logloss:0.086059\n",
            "[306]\tvalidation_0-logloss:0.085971\n",
            "[307]\tvalidation_0-logloss:0.085998\n",
            "[308]\tvalidation_0-logloss:0.085999\n",
            "[309]\tvalidation_0-logloss:0.085877\n",
            "[310]\tvalidation_0-logloss:0.085923\n",
            "[311]\tvalidation_0-logloss:0.085948\n",
            "[312]\tvalidation_0-logloss:0.086028\n",
            "[313]\tvalidation_0-logloss:0.086112\n",
            "[314]\tvalidation_0-logloss:0.085989\n",
            "[315]\tvalidation_0-logloss:0.085903\n",
            "[316]\tvalidation_0-logloss:0.085949\n",
            "[317]\tvalidation_0-logloss:0.085977\n",
            "[318]\tvalidation_0-logloss:0.086002\n",
            "[319]\tvalidation_0-logloss:0.085883\n",
            "[320]\tvalidation_0-logloss:0.085967\n",
            "[321]\tvalidation_0-logloss:0.086046\n",
            "[322]\tvalidation_0-logloss:0.086091\n",
            "[323]\tvalidation_0-logloss:0.085977\n",
            "[324]\tvalidation_0-logloss:0.085978\n",
            "[325]\tvalidation_0-logloss:0.085896\n",
            "[326]\tvalidation_0-logloss:0.08578\n",
            "[327]\tvalidation_0-logloss:0.085857\n",
            "[328]\tvalidation_0-logloss:0.085939\n",
            "[329]\tvalidation_0-logloss:0.085825\n",
            "[330]\tvalidation_0-logloss:0.085869\n",
            "[331]\tvalidation_0-logloss:0.085893\n",
            "[332]\tvalidation_0-logloss:0.085922\n",
            "[333]\tvalidation_0-logloss:0.085842\n",
            "[334]\tvalidation_0-logloss:0.085735\n",
            "[335]\tvalidation_0-logloss:0.085816\n",
            "[336]\tvalidation_0-logloss:0.085892\n",
            "[337]\tvalidation_0-logloss:0.085936\n",
            "[338]\tvalidation_0-logloss:0.08583\n",
            "[339]\tvalidation_0-logloss:0.085909\n",
            "[340]\tvalidation_0-logloss:0.085831\n",
            "[341]\tvalidation_0-logloss:0.085727\n",
            "[342]\tvalidation_0-logloss:0.085678\n",
            "[343]\tvalidation_0-logloss:0.085721\n",
            "[344]\tvalidation_0-logloss:0.085796\n",
            "[345]\tvalidation_0-logloss:0.085819\n",
            "[346]\tvalidation_0-logloss:0.085715\n",
            "[347]\tvalidation_0-logloss:0.085793\n",
            "[348]\tvalidation_0-logloss:0.085835\n",
            "[349]\tvalidation_0-logloss:0.085734\n",
            "[350]\tvalidation_0-logloss:0.085658\n",
            "[351]\tvalidation_0-logloss:0.08573\n",
            "[352]\tvalidation_0-logloss:0.085807\n",
            "[353]\tvalidation_0-logloss:0.085706\n",
            "[354]\tvalidation_0-logloss:0.085659\n",
            "[355]\tvalidation_0-logloss:0.085701\n",
            "[356]\tvalidation_0-logloss:0.085628\n",
            "[357]\tvalidation_0-logloss:0.085529\n",
            "[358]\tvalidation_0-logloss:0.085604\n",
            "[359]\tvalidation_0-logloss:0.085676\n",
            "[360]\tvalidation_0-logloss:0.085579\n",
            "[361]\tvalidation_0-logloss:0.085601\n",
            "[362]\tvalidation_0-logloss:0.085643\n",
            "[363]\tvalidation_0-logloss:0.085713\n",
            "[364]\tvalidation_0-logloss:0.085787\n",
            "[365]\tvalidation_0-logloss:0.085689\n",
            "[366]\tvalidation_0-logloss:0.08573\n",
            "[367]\tvalidation_0-logloss:0.085684\n",
            "[368]\tvalidation_0-logloss:0.085589\n",
            "[369]\tvalidation_0-logloss:0.085516\n",
            "[370]\tvalidation_0-logloss:0.085588\n",
            "[371]\tvalidation_0-logloss:0.085495\n",
            "[372]\tvalidation_0-logloss:0.085564\n",
            "[373]\tvalidation_0-logloss:0.085605\n",
            "[374]\tvalidation_0-logloss:0.085626\n",
            "[375]\tvalidation_0-logloss:0.085535\n",
            "[376]\tvalidation_0-logloss:0.085606\n",
            "[377]\tvalidation_0-logloss:0.085674\n",
            "[378]\tvalidation_0-logloss:0.085714\n",
            "[379]\tvalidation_0-logloss:0.085624\n",
            "[380]\tvalidation_0-logloss:0.085579\n",
            "[381]\tvalidation_0-logloss:0.085618\n",
            "[382]\tvalidation_0-logloss:0.085639\n",
            "[383]\tvalidation_0-logloss:0.08555\n",
            "[384]\tvalidation_0-logloss:0.085617\n",
            "[385]\tvalidation_0-logloss:0.085621\n",
            "[386]\tvalidation_0-logloss:0.085551\n",
            "[387]\tvalidation_0-logloss:0.085463\n",
            "[388]\tvalidation_0-logloss:0.085502\n",
            "[389]\tvalidation_0-logloss:0.085459\n",
            "[390]\tvalidation_0-logloss:0.085321\n",
            "[391]\tvalidation_0-logloss:0.085389\n",
            "[392]\tvalidation_0-logloss:0.085303\n",
            "[393]\tvalidation_0-logloss:0.085369\n",
            "[394]\tvalidation_0-logloss:0.085301\n",
            "[395]\tvalidation_0-logloss:0.085368\n",
            "[396]\tvalidation_0-logloss:0.085283\n",
            "[397]\tvalidation_0-logloss:0.08532\n",
            "[398]\tvalidation_0-logloss:0.085279\n",
            "[399]\tvalidation_0-logloss:0.085196\n"
          ]
        }
      ]
    },
    {
      "cell_type": "code",
      "source": [
        "get_clf_eval(y_test , w_preds)"
      ],
      "metadata": {
        "colab": {
          "base_uri": "https://localhost:8080/"
        },
        "id": "kovb0vNPUAQF",
        "outputId": "028d4c8a-206c-4bbb-d67b-37b38458c043"
      },
      "execution_count": null,
      "outputs": [
        {
          "output_type": "stream",
          "name": "stdout",
          "text": [
            "오차 행렬\n",
            "[[35  2]\n",
            " [ 1 76]]\n",
            "정확도: 0.9737, 정밀도: 0.9744, 재현율: 0.9870,    F1: 0.9806, AUC:0.9665\n"
          ]
        }
      ]
    },
    {
      "cell_type": "code",
      "source": [
        "from xgboost import XGBClassifier\n",
        "\n",
        "xgb_wrapper = XGBClassifier(n_estimators=400, learning_rate=0.1, max_depth=3)\n",
        "evals = [(X_test, y_test)]\n",
        "xgb_wrapper.fit(X_train, y_train, early_stopping_rounds=100, eval_metric=\"logloss\", \n",
        "                eval_set=evals, verbose=True)\n",
        "ws100_preds = xgb_wrapper.predict(X_test)"
      ],
      "metadata": {
        "colab": {
          "base_uri": "https://localhost:8080/"
        },
        "id": "euP10sDgUip7",
        "outputId": "06cec082-73e6-4475-9e6a-505b47fbb2db"
      },
      "execution_count": null,
      "outputs": [
        {
          "output_type": "stream",
          "name": "stdout",
          "text": [
            "[0]\tvalidation_0-logloss:0.61352\n",
            "Will train until validation_0-logloss hasn't improved in 100 rounds.\n",
            "[1]\tvalidation_0-logloss:0.547842\n",
            "[2]\tvalidation_0-logloss:0.494247\n",
            "[3]\tvalidation_0-logloss:0.447986\n",
            "[4]\tvalidation_0-logloss:0.409109\n",
            "[5]\tvalidation_0-logloss:0.374977\n",
            "[6]\tvalidation_0-logloss:0.345714\n",
            "[7]\tvalidation_0-logloss:0.320529\n",
            "[8]\tvalidation_0-logloss:0.29721\n",
            "[9]\tvalidation_0-logloss:0.277991\n",
            "[10]\tvalidation_0-logloss:0.260302\n",
            "[11]\tvalidation_0-logloss:0.246037\n",
            "[12]\tvalidation_0-logloss:0.231556\n",
            "[13]\tvalidation_0-logloss:0.22005\n",
            "[14]\tvalidation_0-logloss:0.208572\n",
            "[15]\tvalidation_0-logloss:0.199993\n",
            "[16]\tvalidation_0-logloss:0.190118\n",
            "[17]\tvalidation_0-logloss:0.181818\n",
            "[18]\tvalidation_0-logloss:0.174729\n",
            "[19]\tvalidation_0-logloss:0.167657\n",
            "[20]\tvalidation_0-logloss:0.158202\n",
            "[21]\tvalidation_0-logloss:0.154725\n",
            "[22]\tvalidation_0-logloss:0.148947\n",
            "[23]\tvalidation_0-logloss:0.143308\n",
            "[24]\tvalidation_0-logloss:0.136344\n",
            "[25]\tvalidation_0-logloss:0.132778\n",
            "[26]\tvalidation_0-logloss:0.127912\n",
            "[27]\tvalidation_0-logloss:0.125263\n",
            "[28]\tvalidation_0-logloss:0.119978\n",
            "[29]\tvalidation_0-logloss:0.116412\n",
            "[30]\tvalidation_0-logloss:0.114502\n",
            "[31]\tvalidation_0-logloss:0.112572\n",
            "[32]\tvalidation_0-logloss:0.11154\n",
            "[33]\tvalidation_0-logloss:0.108681\n",
            "[34]\tvalidation_0-logloss:0.106681\n",
            "[35]\tvalidation_0-logloss:0.104207\n",
            "[36]\tvalidation_0-logloss:0.102962\n",
            "[37]\tvalidation_0-logloss:0.100576\n",
            "[38]\tvalidation_0-logloss:0.098683\n",
            "[39]\tvalidation_0-logloss:0.096444\n",
            "[40]\tvalidation_0-logloss:0.095869\n",
            "[41]\tvalidation_0-logloss:0.094242\n",
            "[42]\tvalidation_0-logloss:0.094715\n",
            "[43]\tvalidation_0-logloss:0.094272\n",
            "[44]\tvalidation_0-logloss:0.093894\n",
            "[45]\tvalidation_0-logloss:0.094184\n",
            "[46]\tvalidation_0-logloss:0.09402\n",
            "[47]\tvalidation_0-logloss:0.09236\n",
            "[48]\tvalidation_0-logloss:0.093012\n",
            "[49]\tvalidation_0-logloss:0.091272\n",
            "[50]\tvalidation_0-logloss:0.090051\n",
            "[51]\tvalidation_0-logloss:0.089605\n",
            "[52]\tvalidation_0-logloss:0.089577\n",
            "[53]\tvalidation_0-logloss:0.090703\n",
            "[54]\tvalidation_0-logloss:0.089579\n",
            "[55]\tvalidation_0-logloss:0.090357\n",
            "[56]\tvalidation_0-logloss:0.091587\n",
            "[57]\tvalidation_0-logloss:0.091527\n",
            "[58]\tvalidation_0-logloss:0.091986\n",
            "[59]\tvalidation_0-logloss:0.091951\n",
            "[60]\tvalidation_0-logloss:0.091939\n",
            "[61]\tvalidation_0-logloss:0.091461\n",
            "[62]\tvalidation_0-logloss:0.090311\n",
            "[63]\tvalidation_0-logloss:0.089407\n",
            "[64]\tvalidation_0-logloss:0.089719\n",
            "[65]\tvalidation_0-logloss:0.089743\n",
            "[66]\tvalidation_0-logloss:0.089622\n",
            "[67]\tvalidation_0-logloss:0.088734\n",
            "[68]\tvalidation_0-logloss:0.088621\n",
            "[69]\tvalidation_0-logloss:0.089739\n",
            "[70]\tvalidation_0-logloss:0.089981\n",
            "[71]\tvalidation_0-logloss:0.089782\n",
            "[72]\tvalidation_0-logloss:0.089584\n",
            "[73]\tvalidation_0-logloss:0.089533\n",
            "[74]\tvalidation_0-logloss:0.088748\n",
            "[75]\tvalidation_0-logloss:0.088597\n",
            "[76]\tvalidation_0-logloss:0.08812\n",
            "[77]\tvalidation_0-logloss:0.088396\n",
            "[78]\tvalidation_0-logloss:0.088736\n",
            "[79]\tvalidation_0-logloss:0.088153\n",
            "[80]\tvalidation_0-logloss:0.087577\n",
            "[81]\tvalidation_0-logloss:0.087412\n",
            "[82]\tvalidation_0-logloss:0.08849\n",
            "[83]\tvalidation_0-logloss:0.088575\n",
            "[84]\tvalidation_0-logloss:0.08807\n",
            "[85]\tvalidation_0-logloss:0.087641\n",
            "[86]\tvalidation_0-logloss:0.087416\n",
            "[87]\tvalidation_0-logloss:0.087611\n",
            "[88]\tvalidation_0-logloss:0.087065\n",
            "[89]\tvalidation_0-logloss:0.08727\n",
            "[90]\tvalidation_0-logloss:0.087161\n",
            "[91]\tvalidation_0-logloss:0.086962\n",
            "[92]\tvalidation_0-logloss:0.087166\n",
            "[93]\tvalidation_0-logloss:0.087067\n",
            "[94]\tvalidation_0-logloss:0.086592\n",
            "[95]\tvalidation_0-logloss:0.086116\n",
            "[96]\tvalidation_0-logloss:0.087139\n",
            "[97]\tvalidation_0-logloss:0.086768\n",
            "[98]\tvalidation_0-logloss:0.086694\n",
            "[99]\tvalidation_0-logloss:0.086547\n",
            "[100]\tvalidation_0-logloss:0.086498\n",
            "[101]\tvalidation_0-logloss:0.08641\n",
            "[102]\tvalidation_0-logloss:0.086288\n",
            "[103]\tvalidation_0-logloss:0.086258\n",
            "[104]\tvalidation_0-logloss:0.086835\n",
            "[105]\tvalidation_0-logloss:0.086767\n",
            "[106]\tvalidation_0-logloss:0.087321\n",
            "[107]\tvalidation_0-logloss:0.087304\n",
            "[108]\tvalidation_0-logloss:0.08728\n",
            "[109]\tvalidation_0-logloss:0.087298\n",
            "[110]\tvalidation_0-logloss:0.087289\n",
            "[111]\tvalidation_0-logloss:0.088002\n",
            "[112]\tvalidation_0-logloss:0.087936\n",
            "[113]\tvalidation_0-logloss:0.087843\n",
            "[114]\tvalidation_0-logloss:0.088066\n",
            "[115]\tvalidation_0-logloss:0.087649\n",
            "[116]\tvalidation_0-logloss:0.087298\n",
            "[117]\tvalidation_0-logloss:0.087799\n",
            "[118]\tvalidation_0-logloss:0.087751\n",
            "[119]\tvalidation_0-logloss:0.08768\n",
            "[120]\tvalidation_0-logloss:0.087626\n",
            "[121]\tvalidation_0-logloss:0.08757\n",
            "[122]\tvalidation_0-logloss:0.087547\n",
            "[123]\tvalidation_0-logloss:0.087156\n",
            "[124]\tvalidation_0-logloss:0.08767\n",
            "[125]\tvalidation_0-logloss:0.087737\n",
            "[126]\tvalidation_0-logloss:0.088275\n",
            "[127]\tvalidation_0-logloss:0.088309\n",
            "[128]\tvalidation_0-logloss:0.088266\n",
            "[129]\tvalidation_0-logloss:0.087886\n",
            "[130]\tvalidation_0-logloss:0.088861\n",
            "[131]\tvalidation_0-logloss:0.088675\n",
            "[132]\tvalidation_0-logloss:0.088743\n",
            "[133]\tvalidation_0-logloss:0.089218\n",
            "[134]\tvalidation_0-logloss:0.089179\n",
            "[135]\tvalidation_0-logloss:0.088821\n",
            "[136]\tvalidation_0-logloss:0.088512\n",
            "[137]\tvalidation_0-logloss:0.08848\n",
            "[138]\tvalidation_0-logloss:0.088386\n",
            "[139]\tvalidation_0-logloss:0.089145\n",
            "[140]\tvalidation_0-logloss:0.08911\n",
            "[141]\tvalidation_0-logloss:0.088765\n",
            "[142]\tvalidation_0-logloss:0.088678\n",
            "[143]\tvalidation_0-logloss:0.088389\n",
            "[144]\tvalidation_0-logloss:0.089271\n",
            "[145]\tvalidation_0-logloss:0.089238\n",
            "[146]\tvalidation_0-logloss:0.089139\n",
            "[147]\tvalidation_0-logloss:0.088907\n",
            "[148]\tvalidation_0-logloss:0.089416\n",
            "[149]\tvalidation_0-logloss:0.089388\n",
            "[150]\tvalidation_0-logloss:0.089108\n",
            "[151]\tvalidation_0-logloss:0.088735\n",
            "[152]\tvalidation_0-logloss:0.088717\n",
            "[153]\tvalidation_0-logloss:0.088484\n",
            "[154]\tvalidation_0-logloss:0.088471\n",
            "[155]\tvalidation_0-logloss:0.088545\n",
            "[156]\tvalidation_0-logloss:0.088521\n",
            "[157]\tvalidation_0-logloss:0.088547\n",
            "[158]\tvalidation_0-logloss:0.088275\n",
            "[159]\tvalidation_0-logloss:0.0883\n",
            "[160]\tvalidation_0-logloss:0.08828\n",
            "[161]\tvalidation_0-logloss:0.088013\n",
            "[162]\tvalidation_0-logloss:0.087758\n",
            "[163]\tvalidation_0-logloss:0.087784\n",
            "[164]\tvalidation_0-logloss:0.087777\n",
            "[165]\tvalidation_0-logloss:0.087517\n",
            "[166]\tvalidation_0-logloss:0.087542\n",
            "[167]\tvalidation_0-logloss:0.087642\n",
            "[168]\tvalidation_0-logloss:0.08739\n",
            "[169]\tvalidation_0-logloss:0.087377\n",
            "[170]\tvalidation_0-logloss:0.087298\n",
            "[171]\tvalidation_0-logloss:0.087368\n",
            "[172]\tvalidation_0-logloss:0.087395\n",
            "[173]\tvalidation_0-logloss:0.087385\n",
            "[174]\tvalidation_0-logloss:0.087132\n",
            "[175]\tvalidation_0-logloss:0.087159\n",
            "[176]\tvalidation_0-logloss:0.086955\n",
            "[177]\tvalidation_0-logloss:0.087053\n",
            "[178]\tvalidation_0-logloss:0.08697\n",
            "[179]\tvalidation_0-logloss:0.086973\n",
            "[180]\tvalidation_0-logloss:0.087038\n",
            "[181]\tvalidation_0-logloss:0.086799\n",
            "[182]\tvalidation_0-logloss:0.086826\n",
            "[183]\tvalidation_0-logloss:0.086582\n",
            "[184]\tvalidation_0-logloss:0.086588\n",
            "[185]\tvalidation_0-logloss:0.086614\n",
            "[186]\tvalidation_0-logloss:0.086372\n",
            "[187]\tvalidation_0-logloss:0.086369\n",
            "[188]\tvalidation_0-logloss:0.086297\n",
            "[189]\tvalidation_0-logloss:0.086104\n",
            "[190]\tvalidation_0-logloss:0.086023\n",
            "[191]\tvalidation_0-logloss:0.08605\n",
            "[192]\tvalidation_0-logloss:0.086149\n",
            "[193]\tvalidation_0-logloss:0.085916\n",
            "[194]\tvalidation_0-logloss:0.085915\n",
            "[195]\tvalidation_0-logloss:0.085984\n",
            "[196]\tvalidation_0-logloss:0.086012\n",
            "[197]\tvalidation_0-logloss:0.085922\n",
            "[198]\tvalidation_0-logloss:0.085853\n",
            "[199]\tvalidation_0-logloss:0.085874\n",
            "[200]\tvalidation_0-logloss:0.085888\n",
            "[201]\tvalidation_0-logloss:0.08595\n",
            "[202]\tvalidation_0-logloss:0.08573\n",
            "[203]\tvalidation_0-logloss:0.08573\n",
            "[204]\tvalidation_0-logloss:0.085753\n",
            "[205]\tvalidation_0-logloss:0.085821\n",
            "[206]\tvalidation_0-logloss:0.08584\n",
            "[207]\tvalidation_0-logloss:0.085776\n",
            "[208]\tvalidation_0-logloss:0.085686\n",
            "[209]\tvalidation_0-logloss:0.08571\n",
            "[210]\tvalidation_0-logloss:0.085806\n",
            "[211]\tvalidation_0-logloss:0.085593\n",
            "[212]\tvalidation_0-logloss:0.085801\n",
            "[213]\tvalidation_0-logloss:0.085806\n",
            "[214]\tvalidation_0-logloss:0.085744\n",
            "[215]\tvalidation_0-logloss:0.085658\n",
            "[216]\tvalidation_0-logloss:0.085843\n",
            "[217]\tvalidation_0-logloss:0.085632\n",
            "[218]\tvalidation_0-logloss:0.085726\n",
            "[219]\tvalidation_0-logloss:0.085783\n",
            "[220]\tvalidation_0-logloss:0.085791\n",
            "[221]\tvalidation_0-logloss:0.085817\n",
            "[222]\tvalidation_0-logloss:0.085757\n",
            "[223]\tvalidation_0-logloss:0.085674\n",
            "[224]\tvalidation_0-logloss:0.08586\n",
            "[225]\tvalidation_0-logloss:0.085871\n",
            "[226]\tvalidation_0-logloss:0.085927\n",
            "[227]\tvalidation_0-logloss:0.085954\n",
            "[228]\tvalidation_0-logloss:0.085874\n",
            "[229]\tvalidation_0-logloss:0.086057\n",
            "[230]\tvalidation_0-logloss:0.086002\n",
            "[231]\tvalidation_0-logloss:0.085922\n",
            "[232]\tvalidation_0-logloss:0.086102\n",
            "[233]\tvalidation_0-logloss:0.086115\n",
            "[234]\tvalidation_0-logloss:0.086169\n",
            "[235]\tvalidation_0-logloss:0.086263\n",
            "[236]\tvalidation_0-logloss:0.086292\n",
            "[237]\tvalidation_0-logloss:0.086217\n",
            "[238]\tvalidation_0-logloss:0.086395\n",
            "[239]\tvalidation_0-logloss:0.086342\n",
            "[240]\tvalidation_0-logloss:0.08618\n",
            "[241]\tvalidation_0-logloss:0.086195\n",
            "[242]\tvalidation_0-logloss:0.086248\n",
            "[243]\tvalidation_0-logloss:0.086263\n",
            "[244]\tvalidation_0-logloss:0.086293\n",
            "[245]\tvalidation_0-logloss:0.086222\n",
            "[246]\tvalidation_0-logloss:0.086398\n",
            "[247]\tvalidation_0-logloss:0.086347\n",
            "[248]\tvalidation_0-logloss:0.086276\n",
            "[249]\tvalidation_0-logloss:0.086448\n",
            "[250]\tvalidation_0-logloss:0.086294\n",
            "[251]\tvalidation_0-logloss:0.086312\n",
            "[252]\tvalidation_0-logloss:0.086364\n",
            "[253]\tvalidation_0-logloss:0.086394\n",
            "[254]\tvalidation_0-logloss:0.08649\n",
            "[255]\tvalidation_0-logloss:0.086441\n",
            "[256]\tvalidation_0-logloss:0.08629\n",
            "[257]\tvalidation_0-logloss:0.08646\n",
            "[258]\tvalidation_0-logloss:0.086391\n",
            "[259]\tvalidation_0-logloss:0.086441\n",
            "[260]\tvalidation_0-logloss:0.086461\n",
            "[261]\tvalidation_0-logloss:0.086491\n",
            "[262]\tvalidation_0-logloss:0.086445\n",
            "[263]\tvalidation_0-logloss:0.086466\n",
            "[264]\tvalidation_0-logloss:0.086319\n",
            "[265]\tvalidation_0-logloss:0.086488\n",
            "[266]\tvalidation_0-logloss:0.086538\n",
            "[267]\tvalidation_0-logloss:0.086471\n",
            "[268]\tvalidation_0-logloss:0.086501\n",
            "[269]\tvalidation_0-logloss:0.086522\n",
            "[270]\tvalidation_0-logloss:0.086689\n",
            "[271]\tvalidation_0-logloss:0.086738\n",
            "[272]\tvalidation_0-logloss:0.08683\n",
            "[273]\tvalidation_0-logloss:0.086684\n",
            "[274]\tvalidation_0-logloss:0.08664\n",
            "[275]\tvalidation_0-logloss:0.086496\n",
            "[276]\tvalidation_0-logloss:0.086355\n",
            "[277]\tvalidation_0-logloss:0.086519\n",
            "[278]\tvalidation_0-logloss:0.086567\n",
            "[279]\tvalidation_0-logloss:0.08659\n",
            "[280]\tvalidation_0-logloss:0.086679\n",
            "[281]\tvalidation_0-logloss:0.086637\n",
            "[282]\tvalidation_0-logloss:0.086499\n",
            "[283]\tvalidation_0-logloss:0.086356\n",
            "[284]\tvalidation_0-logloss:0.086405\n",
            "[285]\tvalidation_0-logloss:0.086429\n",
            "[286]\tvalidation_0-logloss:0.086456\n",
            "[287]\tvalidation_0-logloss:0.086504\n",
            "[288]\tvalidation_0-logloss:0.08637\n",
            "[289]\tvalidation_0-logloss:0.086457\n",
            "[290]\tvalidation_0-logloss:0.086453\n",
            "[291]\tvalidation_0-logloss:0.086322\n",
            "[292]\tvalidation_0-logloss:0.086284\n",
            "[293]\tvalidation_0-logloss:0.086148\n",
            "[294]\tvalidation_0-logloss:0.086196\n",
            "[295]\tvalidation_0-logloss:0.086221\n",
            "[296]\tvalidation_0-logloss:0.086308\n",
            "[297]\tvalidation_0-logloss:0.086178\n",
            "[298]\tvalidation_0-logloss:0.086263\n",
            "[299]\tvalidation_0-logloss:0.086131\n",
            "[300]\tvalidation_0-logloss:0.086179\n",
            "[301]\tvalidation_0-logloss:0.086052\n",
            "[302]\tvalidation_0-logloss:0.086016\n",
            "[303]\tvalidation_0-logloss:0.086101\n",
            "[304]\tvalidation_0-logloss:0.085977\n",
            "[305]\tvalidation_0-logloss:0.086059\n",
            "[306]\tvalidation_0-logloss:0.085971\n",
            "[307]\tvalidation_0-logloss:0.085998\n",
            "[308]\tvalidation_0-logloss:0.085999\n",
            "[309]\tvalidation_0-logloss:0.085877\n",
            "[310]\tvalidation_0-logloss:0.085923\n",
            "[311]\tvalidation_0-logloss:0.085948\n",
            "Stopping. Best iteration:\n",
            "[211]\tvalidation_0-logloss:0.085593\n",
            "\n"
          ]
        }
      ]
    },
    {
      "cell_type": "markdown",
      "source": [
        "211번부터 311번까지 반복하면서 성능 평가 지수가 향상되지 않았기 때문에 더 이상 반복하지 않고 멈춘것"
      ],
      "metadata": {
        "id": "Ylm_akRHUu6O"
      }
    },
    {
      "cell_type": "code",
      "source": [
        "get_clf_eval(y_test , ws100_preds)"
      ],
      "metadata": {
        "colab": {
          "base_uri": "https://localhost:8080/"
        },
        "id": "3VYaxRU6Uuby",
        "outputId": "f597cfcc-01b8-4e81-fa3e-9e0d81d9c424"
      },
      "execution_count": null,
      "outputs": [
        {
          "output_type": "stream",
          "name": "stdout",
          "text": [
            "오차 행렬\n",
            "[[34  3]\n",
            " [ 1 76]]\n",
            "정확도: 0.9649, 정밀도: 0.9620, 재현율: 0.9870,    F1: 0.9744, AUC:0.9530\n"
          ]
        }
      ]
    },
    {
      "cell_type": "markdown",
      "source": [
        "early_stopping_rounds를 10으로 설정하고 재학습"
      ],
      "metadata": {
        "id": "z7IJ87bBVK3w"
      }
    },
    {
      "cell_type": "code",
      "source": [
        "# early_stopping_rounds를 10으로 설정하고 재 학습. \n",
        "xgb_wrapper.fit(X_train, y_train, early_stopping_rounds=10, \n",
        "                eval_metric=\"logloss\", eval_set=evals,verbose=True)\n",
        "\n",
        "ws10_preds = xgb_wrapper.predict(X_test)\n",
        "get_clf_eval(y_test , ws10_preds)"
      ],
      "metadata": {
        "colab": {
          "base_uri": "https://localhost:8080/"
        },
        "id": "mwKVBeM5VQe-",
        "outputId": "259ab825-feed-4d91-ecf2-f60fd0067b5e"
      },
      "execution_count": null,
      "outputs": [
        {
          "output_type": "stream",
          "name": "stdout",
          "text": [
            "[0]\tvalidation_0-logloss:0.61352\n",
            "Will train until validation_0-logloss hasn't improved in 10 rounds.\n",
            "[1]\tvalidation_0-logloss:0.547842\n",
            "[2]\tvalidation_0-logloss:0.494247\n",
            "[3]\tvalidation_0-logloss:0.447986\n",
            "[4]\tvalidation_0-logloss:0.409109\n",
            "[5]\tvalidation_0-logloss:0.374977\n",
            "[6]\tvalidation_0-logloss:0.345714\n",
            "[7]\tvalidation_0-logloss:0.320529\n",
            "[8]\tvalidation_0-logloss:0.29721\n",
            "[9]\tvalidation_0-logloss:0.277991\n",
            "[10]\tvalidation_0-logloss:0.260302\n",
            "[11]\tvalidation_0-logloss:0.246037\n",
            "[12]\tvalidation_0-logloss:0.231556\n",
            "[13]\tvalidation_0-logloss:0.22005\n",
            "[14]\tvalidation_0-logloss:0.208572\n",
            "[15]\tvalidation_0-logloss:0.199993\n",
            "[16]\tvalidation_0-logloss:0.190118\n",
            "[17]\tvalidation_0-logloss:0.181818\n",
            "[18]\tvalidation_0-logloss:0.174729\n",
            "[19]\tvalidation_0-logloss:0.167657\n",
            "[20]\tvalidation_0-logloss:0.158202\n",
            "[21]\tvalidation_0-logloss:0.154725\n",
            "[22]\tvalidation_0-logloss:0.148947\n",
            "[23]\tvalidation_0-logloss:0.143308\n",
            "[24]\tvalidation_0-logloss:0.136344\n",
            "[25]\tvalidation_0-logloss:0.132778\n",
            "[26]\tvalidation_0-logloss:0.127912\n",
            "[27]\tvalidation_0-logloss:0.125263\n",
            "[28]\tvalidation_0-logloss:0.119978\n",
            "[29]\tvalidation_0-logloss:0.116412\n",
            "[30]\tvalidation_0-logloss:0.114502\n",
            "[31]\tvalidation_0-logloss:0.112572\n",
            "[32]\tvalidation_0-logloss:0.11154\n",
            "[33]\tvalidation_0-logloss:0.108681\n",
            "[34]\tvalidation_0-logloss:0.106681\n",
            "[35]\tvalidation_0-logloss:0.104207\n",
            "[36]\tvalidation_0-logloss:0.102962\n",
            "[37]\tvalidation_0-logloss:0.100576\n",
            "[38]\tvalidation_0-logloss:0.098683\n",
            "[39]\tvalidation_0-logloss:0.096444\n",
            "[40]\tvalidation_0-logloss:0.095869\n",
            "[41]\tvalidation_0-logloss:0.094242\n",
            "[42]\tvalidation_0-logloss:0.094715\n",
            "[43]\tvalidation_0-logloss:0.094272\n",
            "[44]\tvalidation_0-logloss:0.093894\n",
            "[45]\tvalidation_0-logloss:0.094184\n",
            "[46]\tvalidation_0-logloss:0.09402\n",
            "[47]\tvalidation_0-logloss:0.09236\n",
            "[48]\tvalidation_0-logloss:0.093012\n",
            "[49]\tvalidation_0-logloss:0.091272\n",
            "[50]\tvalidation_0-logloss:0.090051\n",
            "[51]\tvalidation_0-logloss:0.089605\n",
            "[52]\tvalidation_0-logloss:0.089577\n",
            "[53]\tvalidation_0-logloss:0.090703\n",
            "[54]\tvalidation_0-logloss:0.089579\n",
            "[55]\tvalidation_0-logloss:0.090357\n",
            "[56]\tvalidation_0-logloss:0.091587\n",
            "[57]\tvalidation_0-logloss:0.091527\n",
            "[58]\tvalidation_0-logloss:0.091986\n",
            "[59]\tvalidation_0-logloss:0.091951\n",
            "[60]\tvalidation_0-logloss:0.091939\n",
            "[61]\tvalidation_0-logloss:0.091461\n",
            "[62]\tvalidation_0-logloss:0.090311\n",
            "Stopping. Best iteration:\n",
            "[52]\tvalidation_0-logloss:0.089577\n",
            "\n",
            "오차 행렬\n",
            "[[34  3]\n",
            " [ 2 75]]\n",
            "정확도: 0.9561, 정밀도: 0.9615, 재현율: 0.9740,    F1: 0.9677, AUC:0.9465\n"
          ]
        }
      ]
    },
    {
      "cell_type": "markdown",
      "source": [
        "시각화"
      ],
      "metadata": {
        "id": "J5h49829Vb6g"
      }
    },
    {
      "cell_type": "code",
      "source": [
        "from xgboost import plot_importance\n",
        "import matplotlib.pyplot as plt\n",
        "%matplotlib inline\n",
        "\n",
        "fig, ax = plt.subplots(figsize=(10, 12))\n",
        "# 사이킷런 래퍼 클래스를 입력해도 무방. \n",
        "plot_importance(xgb_wrapper, ax=ax)"
      ],
      "metadata": {
        "colab": {
          "base_uri": "https://localhost:8080/",
          "height": 749
        },
        "id": "PIu781_aVbVn",
        "outputId": "e6c0b3a4-573b-4f4d-87f4-baea93c7e1fd"
      },
      "execution_count": null,
      "outputs": [
        {
          "output_type": "execute_result",
          "data": {
            "text/plain": [
              "<matplotlib.axes._subplots.AxesSubplot at 0x7f65b795b050>"
            ]
          },
          "metadata": {},
          "execution_count": 21
        },
        {
          "output_type": "display_data",
          "data": {
            "text/plain": [
              "<Figure size 720x864 with 1 Axes>"
            ],
            "image/png": "[encoded data removed]"
          },
          "metadata": {
            "needs_background": "light"
          }
        }
      ]
    },
    {
      "cell_type": "markdown",
      "source": [
        "#2. LightGBM"
      ],
      "metadata": {
        "id": "hwEsfyhqVgLO"
      }
    },
    {
      "cell_type": "markdown",
      "source": [
        "- 학습에 걸리는 시간이 훨씬 적음\n",
        "- 메모리 사용량도 상대적으로 적음\n",
        "- 성능 차이는 없음\n",
        "- 적은 테스트 데이터를 사용하면 과적합 발생이 쉬움\n",
        "- 기존 트리 분할 방법과 다르게 리프 중심 트리 분할 방식을 이용"
      ],
      "metadata": {
        "id": "suf6Y6D6VteB"
      }
    },
    {
      "cell_type": "code",
      "source": [
        "# LightGBM의 파이썬 패키지인 lightgbm에서 LGBMClassifier 임포트\n",
        "from lightgbm import LGBMClassifier\n",
        "\n",
        "import pandas as pd\n",
        "import numpy as np\n",
        "from sklearn.datasets import load_breast_cancer\n",
        "from sklearn.model_selection import train_test_split\n",
        "\n",
        "dataset = load_breast_cancer()\n",
        "ftr = dataset.data\n",
        "target = dataset.target\n",
        "\n",
        "# 전체 데이터 중 80%는 학습용 데이터, 20%는 테스트용 데이터 추출\n",
        "X_train, X_test, y_train, y_test=train_test_split(ftr, target, test_size=0.2, random_state=156 )\n",
        "\n",
        "# 앞서 XGBoost와 동일하게 n_estimators는 400 설정. \n",
        "lgbm_wrapper = LGBMClassifier(n_estimators=400)\n",
        "\n",
        "# LightGBM도 XGBoost와 동일하게 조기 중단 수행 가능. \n",
        "evals = [(X_test, y_test)]\n",
        "lgbm_wrapper.fit(X_train, y_train, early_stopping_rounds=100, eval_metric=\"logloss\", \n",
        "                 eval_set=evals, verbose=True)\n",
        "preds = lgbm_wrapper.predict(X_test)"
      ],
      "metadata": {
        "colab": {
          "base_uri": "https://localhost:8080/"
        },
        "id": "IvJnTIt_WxKI",
        "outputId": "415dc02a-dab3-4a62-9708-814b19b00e0b"
      },
      "execution_count": null,
      "outputs": [
        {
          "output_type": "stream",
          "name": "stdout",
          "text": [
            "[1]\tvalid_0's binary_logloss: 0.565079\tvalid_0's binary_logloss: 0.565079\n",
            "Training until validation scores don't improve for 100 rounds.\n",
            "[2]\tvalid_0's binary_logloss: 0.507451\tvalid_0's binary_logloss: 0.507451\n",
            "[3]\tvalid_0's binary_logloss: 0.458489\tvalid_0's binary_logloss: 0.458489\n",
            "[4]\tvalid_0's binary_logloss: 0.417481\tvalid_0's binary_logloss: 0.417481\n",
            "[5]\tvalid_0's binary_logloss: 0.385507\tvalid_0's binary_logloss: 0.385507\n",
            "[6]\tvalid_0's binary_logloss: 0.355846\tvalid_0's binary_logloss: 0.355846\n",
            "[7]\tvalid_0's binary_logloss: 0.330897\tvalid_0's binary_logloss: 0.330897\n",
            "[8]\tvalid_0's binary_logloss: 0.306923\tvalid_0's binary_logloss: 0.306923\n",
            "[9]\tvalid_0's binary_logloss: 0.28776\tvalid_0's binary_logloss: 0.28776\n",
            "[10]\tvalid_0's binary_logloss: 0.26917\tvalid_0's binary_logloss: 0.26917\n",
            "[11]\tvalid_0's binary_logloss: 0.250954\tvalid_0's binary_logloss: 0.250954\n",
            "[12]\tvalid_0's binary_logloss: 0.23847\tvalid_0's binary_logloss: 0.23847\n",
            "[13]\tvalid_0's binary_logloss: 0.225865\tvalid_0's binary_logloss: 0.225865\n",
            "[14]\tvalid_0's binary_logloss: 0.215076\tvalid_0's binary_logloss: 0.215076\n",
            "[15]\tvalid_0's binary_logloss: 0.205996\tvalid_0's binary_logloss: 0.205996\n",
            "[16]\tvalid_0's binary_logloss: 0.196091\tvalid_0's binary_logloss: 0.196091\n",
            "[17]\tvalid_0's binary_logloss: 0.186395\tvalid_0's binary_logloss: 0.186395\n",
            "[18]\tvalid_0's binary_logloss: 0.17942\tvalid_0's binary_logloss: 0.17942\n",
            "[19]\tvalid_0's binary_logloss: 0.174727\tvalid_0's binary_logloss: 0.174727\n",
            "[20]\tvalid_0's binary_logloss: 0.168563\tvalid_0's binary_logloss: 0.168563\n",
            "[21]\tvalid_0's binary_logloss: 0.165432\tvalid_0's binary_logloss: 0.165432\n",
            "[22]\tvalid_0's binary_logloss: 0.160356\tvalid_0's binary_logloss: 0.160356\n",
            "[23]\tvalid_0's binary_logloss: 0.155508\tvalid_0's binary_logloss: 0.155508\n",
            "[24]\tvalid_0's binary_logloss: 0.151598\tvalid_0's binary_logloss: 0.151598\n",
            "[25]\tvalid_0's binary_logloss: 0.149861\tvalid_0's binary_logloss: 0.149861\n",
            "[26]\tvalid_0's binary_logloss: 0.149873\tvalid_0's binary_logloss: 0.149873\n",
            "[27]\tvalid_0's binary_logloss: 0.147032\tvalid_0's binary_logloss: 0.147032\n",
            "[28]\tvalid_0's binary_logloss: 0.145077\tvalid_0's binary_logloss: 0.145077\n",
            "[29]\tvalid_0's binary_logloss: 0.139891\tvalid_0's binary_logloss: 0.139891\n",
            "[30]\tvalid_0's binary_logloss: 0.137416\tvalid_0's binary_logloss: 0.137416\n",
            "[31]\tvalid_0's binary_logloss: 0.138393\tvalid_0's binary_logloss: 0.138393\n",
            "[32]\tvalid_0's binary_logloss: 0.135948\tvalid_0's binary_logloss: 0.135948\n",
            "[33]\tvalid_0's binary_logloss: 0.132968\tvalid_0's binary_logloss: 0.132968\n",
            "[34]\tvalid_0's binary_logloss: 0.129697\tvalid_0's binary_logloss: 0.129697\n",
            "[35]\tvalid_0's binary_logloss: 0.131102\tvalid_0's binary_logloss: 0.131102\n",
            "[36]\tvalid_0's binary_logloss: 0.129382\tvalid_0's binary_logloss: 0.129382\n",
            "[37]\tvalid_0's binary_logloss: 0.128044\tvalid_0's binary_logloss: 0.128044\n",
            "[38]\tvalid_0's binary_logloss: 0.127325\tvalid_0's binary_logloss: 0.127325\n",
            "[39]\tvalid_0's binary_logloss: 0.128091\tvalid_0's binary_logloss: 0.128091\n",
            "[40]\tvalid_0's binary_logloss: 0.129045\tvalid_0's binary_logloss: 0.129045\n",
            "[41]\tvalid_0's binary_logloss: 0.127023\tvalid_0's binary_logloss: 0.127023\n",
            "[42]\tvalid_0's binary_logloss: 0.129314\tvalid_0's binary_logloss: 0.129314\n",
            "[43]\tvalid_0's binary_logloss: 0.129175\tvalid_0's binary_logloss: 0.129175\n",
            "[44]\tvalid_0's binary_logloss: 0.128212\tvalid_0's binary_logloss: 0.128212\n",
            "[45]\tvalid_0's binary_logloss: 0.126664\tvalid_0's binary_logloss: 0.126664\n",
            "[46]\tvalid_0's binary_logloss: 0.127662\tvalid_0's binary_logloss: 0.127662\n",
            "[47]\tvalid_0's binary_logloss: 0.126108\tvalid_0's binary_logloss: 0.126108\n",
            "[48]\tvalid_0's binary_logloss: 0.129371\tvalid_0's binary_logloss: 0.129371\n",
            "[49]\tvalid_0's binary_logloss: 0.129573\tvalid_0's binary_logloss: 0.129573\n",
            "[50]\tvalid_0's binary_logloss: 0.130876\tvalid_0's binary_logloss: 0.130876\n",
            "[51]\tvalid_0's binary_logloss: 0.131366\tvalid_0's binary_logloss: 0.131366\n",
            "[52]\tvalid_0's binary_logloss: 0.131336\tvalid_0's binary_logloss: 0.131336\n",
            "[53]\tvalid_0's binary_logloss: 0.13208\tvalid_0's binary_logloss: 0.13208\n",
            "[54]\tvalid_0's binary_logloss: 0.13306\tvalid_0's binary_logloss: 0.13306\n",
            "[55]\tvalid_0's binary_logloss: 0.132342\tvalid_0's binary_logloss: 0.132342\n",
            "[56]\tvalid_0's binary_logloss: 0.134836\tvalid_0's binary_logloss: 0.134836\n",
            "[57]\tvalid_0's binary_logloss: 0.135208\tvalid_0's binary_logloss: 0.135208\n",
            "[58]\tvalid_0's binary_logloss: 0.13328\tvalid_0's binary_logloss: 0.13328\n",
            "[59]\tvalid_0's binary_logloss: 0.134147\tvalid_0's binary_logloss: 0.134147\n",
            "[60]\tvalid_0's binary_logloss: 0.134549\tvalid_0's binary_logloss: 0.134549\n",
            "[61]\tvalid_0's binary_logloss: 0.133202\tvalid_0's binary_logloss: 0.133202\n",
            "[62]\tvalid_0's binary_logloss: 0.135726\tvalid_0's binary_logloss: 0.135726\n",
            "[63]\tvalid_0's binary_logloss: 0.134011\tvalid_0's binary_logloss: 0.134011\n",
            "[64]\tvalid_0's binary_logloss: 0.131493\tvalid_0's binary_logloss: 0.131493\n",
            "[65]\tvalid_0's binary_logloss: 0.134114\tvalid_0's binary_logloss: 0.134114\n",
            "[66]\tvalid_0's binary_logloss: 0.134525\tvalid_0's binary_logloss: 0.134525\n",
            "[67]\tvalid_0's binary_logloss: 0.131412\tvalid_0's binary_logloss: 0.131412\n",
            "[68]\tvalid_0's binary_logloss: 0.12878\tvalid_0's binary_logloss: 0.12878\n",
            "[69]\tvalid_0's binary_logloss: 0.129571\tvalid_0's binary_logloss: 0.129571\n",
            "[70]\tvalid_0's binary_logloss: 0.129671\tvalid_0's binary_logloss: 0.129671\n",
            "[71]\tvalid_0's binary_logloss: 0.129935\tvalid_0's binary_logloss: 0.129935\n",
            "[72]\tvalid_0's binary_logloss: 0.128951\tvalid_0's binary_logloss: 0.128951\n",
            "[73]\tvalid_0's binary_logloss: 0.128977\tvalid_0's binary_logloss: 0.128977\n",
            "[74]\tvalid_0's binary_logloss: 0.127121\tvalid_0's binary_logloss: 0.127121\n",
            "[75]\tvalid_0's binary_logloss: 0.128107\tvalid_0's binary_logloss: 0.128107\n",
            "[76]\tvalid_0's binary_logloss: 0.129796\tvalid_0's binary_logloss: 0.129796\n",
            "[77]\tvalid_0's binary_logloss: 0.131663\tvalid_0's binary_logloss: 0.131663\n",
            "[78]\tvalid_0's binary_logloss: 0.132483\tvalid_0's binary_logloss: 0.132483\n",
            "[79]\tvalid_0's binary_logloss: 0.131578\tvalid_0's binary_logloss: 0.131578\n",
            "[80]\tvalid_0's binary_logloss: 0.130352\tvalid_0's binary_logloss: 0.130352\n",
            "[81]\tvalid_0's binary_logloss: 0.129895\tvalid_0's binary_logloss: 0.129895\n",
            "[82]\tvalid_0's binary_logloss: 0.131587\tvalid_0's binary_logloss: 0.131587\n",
            "[83]\tvalid_0's binary_logloss: 0.132763\tvalid_0's binary_logloss: 0.132763\n",
            "[84]\tvalid_0's binary_logloss: 0.133677\tvalid_0's binary_logloss: 0.133677\n",
            "[85]\tvalid_0's binary_logloss: 0.137552\tvalid_0's binary_logloss: 0.137552\n",
            "[86]\tvalid_0's binary_logloss: 0.136055\tvalid_0's binary_logloss: 0.136055\n",
            "[87]\tvalid_0's binary_logloss: 0.137904\tvalid_0's binary_logloss: 0.137904\n",
            "[88]\tvalid_0's binary_logloss: 0.139524\tvalid_0's binary_logloss: 0.139524\n",
            "[89]\tvalid_0's binary_logloss: 0.138434\tvalid_0's binary_logloss: 0.138434\n",
            "[90]\tvalid_0's binary_logloss: 0.138402\tvalid_0's binary_logloss: 0.138402\n",
            "[91]\tvalid_0's binary_logloss: 0.139384\tvalid_0's binary_logloss: 0.139384\n",
            "[92]\tvalid_0's binary_logloss: 0.139642\tvalid_0's binary_logloss: 0.139642\n",
            "[93]\tvalid_0's binary_logloss: 0.138006\tvalid_0's binary_logloss: 0.138006\n",
            "[94]\tvalid_0's binary_logloss: 0.141612\tvalid_0's binary_logloss: 0.141612\n",
            "[95]\tvalid_0's binary_logloss: 0.142319\tvalid_0's binary_logloss: 0.142319\n",
            "[96]\tvalid_0's binary_logloss: 0.145095\tvalid_0's binary_logloss: 0.145095\n",
            "[97]\tvalid_0's binary_logloss: 0.141542\tvalid_0's binary_logloss: 0.141542\n",
            "[98]\tvalid_0's binary_logloss: 0.144993\tvalid_0's binary_logloss: 0.144993\n",
            "[99]\tvalid_0's binary_logloss: 0.147936\tvalid_0's binary_logloss: 0.147936\n",
            "[100]\tvalid_0's binary_logloss: 0.147432\tvalid_0's binary_logloss: 0.147432\n",
            "[101]\tvalid_0's binary_logloss: 0.149689\tvalid_0's binary_logloss: 0.149689\n",
            "[102]\tvalid_0's binary_logloss: 0.153542\tvalid_0's binary_logloss: 0.153542\n",
            "[103]\tvalid_0's binary_logloss: 0.154556\tvalid_0's binary_logloss: 0.154556\n",
            "[104]\tvalid_0's binary_logloss: 0.155458\tvalid_0's binary_logloss: 0.155458\n",
            "[105]\tvalid_0's binary_logloss: 0.159357\tvalid_0's binary_logloss: 0.159357\n",
            "[106]\tvalid_0's binary_logloss: 0.160176\tvalid_0's binary_logloss: 0.160176\n",
            "[107]\tvalid_0's binary_logloss: 0.163369\tvalid_0's binary_logloss: 0.163369\n",
            "[108]\tvalid_0's binary_logloss: 0.163494\tvalid_0's binary_logloss: 0.163494\n",
            "[109]\tvalid_0's binary_logloss: 0.161111\tvalid_0's binary_logloss: 0.161111\n",
            "[110]\tvalid_0's binary_logloss: 0.16332\tvalid_0's binary_logloss: 0.16332\n",
            "[111]\tvalid_0's binary_logloss: 0.1663\tvalid_0's binary_logloss: 0.1663\n",
            "[112]\tvalid_0's binary_logloss: 0.166363\tvalid_0's binary_logloss: 0.166363\n",
            "[113]\tvalid_0's binary_logloss: 0.169834\tvalid_0's binary_logloss: 0.169834\n",
            "[114]\tvalid_0's binary_logloss: 0.166509\tvalid_0's binary_logloss: 0.166509\n",
            "[115]\tvalid_0's binary_logloss: 0.165823\tvalid_0's binary_logloss: 0.165823\n",
            "[116]\tvalid_0's binary_logloss: 0.167059\tvalid_0's binary_logloss: 0.167059\n",
            "[117]\tvalid_0's binary_logloss: 0.169086\tvalid_0's binary_logloss: 0.169086\n",
            "[118]\tvalid_0's binary_logloss: 0.170012\tvalid_0's binary_logloss: 0.170012\n",
            "[119]\tvalid_0's binary_logloss: 0.168639\tvalid_0's binary_logloss: 0.168639\n",
            "[120]\tvalid_0's binary_logloss: 0.16907\tvalid_0's binary_logloss: 0.16907\n",
            "[121]\tvalid_0's binary_logloss: 0.16918\tvalid_0's binary_logloss: 0.16918\n",
            "[122]\tvalid_0's binary_logloss: 0.170233\tvalid_0's binary_logloss: 0.170233\n",
            "[123]\tvalid_0's binary_logloss: 0.165655\tvalid_0's binary_logloss: 0.165655\n",
            "[124]\tvalid_0's binary_logloss: 0.16695\tvalid_0's binary_logloss: 0.16695\n",
            "[125]\tvalid_0's binary_logloss: 0.170955\tvalid_0's binary_logloss: 0.170955\n",
            "[126]\tvalid_0's binary_logloss: 0.168916\tvalid_0's binary_logloss: 0.168916\n",
            "[127]\tvalid_0's binary_logloss: 0.172316\tvalid_0's binary_logloss: 0.172316\n",
            "[128]\tvalid_0's binary_logloss: 0.173734\tvalid_0's binary_logloss: 0.173734\n",
            "[129]\tvalid_0's binary_logloss: 0.174309\tvalid_0's binary_logloss: 0.174309\n",
            "[130]\tvalid_0's binary_logloss: 0.176719\tvalid_0's binary_logloss: 0.176719\n",
            "[131]\tvalid_0's binary_logloss: 0.176591\tvalid_0's binary_logloss: 0.176591\n",
            "[132]\tvalid_0's binary_logloss: 0.180168\tvalid_0's binary_logloss: 0.180168\n",
            "[133]\tvalid_0's binary_logloss: 0.179856\tvalid_0's binary_logloss: 0.179856\n",
            "[134]\tvalid_0's binary_logloss: 0.179251\tvalid_0's binary_logloss: 0.179251\n",
            "[135]\tvalid_0's binary_logloss: 0.18315\tvalid_0's binary_logloss: 0.18315\n",
            "[136]\tvalid_0's binary_logloss: 0.184656\tvalid_0's binary_logloss: 0.184656\n",
            "[137]\tvalid_0's binary_logloss: 0.187475\tvalid_0's binary_logloss: 0.187475\n",
            "[138]\tvalid_0's binary_logloss: 0.188721\tvalid_0's binary_logloss: 0.188721\n",
            "[139]\tvalid_0's binary_logloss: 0.188542\tvalid_0's binary_logloss: 0.188542\n",
            "[140]\tvalid_0's binary_logloss: 0.18817\tvalid_0's binary_logloss: 0.18817\n",
            "[141]\tvalid_0's binary_logloss: 0.185899\tvalid_0's binary_logloss: 0.185899\n",
            "[142]\tvalid_0's binary_logloss: 0.185452\tvalid_0's binary_logloss: 0.185452\n",
            "[143]\tvalid_0's binary_logloss: 0.186084\tvalid_0's binary_logloss: 0.186084\n",
            "[144]\tvalid_0's binary_logloss: 0.185302\tvalid_0's binary_logloss: 0.185302\n",
            "[145]\tvalid_0's binary_logloss: 0.187856\tvalid_0's binary_logloss: 0.187856\n",
            "[146]\tvalid_0's binary_logloss: 0.190334\tvalid_0's binary_logloss: 0.190334\n",
            "[147]\tvalid_0's binary_logloss: 0.192769\tvalid_0's binary_logloss: 0.192769\n",
            "Early stopping, best iteration is:\n",
            "[47]\tvalid_0's binary_logloss: 0.126108\tvalid_0's binary_logloss: 0.126108\n"
          ]
        }
      ]
    },
    {
      "cell_type": "code",
      "source": [
        "get_clf_eval(y_test, preds)"
      ],
      "metadata": {
        "colab": {
          "base_uri": "https://localhost:8080/"
        },
        "id": "9sxs6sZEW-n-",
        "outputId": "2c4172f9-b446-44ed-c342-0366f08052f7"
      },
      "execution_count": null,
      "outputs": [
        {
          "output_type": "stream",
          "name": "stdout",
          "text": [
            "오차 행렬\n",
            "[[33  4]\n",
            " [ 2 75]]\n",
            "정확도: 0.9474, 정밀도: 0.9494, 재현율: 0.9740,    F1: 0.9615, AUC:0.9330\n"
          ]
        }
      ]
    },
    {
      "cell_type": "markdown",
      "source": [
        "시각화"
      ],
      "metadata": {
        "id": "msDQZAqfXEvX"
      }
    },
    {
      "cell_type": "code",
      "source": [
        "# plot_importance( )를 이용하여 feature 중요도 시각화\n",
        "from lightgbm import plot_importance\n",
        "import matplotlib.pyplot as plt\n",
        "%matplotlib inline\n",
        "\n",
        "fig, ax = plt.subplots(figsize=(10, 12))\n",
        "plot_importance(lgbm_wrapper, ax=ax)"
      ],
      "metadata": {
        "colab": {
          "base_uri": "https://localhost:8080/",
          "height": 749
        },
        "id": "39Dj37oPXEJK",
        "outputId": "ec95c522-8399-41a6-9d72-22b036d7c608"
      },
      "execution_count": null,
      "outputs": [
        {
          "output_type": "execute_result",
          "data": {
            "text/plain": [
              "<matplotlib.axes._subplots.AxesSubplot at 0x7f65b6bdc910>"
            ]
          },
          "metadata": {},
          "execution_count": 28
        },
        {
          "output_type": "display_data",
          "data": {
            "text/plain": [
              "<Figure size 720x864 with 1 Axes>"
            ],
            "image/png": "[encoded data removed]"
          },
          "metadata": {
            "needs_background": "light"
          }
        }
      ]
    },
    {
      "cell_type": "markdown",
      "source": [
        "#3.스태킹 앙상블"
      ],
      "metadata": {
        "id": "4zloVvw0r1nW"
      }
    },
    {
      "cell_type": "markdown",
      "source": [
        "- 여러 알고리즘을 서로 결합해 예측 결과를 도출한다는 점에서 앞에 소개된 배깅,부스팅과 공통점을 갖고 있음. 하지만 개별 알고리즘으로 예측한 데이터를 기반으로 다시 예측을 수행한다는 점이 차이점\n",
        "- 개별 알고리즘의 예측결과 데이터 세드를 최종적인 메타 데이터 세트로 만들어 별도의 ML 알고리즘으로 최종 학습을수행한 후 테스트 데이터를 기반으로 다시 최종 예측을 수행"
      ],
      "metadata": {
        "id": "XccERg7mr7E-"
      }
    },
    {
      "cell_type": "code",
      "source": [
        "import numpy as np\n",
        "\n",
        "from sklearn.neighbors import KNeighborsClassifier\n",
        "from sklearn.ensemble import RandomForestClassifier\n",
        "from sklearn.ensemble import AdaBoostClassifier\n",
        "from sklearn.tree import DecisionTreeClassifier\n",
        "from sklearn.linear_model import LogisticRegression\n",
        "\n",
        "from sklearn.datasets import load_breast_cancer\n",
        "from sklearn.model_selection import train_test_split\n",
        "from sklearn.metrics import accuracy_score\n",
        "\n",
        "cancer_data = load_breast_cancer()\n",
        "\n",
        "X_data = cancer_data.data\n",
        "y_label = cancer_data.target\n",
        "\n",
        "X_train , X_test , y_train , y_test = train_test_split(X_data , y_label , test_size=0.2 , random_state=0)"
      ],
      "metadata": {
        "id": "00l_Iegur4dX"
      },
      "execution_count": 7,
      "outputs": []
    },
    {
      "cell_type": "code",
      "source": [
        "# 개별 ML 모델을 위한 Classifier 생성.\n",
        "knn_clf  = KNeighborsClassifier(n_neighbors=4)\n",
        "rf_clf = RandomForestClassifier(n_estimators=100, random_state=0)\n",
        "dt_clf = DecisionTreeClassifier()\n",
        "ada_clf = AdaBoostClassifier(n_estimators=100)\n",
        "\n",
        "# 최종 Stacking 모델을 위한 Classifier생성. \n",
        "lr_final = LogisticRegression(C=10)"
      ],
      "metadata": {
        "id": "8XBP6ocStUIB"
      },
      "execution_count": 8,
      "outputs": []
    },
    {
      "cell_type": "code",
      "source": [
        "# 개별 모델들을 학습. \n",
        "knn_clf.fit(X_train, y_train)\n",
        "rf_clf.fit(X_train , y_train)\n",
        "dt_clf.fit(X_train , y_train)\n",
        "ada_clf.fit(X_train, y_train)"
      ],
      "metadata": {
        "colab": {
          "base_uri": "https://localhost:8080/"
        },
        "id": "MggULCbqtWKp",
        "outputId": "1d4c8a62-a38e-41aa-bd87-088dd42203ec"
      },
      "execution_count": 9,
      "outputs": [
        {
          "output_type": "execute_result",
          "data": {
            "text/plain": [
              "AdaBoostClassifier(n_estimators=100)"
            ]
          },
          "metadata": {},
          "execution_count": 9
        }
      ]
    },
    {
      "cell_type": "code",
      "source": [
        "# 학습된 개별 모델들이 각자 반환하는 예측 데이터 셋을 생성하고 개별 모델의 정확도 측정. \n",
        "knn_pred = knn_clf.predict(X_test)\n",
        "rf_pred = rf_clf.predict(X_test)\n",
        "dt_pred = dt_clf.predict(X_test)\n",
        "ada_pred = ada_clf.predict(X_test)\n",
        "\n",
        "print('KNN 정확도: {0:.4f}'.format(accuracy_score(y_test, knn_pred)))\n",
        "print('랜덤 포레스트 정확도: {0:.4f}'.format(accuracy_score(y_test, rf_pred)))\n",
        "print('결정 트리 정확도: {0:.4f}'.format(accuracy_score(y_test, dt_pred)))\n",
        "print('에이다부스트 정확도: {0:.4f} :'.format(accuracy_score(y_test, ada_pred)))"
      ],
      "metadata": {
        "colab": {
          "base_uri": "https://localhost:8080/"
        },
        "id": "QoIHLCJ0tbVF",
        "outputId": "7948d0ad-f1fa-477c-992b-9ceae3c61640"
      },
      "execution_count": 10,
      "outputs": [
        {
          "output_type": "stream",
          "name": "stdout",
          "text": [
            "KNN 정확도: 0.9211\n",
            "랜덤 포레스트 정확도: 0.9649\n",
            "결정 트리 정확도: 0.9035\n",
            "에이다부스트 정확도: 0.9561 :\n"
          ]
        }
      ]
    },
    {
      "cell_type": "markdown",
      "source": [
        "- 개별 알고리즘으로부터 예측된 예측값을 갈럼 레벨로 옆으로 붙여서 피처 값으로 만들고 최종 메타 모델인 로지스틱 회귀에서 학습 데이터로 다시 사용\n",
        "\n"
      ],
      "metadata": {
        "id": "eBDUjW-dtjEf"
      }
    },
    {
      "cell_type": "code",
      "source": [
        "pred = np.array([knn_pred, rf_pred, dt_pred, ada_pred])\n",
        "print(pred.shape)\n",
        "\n",
        "# transpose를 이용해 행과 열의 위치 교환. 컬럼 레벨로 각 알고리즘의 예측 결과를 피처로 만듦. \n",
        "pred = np.transpose(pred)\n",
        "print(pred.shape)"
      ],
      "metadata": {
        "colab": {
          "base_uri": "https://localhost:8080/"
        },
        "id": "q3nlEWE7t9H-",
        "outputId": "ea656e51-dc5f-46aa-de34-74956ca83b3f"
      },
      "execution_count": 11,
      "outputs": [
        {
          "output_type": "stream",
          "name": "stdout",
          "text": [
            "(4, 114)\n",
            "(114, 4)\n"
          ]
        }
      ]
    },
    {
      "cell_type": "code",
      "source": [
        "lr_final.fit(pred, y_test)\n",
        "final = lr_final.predict(pred)\n",
        "\n",
        "print('최종 메타 모델의 예측 정확도: {0:.4f}'.format(accuracy_score(y_test , final)))"
      ],
      "metadata": {
        "colab": {
          "base_uri": "https://localhost:8080/"
        },
        "id": "5hAEaKtfuAfc",
        "outputId": "5120b9b7-a651-483f-a090-1625a275a8bc"
      },
      "execution_count": 12,
      "outputs": [
        {
          "output_type": "stream",
          "name": "stdout",
          "text": [
            "최종 메타 모델의 예측 정확도: 0.9737\n"
          ]
        }
      ]
    },
    {
      "cell_type": "markdown",
      "source": [
        "#CV 세트 기반의 스태킹\n",
        "- 과적합을 개선하기 위해 최종 메타 모델을 위한 데이터 세트를 만들 때 교차 검증 기반으로 예측된 결과 데이터 세트를 이용\n",
        "- 앞 예테는 최종 학습지 레이블 데이터 세트로 학습 데이터가 아닌 테스트용 레이블 데이터 세트를 기반으로 학습하여 과적합 문제 발생\n",
        "- 개별 모델들이 각각 교차 검증으로 메타 모델을 위한 학습용 스태킹 데이터 생성과 예측을 위한 데스트용 스태킹 데이터를 생성한 뒤 이를 기반으로 메타 모델이 학습과 예측을 수행"
      ],
      "metadata": {
        "id": "ORtm_bAmuEfr"
      }
    },
    {
      "cell_type": "code",
      "source": [
        "from sklearn.model_selection import KFold\n",
        "from sklearn.metrics import mean_absolute_error\n",
        "\n",
        "# 개별 기반 모델에서 최종 메타 모델이 사용할 학습 및 테스트용 데이터를 생성하기 위한 함수. \n",
        "def get_stacking_base_datasets(model, X_train_n, y_train_n, X_test_n, n_folds ):\n",
        "    # 지정된 n_folds값으로 KFold 생성.\n",
        "    kf = KFold(n_splits=n_folds, shuffle=True, random_state=0)\n",
        "    #추후에 메타 모델이 사용할 학습 데이터 반환을 위한 넘파이 배열 초기화 \n",
        "    train_fold_pred = np.zeros((X_train_n.shape[0] ,1 ))\n",
        "    test_pred = np.zeros((X_test_n.shape[0],n_folds))\n",
        "    print(model.__class__.__name__ , ' model 시작 ')\n",
        "    \n",
        "    for folder_counter , (train_index, valid_index) in enumerate(kf.split(X_train_n)):\n",
        "        #입력된 학습 데이터에서 기반 모델이 학습/예측할 폴드 데이터 셋 추출 \n",
        "        print('\\t 폴드 세트: ',folder_counter,' 시작 ')\n",
        "        X_tr = X_train_n[train_index] \n",
        "        y_tr = y_train_n[train_index] \n",
        "        X_te = X_train_n[valid_index]  \n",
        "        \n",
        "        #폴드 세트 내부에서 다시 만들어진 학습 데이터로 기반 모델의 학습 수행.\n",
        "        model.fit(X_tr , y_tr)       \n",
        "        #폴드 세트 내부에서 다시 만들어진 검증 데이터로 기반 모델 예측 후 데이터 저장.\n",
        "        train_fold_pred[valid_index, :] = model.predict(X_te).reshape(-1,1)\n",
        "        #입력된 원본 테스트 데이터를 폴드 세트내 학습된 기반 모델에서 예측 후 데이터 저장. \n",
        "        test_pred[:, folder_counter] = model.predict(X_test_n)\n",
        "            \n",
        "    # 폴드 세트 내에서 원본 테스트 데이터를 예측한 데이터를 평균하여 테스트 데이터로 생성 \n",
        "    test_pred_mean = np.mean(test_pred, axis=1).reshape(-1,1)    \n",
        "    \n",
        "    #train_fold_pred는 최종 메타 모델이 사용하는 학습 데이터, test_pred_mean은 테스트 데이터\n",
        "    return train_fold_pred , test_pred_mean"
      ],
      "metadata": {
        "id": "BBTkze2XviXJ"
      },
      "execution_count": 20,
      "outputs": []
    },
    {
      "cell_type": "code",
      "source": [
        "knn_train, knn_test = get_stacking_base_datasets(knn_clf, X_train, y_train, X_test,7)\n",
        "rf_train, rf_test = get_stacking_base_datasets(rf_clf, X_train, y_train, X_test, 7)\n",
        "dt_train, dt_test = get_stacking_base_datasets(dt_clf, X_train, y_train, X_test,  7)    \n",
        "ada_train, ada_test = get_stacking_base_datasets(ada_clf, X_train, y_train, X_test, 7)"
      ],
      "metadata": {
        "colab": {
          "base_uri": "https://localhost:8080/"
        },
        "id": "Qrkzh0qjvoEK",
        "outputId": "0d381e59-db9b-416b-e0aa-3150f054e63e"
      },
      "execution_count": 21,
      "outputs": [
        {
          "output_type": "stream",
          "name": "stdout",
          "text": [
            "KNeighborsClassifier  model 시작 \n",
            "\t 폴드 세트:  0  시작 \n",
            "\t 폴드 세트:  1  시작 \n",
            "\t 폴드 세트:  2  시작 \n",
            "\t 폴드 세트:  3  시작 \n",
            "\t 폴드 세트:  4  시작 \n",
            "\t 폴드 세트:  5  시작 \n",
            "\t 폴드 세트:  6  시작 \n",
            "RandomForestClassifier  model 시작 \n",
            "\t 폴드 세트:  0  시작 \n",
            "\t 폴드 세트:  1  시작 \n",
            "\t 폴드 세트:  2  시작 \n",
            "\t 폴드 세트:  3  시작 \n",
            "\t 폴드 세트:  4  시작 \n",
            "\t 폴드 세트:  5  시작 \n",
            "\t 폴드 세트:  6  시작 \n",
            "DecisionTreeClassifier  model 시작 \n",
            "\t 폴드 세트:  0  시작 \n",
            "\t 폴드 세트:  1  시작 \n",
            "\t 폴드 세트:  2  시작 \n",
            "\t 폴드 세트:  3  시작 \n",
            "\t 폴드 세트:  4  시작 \n",
            "\t 폴드 세트:  5  시작 \n",
            "\t 폴드 세트:  6  시작 \n",
            "AdaBoostClassifier  model 시작 \n",
            "\t 폴드 세트:  0  시작 \n",
            "\t 폴드 세트:  1  시작 \n",
            "\t 폴드 세트:  2  시작 \n",
            "\t 폴드 세트:  3  시작 \n",
            "\t 폴드 세트:  4  시작 \n",
            "\t 폴드 세트:  5  시작 \n",
            "\t 폴드 세트:  6  시작 \n"
          ]
        }
      ]
    },
    {
      "cell_type": "code",
      "source": [
        "Stack_final_X_train = np.concatenate((knn_train, rf_train, dt_train, ada_train), axis=1)\n",
        "Stack_final_X_test = np.concatenate((knn_test, rf_test, dt_test, ada_test), axis=1)\n",
        "print('원본 학습 피처 데이터 Shape:',X_train.shape, '원본 테스트 피처 Shape:',X_test.shape)\n",
        "print('스태킹 학습 피처 데이터 Shape:', Stack_final_X_train.shape,\n",
        "      '스태킹 테스트 피처 데이터 Shape:',Stack_final_X_test.shape)"
      ],
      "metadata": {
        "colab": {
          "base_uri": "https://localhost:8080/"
        },
        "id": "hRY1bX-wwNAa",
        "outputId": "daa94a8e-c1b3-4d60-8497-87d2d6c6cf27"
      },
      "execution_count": 22,
      "outputs": [
        {
          "output_type": "stream",
          "name": "stdout",
          "text": [
            "원본 학습 피처 데이터 Shape: (455, 30) 원본 테스트 피처 Shape: (114, 30)\n",
            "스태킹 학습 피처 데이터 Shape: (455, 4) 스태킹 테스트 피처 데이터 Shape: (114, 4)\n"
          ]
        }
      ]
    },
    {
      "cell_type": "markdown",
      "source": [
        "이렇게 만들어진 데이터로 메타 모델에 적용"
      ],
      "metadata": {
        "id": "3rdeok6-wcKL"
      }
    },
    {
      "cell_type": "code",
      "source": [
        "lr_final.fit(Stack_final_X_train, y_train)\n",
        "stack_final = lr_final.predict(Stack_final_X_test)\n",
        "\n",
        "print('최종 메타 모델의 예측 정확도: {0:.4f}'.format(accuracy_score(y_test, stack_final)))"
      ],
      "metadata": {
        "colab": {
          "base_uri": "https://localhost:8080/"
        },
        "id": "XMvfwPNwwbt1",
        "outputId": "2afaba83-7f0f-46fa-9b0c-8e79db6ee481"
      },
      "execution_count": 23,
      "outputs": [
        {
          "output_type": "stream",
          "name": "stdout",
          "text": [
            "최종 메타 모델의 예측 정확도: 0.9737\n"
          ]
        }
      ]
    }
  ]
}